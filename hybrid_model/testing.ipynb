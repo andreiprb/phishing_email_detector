{
 "cells": [
  {
   "cell_type": "code",
   "execution_count": 6,
   "id": "initial_id",
   "metadata": {
    "ExecuteTime": {
     "start_time": "2025-05-02T09:01:46.978978Z"
    },
    "collapsed": true
   },
   "outputs": [],
   "source": [
    "from hybrid_model.HybridEmailDetector import HybridEmailDetector"
   ]
  },
  {
   "cell_type": "code",
   "execution_count": 7,
   "id": "3f48eb54efd4a0eb",
   "metadata": {
    "ExecuteTime": {
     "start_time": "2025-05-02T09:02:32.145106Z"
    }
   },
   "outputs": [],
   "source": [
    "from rag_model.core.SpamDetector import SpamDetector"
   ]
  },
  {
   "cell_type": "code",
   "execution_count": 8,
   "id": "bd6f5228957314fa",
   "metadata": {
    "ExecuteTime": {
     "end_time": "2025-05-02T10:32:21.511672Z",
     "start_time": "2025-05-02T10:32:12.666006Z"
    }
   },
   "outputs": [],
   "source": [
    "from transformer_model.transformer_model import EmailClassifier"
   ]
  },
  {
   "cell_type": "code",
   "execution_count": 9,
   "id": "eb3f70798d3980cf",
   "metadata": {
    "ExecuteTime": {
     "end_time": "2025-05-02T09:21:28.157554Z",
     "start_time": "2025-05-02T09:21:28.153200Z"
    }
   },
   "outputs": [],
   "source": [
    "from pathlib import Path\n",
    "\n",
    "abs_path = Path().resolve()"
   ]
  },
  {
   "cell_type": "code",
   "execution_count": 10,
   "id": "fec03185dc0412b",
   "metadata": {
    "ExecuteTime": {
     "end_time": "2025-05-02T09:21:32.354432Z",
     "start_time": "2025-05-02T09:21:32.343839Z"
    }
   },
   "outputs": [
    {
     "data": {
      "text/plain": [
       "WindowsPath('C:/Users/soltu/Documents/Facultate/Alba/repo/phishing_email_detector_sandbox/hybrid_model')"
      ]
     },
     "execution_count": 10,
     "metadata": {},
     "output_type": "execute_result"
    }
   ],
   "source": [
    "abs_path"
   ]
  },
  {
   "cell_type": "code",
   "execution_count": 11,
   "id": "56818ab9b8f9fccf",
   "metadata": {
    "ExecuteTime": {
     "end_time": "2025-05-02T09:22:06.276572Z",
     "start_time": "2025-05-02T09:22:06.273082Z"
    }
   },
   "outputs": [],
   "source": [
    "project_path = abs_path.parent"
   ]
  },
  {
   "cell_type": "code",
   "execution_count": 12,
   "id": "7a109e6b4322d694",
   "metadata": {
    "ExecuteTime": {
     "end_time": "2025-05-02T09:22:14.899020Z",
     "start_time": "2025-05-02T09:22:14.893336Z"
    }
   },
   "outputs": [
    {
     "data": {
      "text/plain": [
       "WindowsPath('C:/Users/soltu/Documents/Facultate/Alba/repo/phishing_email_detector_sandbox')"
      ]
     },
     "execution_count": 12,
     "metadata": {},
     "output_type": "execute_result"
    }
   ],
   "source": [
    "project_path"
   ]
  },
  {
   "cell_type": "code",
   "execution_count": 13,
   "id": "7db803969db98b5d",
   "metadata": {
    "ExecuteTime": {
     "end_time": "2025-05-02T09:22:53.902250Z",
     "start_time": "2025-05-02T09:22:53.897934Z"
    }
   },
   "outputs": [],
   "source": [
    "models_dir = project_path / \"data/models/\"\n",
    "datasets_dir = project_path / \"data/datasets/\""
   ]
  },
  {
   "cell_type": "code",
   "execution_count": 14,
   "id": "221b7a8a",
   "metadata": {
    "ExecuteTime": {
     "end_time": "2025-05-02T09:23:39.368537Z",
     "start_time": "2025-05-02T09:23:23.757958Z"
    }
   },
   "outputs": [
    {
     "name": "stdout",
     "output_type": "stream",
     "text": [
      "CPU\n",
      "Loading model from C:\\Users\\soltu\\Documents\\Facultate\\Alba\\repo\\phishing_email_detector_sandbox\\data\\models\\transformer_model.h5...\n",
      "WARNING:tensorflow:From c:\\Users\\soltu\\Anaconda3\\envs\\AlbaI\\Lib\\site-packages\\keras\\src\\backend\\tensorflow\\core.py:219: The name tf.placeholder is deprecated. Please use tf.compat.v1.placeholder instead.\n",
      "\n"
     ]
    },
    {
     "name": "stderr",
     "output_type": "stream",
     "text": [
      "WARNING:absl:Compiled the loaded model, but the compiled metrics have yet to be built. `model.compile_metrics` will be empty until you train or evaluate the model.\n"
     ]
    },
    {
     "name": "stdout",
     "output_type": "stream",
     "text": [
      "Loaded 114307 total samples, 22862 test samples.\n"
     ]
    }
   ],
   "source": [
    "transf_model = EmailClassifier(model_path=str(models_dir / \"transformer_model.h5\"), data_dir=str(datasets_dir))"
   ]
  },
  {
   "cell_type": "code",
   "execution_count": 15,
   "id": "8b88c2dbfb906206",
   "metadata": {
    "ExecuteTime": {
     "end_time": "2025-05-02T09:18:37.914437Z",
     "start_time": "2025-05-02T09:18:37.909988Z"
    }
   },
   "outputs": [],
   "source": [
    "from rag_model.core.index import load_sample"
   ]
  },
  {
   "cell_type": "code",
   "execution_count": 16,
   "id": "a8fff593da9f3384",
   "metadata": {
    "ExecuteTime": {
     "end_time": "2025-05-02T09:40:16.005774Z",
     "start_time": "2025-05-02T09:40:14.505375Z"
    }
   },
   "outputs": [],
   "source": [
    "spam_sample, ham_sample = load_sample(datasets_dir / \"CEAS_08.csv\", sample_size=1)"
   ]
  },
  {
   "cell_type": "code",
   "execution_count": 17,
   "id": "f72ae7d74f2a0548",
   "metadata": {
    "ExecuteTime": {
     "end_time": "2025-05-02T09:40:16.067770Z",
     "start_time": "2025-05-02T09:40:16.059990Z"
    }
   },
   "outputs": [],
   "source": [
    "body_spam, subject_spam = spam_sample.iloc[0][\"body\"], spam_sample.iloc[0][\"subject\"]"
   ]
  },
  {
   "cell_type": "code",
   "execution_count": 18,
   "id": "43078de51717b5bb",
   "metadata": {
    "ExecuteTime": {
     "end_time": "2025-05-02T09:40:16.099002Z",
     "start_time": "2025-05-02T09:40:16.088836Z"
    }
   },
   "outputs": [],
   "source": [
    "body_ham, subject_ham = ham_sample.iloc[0][\"body\"], ham_sample.iloc[0][\"subject\"]"
   ]
  },
  {
   "cell_type": "code",
   "execution_count": 19,
   "id": "1eaea617746a9be3",
   "metadata": {
    "ExecuteTime": {
     "end_time": "2025-05-02T09:40:17.007152Z",
     "start_time": "2025-05-02T09:40:16.882361Z"
    }
   },
   "outputs": [
    {
     "name": "stdout",
     "output_type": "stream",
     "text": [
      "\u001b[1m1/1\u001b[0m \u001b[32m━━━━━━━━━━━━━━━━━━━━\u001b[0m\u001b[37m\u001b[0m \u001b[1m1s\u001b[0m 757ms/step\n"
     ]
    },
    {
     "data": {
      "text/plain": [
       "(False, 0.446367084980011)"
      ]
     },
     "execution_count": 19,
     "metadata": {},
     "output_type": "execute_result"
    }
   ],
   "source": [
    "transf_model.predict_email(subject_spam, body_spam)"
   ]
  },
  {
   "cell_type": "code",
   "execution_count": 20,
   "id": "8255a413d6233fa5",
   "metadata": {
    "ExecuteTime": {
     "end_time": "2025-05-02T09:40:17.211955Z",
     "start_time": "2025-05-02T09:40:17.094781Z"
    }
   },
   "outputs": [
    {
     "name": "stdout",
     "output_type": "stream",
     "text": [
      "\u001b[1m1/1\u001b[0m \u001b[32m━━━━━━━━━━━━━━━━━━━━\u001b[0m\u001b[37m\u001b[0m \u001b[1m0s\u001b[0m 78ms/step\n"
     ]
    },
    {
     "data": {
      "text/plain": [
       "(False, 0.446367084980011)"
      ]
     },
     "execution_count": 20,
     "metadata": {},
     "output_type": "execute_result"
    }
   ],
   "source": [
    "transf_model.predict_email(subject_ham, body_ham)"
   ]
  },
  {
   "cell_type": "code",
   "execution_count": 21,
   "id": "6dc38182a8bb7412",
   "metadata": {
    "ExecuteTime": {
     "end_time": "2025-05-02T10:32:45.050472Z",
     "start_time": "2025-05-02T10:32:33.509916Z"
    }
   },
   "outputs": [],
   "source": [
    "from rag_model.core.SpamDetector import SpamDetector"
   ]
  },
  {
   "cell_type": "code",
   "execution_count": 22,
   "id": "41e4e61c916aa445",
   "metadata": {
    "ExecuteTime": {
     "end_time": "2025-05-02T10:32:47.826405Z",
     "start_time": "2025-05-02T10:32:47.051372Z"
    }
   },
   "outputs": [],
   "source": [
    "from metadata_model.metadata_model_wrapper import MetadataModelWrapper"
   ]
  },
  {
   "cell_type": "code",
   "execution_count": 23,
   "id": "728c7b5762a3a50a",
   "metadata": {
    "ExecuteTime": {
     "end_time": "2025-05-02T10:32:49.635212Z",
     "start_time": "2025-05-02T10:32:49.621824Z"
    }
   },
   "outputs": [],
   "source": [
    "from hybrid_model.HybridEmailDetector import HybridEmailDetector"
   ]
  },
  {
   "cell_type": "code",
   "execution_count": null,
   "id": "aa20b43f4b09331f",
   "metadata": {
    "ExecuteTime": {
     "end_time": "2025-05-02T10:33:29.722976Z",
     "start_time": "2025-05-02T10:33:02.101025Z"
    }
   },
   "outputs": [],
   "source": [
    "hybrid_detector = HybridEmailDetector()"
   ]
  },
  {
   "cell_type": "code",
   "execution_count": null,
   "id": "a8e9ffe7e5f76cac",
   "metadata": {},
   "outputs": [],
   "source": []
  }
 ],
 "metadata": {
  "kernelspec": {
   "display_name": "AlbaI",
   "language": "python",
   "name": "python3"
  },
  "language_info": {
   "codemirror_mode": {
    "name": "ipython",
    "version": 3
   },
   "file_extension": ".py",
   "mimetype": "text/x-python",
   "name": "python",
   "nbconvert_exporter": "python",
   "pygments_lexer": "ipython3",
   "version": "3.12.9"
  }
 },
 "nbformat": 4,
 "nbformat_minor": 5
}
