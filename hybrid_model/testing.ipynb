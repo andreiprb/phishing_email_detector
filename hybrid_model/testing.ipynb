{
 "cells": [
  {
   "cell_type": "code",
   "id": "initial_id",
   "metadata": {
    "collapsed": true,
    "ExecuteTime": {
     "start_time": "2025-05-02T09:01:46.978978Z"
    }
   },
   "source": [
    "from HybridEmailDetector import HybridEmailDetector"
   ],
   "outputs": [],
   "execution_count": null
  },
  {
   "cell_type": "code",
   "id": "3f48eb54efd4a0eb",
   "metadata": {
    "ExecuteTime": {
     "start_time": "2025-05-02T09:02:32.145106Z"
    }
   },
   "source": [
    "from rag_model.core.SpamDetector import SpamDetector"
   ],
   "outputs": [],
   "execution_count": null
  },
  {
   "cell_type": "code",
   "id": "bd6f5228957314fa",
   "metadata": {
    "ExecuteTime": {
     "end_time": "2025-05-02T10:32:21.511672Z",
     "start_time": "2025-05-02T10:32:12.666006Z"
    }
   },
   "source": [
    "from transformer_model.transformer_model import EmailClassifier"
   ],
   "outputs": [],
   "execution_count": 1
  },
  {
   "metadata": {
    "ExecuteTime": {
     "end_time": "2025-05-02T09:21:28.157554Z",
     "start_time": "2025-05-02T09:21:28.153200Z"
    }
   },
   "cell_type": "code",
   "source": [
    "from pathlib import Path\n",
    "\n",
    "abs_path = Path().resolve()"
   ],
   "id": "eb3f70798d3980cf",
   "outputs": [],
   "execution_count": 16
  },
  {
   "metadata": {
    "ExecuteTime": {
     "end_time": "2025-05-02T09:21:32.354432Z",
     "start_time": "2025-05-02T09:21:32.343839Z"
    }
   },
   "cell_type": "code",
   "source": "abs_path",
   "id": "fec03185dc0412b",
   "outputs": [
    {
     "data": {
      "text/plain": [
       "WindowsPath('C:/Users/ignat/PycharmProjects/phishing_email_detector_sandbox/hybrid_model')"
      ]
     },
     "execution_count": 17,
     "metadata": {},
     "output_type": "execute_result"
    }
   ],
   "execution_count": 17
  },
  {
   "metadata": {
    "ExecuteTime": {
     "end_time": "2025-05-02T09:22:06.276572Z",
     "start_time": "2025-05-02T09:22:06.273082Z"
    }
   },
   "cell_type": "code",
   "source": "project_path = abs_path.parent",
   "id": "56818ab9b8f9fccf",
   "outputs": [],
   "execution_count": 18
  },
  {
   "metadata": {
    "ExecuteTime": {
     "end_time": "2025-05-02T09:22:14.899020Z",
     "start_time": "2025-05-02T09:22:14.893336Z"
    }
   },
   "cell_type": "code",
   "source": "project_path",
   "id": "7a109e6b4322d694",
   "outputs": [
    {
     "data": {
      "text/plain": [
       "WindowsPath('C:/Users/ignat/PycharmProjects/phishing_email_detector_sandbox')"
      ]
     },
     "execution_count": 19,
     "metadata": {},
     "output_type": "execute_result"
    }
   ],
   "execution_count": 19
  },
  {
   "metadata": {
    "ExecuteTime": {
     "end_time": "2025-05-02T09:22:53.902250Z",
     "start_time": "2025-05-02T09:22:53.897934Z"
    }
   },
   "cell_type": "code",
   "source": [
    "models_dir = project_path / \"data/models/\"\n",
    "datasets_dir = project_path / \"data/datasets/\""
   ],
   "id": "7db803969db98b5d",
   "outputs": [],
   "execution_count": 21
  },
  {
   "cell_type": "code",
   "id": "221b7a8a",
   "metadata": {
    "ExecuteTime": {
     "end_time": "2025-05-02T09:23:39.368537Z",
     "start_time": "2025-05-02T09:23:23.757958Z"
    }
   },
   "source": "transf_model = EmailClassifier(model_path=str(models_dir / \"transformer_model.h5\"), data_dir=str(datasets_dir))",
   "outputs": [
    {
     "name": "stdout",
     "output_type": "stream",
     "text": [
      "CPU\n",
      "Loading model from C:\\Users\\ignat\\PycharmProjects\\phishing_email_detector_sandbox\\data\\models\\transformer_model.h5...\n",
      "WARNING:tensorflow:From C:\\Users\\ignat\\miniconda3\\envs\\pishing_env\\Lib\\site-packages\\keras\\src\\backend\\tensorflow\\core.py:219: The name tf.placeholder is deprecated. Please use tf.compat.v1.placeholder instead.\n",
      "\n"
     ]
    },
    {
     "name": "stderr",
     "output_type": "stream",
     "text": [
      "2025-05-02 12:23:23,935 - WARNING - From C:\\Users\\ignat\\miniconda3\\envs\\pishing_env\\Lib\\site-packages\\keras\\src\\backend\\tensorflow\\core.py:219: The name tf.placeholder is deprecated. Please use tf.compat.v1.placeholder instead.\n",
      "\n",
      "2025-05-02 12:23:24,525 - WARNING - Compiled the loaded model, but the compiled metrics have yet to be built. `model.compile_metrics` will be empty until you train or evaluate the model.\n"
     ]
    },
    {
     "name": "stdout",
     "output_type": "stream",
     "text": [
      "Loaded 115872 total samples, 23175 test samples.\n"
     ]
    }
   ],
   "execution_count": 22
  },
  {
   "cell_type": "code",
   "id": "8b88c2dbfb906206",
   "metadata": {
    "ExecuteTime": {
     "end_time": "2025-05-02T09:18:37.914437Z",
     "start_time": "2025-05-02T09:18:37.909988Z"
    }
   },
   "source": "from rag_model.core.index import load_sample",
   "outputs": [],
   "execution_count": 9
  },
  {
   "metadata": {
    "ExecuteTime": {
     "end_time": "2025-05-02T09:40:16.005774Z",
     "start_time": "2025-05-02T09:40:14.505375Z"
    }
   },
   "cell_type": "code",
   "source": "spam_sample, ham_sample = load_sample(datasets_dir / \"CEAS_08.csv\", sample_size=1)",
   "id": "a8fff593da9f3384",
   "outputs": [
    {
     "name": "stderr",
     "output_type": "stream",
     "text": [
      "2025-05-02 12:40:15,983 - INFO - Successfully loaded CSV with 39154 rows and 7 columns\n"
     ]
    }
   ],
   "execution_count": 93
  },
  {
   "metadata": {
    "ExecuteTime": {
     "end_time": "2025-05-02T09:40:16.067770Z",
     "start_time": "2025-05-02T09:40:16.059990Z"
    }
   },
   "cell_type": "code",
   "source": "body_spam, subject_spam = spam_sample.iloc[0][\"body\"], spam_sample.iloc[0][\"subject\"]",
   "id": "f72ae7d74f2a0548",
   "outputs": [],
   "execution_count": 94
  },
  {
   "metadata": {
    "ExecuteTime": {
     "end_time": "2025-05-02T09:40:16.099002Z",
     "start_time": "2025-05-02T09:40:16.088836Z"
    }
   },
   "cell_type": "code",
   "source": "body_ham, subject_ham = ham_sample.iloc[0][\"body\"], ham_sample.iloc[0][\"subject\"]",
   "id": "43078de51717b5bb",
   "outputs": [],
   "execution_count": 95
  },
  {
   "metadata": {
    "ExecuteTime": {
     "end_time": "2025-05-02T09:40:17.007152Z",
     "start_time": "2025-05-02T09:40:16.882361Z"
    }
   },
   "cell_type": "code",
   "source": "transf_model.predict_email(subject_spam, body_spam)",
   "id": "1eaea617746a9be3",
   "outputs": [
    {
     "name": "stdout",
     "output_type": "stream",
     "text": [
      "\u001B[1m1/1\u001B[0m \u001B[32m━━━━━━━━━━━━━━━━━━━━\u001B[0m\u001B[37m\u001B[0m \u001B[1m0s\u001B[0m 59ms/step\n"
     ]
    },
    {
     "data": {
      "text/plain": [
       "(False, 0.4235232472419739)"
      ]
     },
     "execution_count": 96,
     "metadata": {},
     "output_type": "execute_result"
    }
   ],
   "execution_count": 96
  },
  {
   "metadata": {
    "ExecuteTime": {
     "end_time": "2025-05-02T09:40:17.211955Z",
     "start_time": "2025-05-02T09:40:17.094781Z"
    }
   },
   "cell_type": "code",
   "source": "transf_model.predict_email(subject_ham, body_ham)",
   "id": "8255a413d6233fa5",
   "outputs": [
    {
     "name": "stdout",
     "output_type": "stream",
     "text": [
      "\u001B[1m1/1\u001B[0m \u001B[32m━━━━━━━━━━━━━━━━━━━━\u001B[0m\u001B[37m\u001B[0m \u001B[1m0s\u001B[0m 51ms/step\n"
     ]
    },
    {
     "data": {
      "text/plain": [
       "(False, 2.8071274300600635e-06)"
      ]
     },
     "execution_count": 97,
     "metadata": {},
     "output_type": "execute_result"
    }
   ],
   "execution_count": 97
  },
  {
   "metadata": {
    "ExecuteTime": {
     "end_time": "2025-05-02T10:32:45.050472Z",
     "start_time": "2025-05-02T10:32:33.509916Z"
    }
   },
   "cell_type": "code",
   "source": "from rag_model.core.SpamDetector import SpamDetector",
   "id": "6dc38182a8bb7412",
   "outputs": [],
   "execution_count": 2
  },
  {
   "metadata": {
    "ExecuteTime": {
     "end_time": "2025-05-02T10:32:47.826405Z",
     "start_time": "2025-05-02T10:32:47.051372Z"
    }
   },
   "cell_type": "code",
   "source": "from metadata_model.metadata_model_wrapper import MetadataModelWrapper",
   "id": "41e4e61c916aa445",
   "outputs": [],
   "execution_count": 3
  },
  {
   "metadata": {
    "ExecuteTime": {
     "end_time": "2025-05-02T10:32:49.635212Z",
     "start_time": "2025-05-02T10:32:49.621824Z"
    }
   },
   "cell_type": "code",
   "source": "from hybrid_model.HybridEmailDetector import HybridEmailDetector",
   "id": "728c7b5762a3a50a",
   "outputs": [],
   "execution_count": 4
  },
  {
   "metadata": {
    "ExecuteTime": {
     "end_time": "2025-05-02T10:33:29.722976Z",
     "start_time": "2025-05-02T10:33:02.101025Z"
    }
   },
   "cell_type": "code",
   "source": "hybrid_detector = HybridEmailDetector()",
   "id": "aa20b43f4b09331f",
   "outputs": [
    {
     "name": "stdout",
     "output_type": "stream",
     "text": [
      "CPU\n",
      "Loading model from C:\\Users\\ignat\\PycharmProjects\\phishing_email_detector_sandbox\\data\\models\\transformer_model.h5...\n",
      "WARNING:tensorflow:From C:\\Users\\ignat\\miniconda3\\envs\\pishing_env\\Lib\\site-packages\\keras\\src\\backend\\tensorflow\\core.py:219: The name tf.placeholder is deprecated. Please use tf.compat.v1.placeholder instead.\n",
      "\n"
     ]
    },
    {
     "name": "stderr",
     "output_type": "stream",
     "text": [
      "WARNING:absl:Compiled the loaded model, but the compiled metrics have yet to be built. `model.compile_metrics` will be empty until you train or evaluate the model.\n"
     ]
    },
    {
     "name": "stdout",
     "output_type": "stream",
     "text": [
      "Loaded 115872 total samples, 23175 test samples.\n"
     ]
    },
    {
     "name": "stderr",
     "output_type": "stream",
     "text": [
      "C:\\Users\\ignat\\PycharmProjects\\phishing_email_detector_sandbox\\metadata_model\\metadata_model_wrapper.py:22: FutureWarning: You are using `torch.load` with `weights_only=False` (the current default value), which uses the default pickle module implicitly. It is possible to construct malicious pickle data which will execute arbitrary code during unpickling (See https://github.com/pytorch/pytorch/blob/main/SECURITY.md#untrusted-models for more details). In a future release, the default value for `weights_only` will be flipped to `True`. This limits the functions that could be executed during unpickling. Arbitrary objects will no longer be allowed to be loaded via this mode unless they are explicitly allowlisted by the user via `torch.serialization.add_safe_globals`. We recommend you start setting `weights_only=True` for any use case where you don't have full control of the loaded file. Please open an issue on GitHub for any issues related to this experimental feature.\n",
      "  self.model.load_state_dict(torch.load(model_path))\n"
     ]
    },
    {
     "ename": "RuntimeError",
     "evalue": "Error(s) in loading state_dict for NotSimpleNN:\n\tsize mismatch for fully_connected.weight: copying a param with shape torch.Size([1, 4]) from checkpoint, the shape in current model is torch.Size([1, 3]).",
     "output_type": "error",
     "traceback": [
      "\u001B[1;31m---------------------------------------------------------------------------\u001B[0m",
      "\u001B[1;31mRuntimeError\u001B[0m                              Traceback (most recent call last)",
      "Cell \u001B[1;32mIn[5], line 1\u001B[0m\n\u001B[1;32m----> 1\u001B[0m hybrid_detector \u001B[38;5;241m=\u001B[39m HybridEmailDetector()\n",
      "File \u001B[1;32m~\\PycharmProjects\\phishing_email_detector_sandbox\\hybrid_model\\HybridEmailDetector.py:28\u001B[0m, in \u001B[0;36mHybridEmailDetector.__init__\u001B[1;34m(self, index_spam_path, index_ham_path, transformer_model_path, metadata_model_path, datasets_path, confidence_treshold, tok_k)\u001B[0m\n\u001B[0;32m     22\u001B[0m \u001B[38;5;28mself\u001B[39m\u001B[38;5;241m.\u001B[39mrag_model \u001B[38;5;241m=\u001B[39m SpamDetector(\n\u001B[0;32m     23\u001B[0m     spam_index_path\u001B[38;5;241m=\u001B[39mindex_spam_path,\n\u001B[0;32m     24\u001B[0m     ham_index_path\u001B[38;5;241m=\u001B[39mindex_ham_path,\n\u001B[0;32m     25\u001B[0m     top_k\u001B[38;5;241m=\u001B[39mtok_k\n\u001B[0;32m     26\u001B[0m )\n\u001B[0;32m     27\u001B[0m \u001B[38;5;28mself\u001B[39m\u001B[38;5;241m.\u001B[39mtransformer_model \u001B[38;5;241m=\u001B[39m EmailClassifier(model_path\u001B[38;5;241m=\u001B[39m\u001B[38;5;28mstr\u001B[39m(transformer_model_path), data_dir\u001B[38;5;241m=\u001B[39m\u001B[38;5;28mstr\u001B[39m(datasets_path))\n\u001B[1;32m---> 28\u001B[0m \u001B[38;5;28mself\u001B[39m\u001B[38;5;241m.\u001B[39mmetadata_model \u001B[38;5;241m=\u001B[39m MetadataModelWrapper(model_path\u001B[38;5;241m=\u001B[39m\u001B[38;5;28mstr\u001B[39m(metadata_model_path))\n\u001B[0;32m     30\u001B[0m \u001B[38;5;28mself\u001B[39m\u001B[38;5;241m.\u001B[39mconfidence_treshold \u001B[38;5;241m=\u001B[39m confidence_treshold\n\u001B[0;32m     31\u001B[0m \u001B[38;5;28mself\u001B[39m\u001B[38;5;241m.\u001B[39mraports: \u001B[38;5;28mlist\u001B[39m[RaportModel] \u001B[38;5;241m=\u001B[39m []\n",
      "File \u001B[1;32m~\\PycharmProjects\\phishing_email_detector_sandbox\\metadata_model\\metadata_model_wrapper.py:22\u001B[0m, in \u001B[0;36mMetadataModelWrapper.__init__\u001B[1;34m(self, model_path)\u001B[0m\n\u001B[0;32m     16\u001B[0m \u001B[38;5;250m\u001B[39m\u001B[38;5;124;03m\"\"\"\u001B[39;00m\n\u001B[0;32m     17\u001B[0m \u001B[38;5;124;03mInitializes the model wrapper by loading the model from the specified path.\u001B[39;00m\n\u001B[0;32m     18\u001B[0m \u001B[38;5;124;03m\u001B[39;00m\n\u001B[0;32m     19\u001B[0m \u001B[38;5;124;03m:param model_path: Path to the saved model file.\u001B[39;00m\n\u001B[0;32m     20\u001B[0m \u001B[38;5;124;03m\"\"\"\u001B[39;00m\n\u001B[0;32m     21\u001B[0m \u001B[38;5;28mself\u001B[39m\u001B[38;5;241m.\u001B[39mmodel \u001B[38;5;241m=\u001B[39m NotSimpleNN(input_size\u001B[38;5;241m=\u001B[39m\u001B[38;5;241m3\u001B[39m)  \u001B[38;5;66;03m# Adjust input size as needed\u001B[39;00m\n\u001B[1;32m---> 22\u001B[0m \u001B[38;5;28mself\u001B[39m\u001B[38;5;241m.\u001B[39mmodel\u001B[38;5;241m.\u001B[39mload_state_dict(torch\u001B[38;5;241m.\u001B[39mload(model_path))\n\u001B[0;32m     23\u001B[0m \u001B[38;5;28mself\u001B[39m\u001B[38;5;241m.\u001B[39mmodel\u001B[38;5;241m.\u001B[39meval()\n",
      "File \u001B[1;32m~\\miniconda3\\envs\\pishing_env\\Lib\\site-packages\\torch\\nn\\modules\\module.py:2584\u001B[0m, in \u001B[0;36mModule.load_state_dict\u001B[1;34m(self, state_dict, strict, assign)\u001B[0m\n\u001B[0;32m   2576\u001B[0m         error_msgs\u001B[38;5;241m.\u001B[39minsert(\n\u001B[0;32m   2577\u001B[0m             \u001B[38;5;241m0\u001B[39m,\n\u001B[0;32m   2578\u001B[0m             \u001B[38;5;124m\"\u001B[39m\u001B[38;5;124mMissing key(s) in state_dict: \u001B[39m\u001B[38;5;132;01m{}\u001B[39;00m\u001B[38;5;124m. \u001B[39m\u001B[38;5;124m\"\u001B[39m\u001B[38;5;241m.\u001B[39mformat(\n\u001B[0;32m   2579\u001B[0m                 \u001B[38;5;124m\"\u001B[39m\u001B[38;5;124m, \u001B[39m\u001B[38;5;124m\"\u001B[39m\u001B[38;5;241m.\u001B[39mjoin(\u001B[38;5;124mf\u001B[39m\u001B[38;5;124m'\u001B[39m\u001B[38;5;124m\"\u001B[39m\u001B[38;5;132;01m{\u001B[39;00mk\u001B[38;5;132;01m}\u001B[39;00m\u001B[38;5;124m\"\u001B[39m\u001B[38;5;124m'\u001B[39m \u001B[38;5;28;01mfor\u001B[39;00m k \u001B[38;5;129;01min\u001B[39;00m missing_keys)\n\u001B[0;32m   2580\u001B[0m             ),\n\u001B[0;32m   2581\u001B[0m         )\n\u001B[0;32m   2583\u001B[0m \u001B[38;5;28;01mif\u001B[39;00m \u001B[38;5;28mlen\u001B[39m(error_msgs) \u001B[38;5;241m>\u001B[39m \u001B[38;5;241m0\u001B[39m:\n\u001B[1;32m-> 2584\u001B[0m     \u001B[38;5;28;01mraise\u001B[39;00m \u001B[38;5;167;01mRuntimeError\u001B[39;00m(\n\u001B[0;32m   2585\u001B[0m         \u001B[38;5;124m\"\u001B[39m\u001B[38;5;124mError(s) in loading state_dict for \u001B[39m\u001B[38;5;132;01m{}\u001B[39;00m\u001B[38;5;124m:\u001B[39m\u001B[38;5;130;01m\\n\u001B[39;00m\u001B[38;5;130;01m\\t\u001B[39;00m\u001B[38;5;132;01m{}\u001B[39;00m\u001B[38;5;124m\"\u001B[39m\u001B[38;5;241m.\u001B[39mformat(\n\u001B[0;32m   2586\u001B[0m             \u001B[38;5;28mself\u001B[39m\u001B[38;5;241m.\u001B[39m\u001B[38;5;18m__class__\u001B[39m\u001B[38;5;241m.\u001B[39m\u001B[38;5;18m__name__\u001B[39m, \u001B[38;5;124m\"\u001B[39m\u001B[38;5;130;01m\\n\u001B[39;00m\u001B[38;5;130;01m\\t\u001B[39;00m\u001B[38;5;124m\"\u001B[39m\u001B[38;5;241m.\u001B[39mjoin(error_msgs)\n\u001B[0;32m   2587\u001B[0m         )\n\u001B[0;32m   2588\u001B[0m     )\n\u001B[0;32m   2589\u001B[0m \u001B[38;5;28;01mreturn\u001B[39;00m _IncompatibleKeys(missing_keys, unexpected_keys)\n",
      "\u001B[1;31mRuntimeError\u001B[0m: Error(s) in loading state_dict for NotSimpleNN:\n\tsize mismatch for fully_connected.weight: copying a param with shape torch.Size([1, 4]) from checkpoint, the shape in current model is torch.Size([1, 3])."
     ]
    }
   ],
   "execution_count": 5
  },
  {
   "metadata": {},
   "cell_type": "code",
   "outputs": [],
   "execution_count": null,
   "source": "",
   "id": "a8e9ffe7e5f76cac"
  }
 ],
 "metadata": {
  "kernelspec": {
   "display_name": ".venv",
   "language": "python",
   "name": "python3"
  },
  "language_info": {
   "codemirror_mode": {
    "name": "ipython",
    "version": 3
   },
   "file_extension": ".py",
   "mimetype": "text/x-python",
   "name": "python",
   "nbconvert_exporter": "python",
   "pygments_lexer": "ipython3",
   "version": "3.12.5"
  }
 },
 "nbformat": 4,
 "nbformat_minor": 5
}
