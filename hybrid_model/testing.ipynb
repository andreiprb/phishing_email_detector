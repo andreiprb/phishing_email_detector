{
 "cells": [
  {
   "cell_type": "code",
   "execution_count": 1,
   "id": "initial_id",
   "metadata": {
    "ExecuteTime": {
     "end_time": "2025-04-26T11:10:30.506240500Z",
     "start_time": "2025-04-26T11:01:13.470126Z"
    },
    "collapsed": true
   },
   "outputs": [
    {
     "ename": "ModuleNotFoundError",
     "evalue": "No module named 'rag_model'",
     "output_type": "error",
     "traceback": [
      "\u001b[31m---------------------------------------------------------------------------\u001b[39m",
      "\u001b[31mModuleNotFoundError\u001b[39m                       Traceback (most recent call last)",
      "\u001b[36mCell\u001b[39m\u001b[36m \u001b[39m\u001b[32mIn[1]\u001b[39m\u001b[32m, line 1\u001b[39m\n\u001b[32m----> \u001b[39m\u001b[32m1\u001b[39m \u001b[38;5;28;01mfrom\u001b[39;00m\u001b[38;5;250m \u001b[39m\u001b[34;01mHybridEmailDetector\u001b[39;00m\u001b[38;5;250m \u001b[39m\u001b[38;5;28;01mimport\u001b[39;00m HybridEmailDetector\n",
      "\u001b[36mFile \u001b[39m\u001b[32mc:\\Users\\soltu\\Documents\\Facultate\\Alba\\repo\\phishing_email_detector_sandbox\\hybrid_model\\HybridEmailDetector.py:1\u001b[39m\n\u001b[32m----> \u001b[39m\u001b[32m1\u001b[39m \u001b[38;5;28;01mfrom\u001b[39;00m\u001b[38;5;250m \u001b[39m\u001b[34;01mrag_model\u001b[39;00m\u001b[34;01m.\u001b[39;00m\u001b[34;01mcore\u001b[39;00m\u001b[34;01m.\u001b[39;00m\u001b[34;01mSpamDetector\u001b[39;00m\u001b[38;5;250m \u001b[39m\u001b[38;5;28;01mimport\u001b[39;00m SpamDetector\n\u001b[32m      2\u001b[39m \u001b[38;5;28;01mfrom\u001b[39;00m\u001b[38;5;250m \u001b[39m\u001b[34;01mtransformer_model\u001b[39;00m\u001b[34;01m.\u001b[39;00m\u001b[34;01mtransformer_model\u001b[39;00m\u001b[38;5;250m \u001b[39m\u001b[38;5;28;01mimport\u001b[39;00m EmailClassifier\n\u001b[32m      3\u001b[39m \u001b[38;5;28;01mfrom\u001b[39;00m\u001b[38;5;250m \u001b[39m\u001b[34;01mmetadata_model\u001b[39;00m\u001b[34;01m.\u001b[39;00m\u001b[34;01mmetadata_model_wrapper\u001b[39;00m\u001b[38;5;250m \u001b[39m\u001b[38;5;28;01mimport\u001b[39;00m MetadataModelWrapper\n",
      "\u001b[31mModuleNotFoundError\u001b[39m: No module named 'rag_model'"
     ]
    }
   ],
   "source": [
    "from HybridEmailDetector import HybridEmailDetector"
   ]
  },
  {
   "cell_type": "code",
   "execution_count": null,
   "id": "3f48eb54efd4a0eb",
   "metadata": {
    "ExecuteTime": {
     "end_time": "2025-04-26T11:19:51.926363Z",
     "start_time": "2025-04-26T11:19:46.449695Z"
    }
   },
   "outputs": [],
   "source": [
    "from rag_model.core.SpamDetector import SpamDetector"
   ]
  },
  {
   "cell_type": "code",
   "execution_count": null,
   "id": "bd6f5228957314fa",
   "metadata": {
    "ExecuteTime": {
     "end_time": "2025-04-26T11:12:13.238142Z",
     "start_time": "2025-04-26T11:12:05.069221Z"
    }
   },
   "outputs": [],
   "source": [
    "from transformer_model.transformer_model import EmailClassifier"
   ]
  },
  {
   "cell_type": "code",
   "execution_count": 28,
   "id": "221b7a8a",
   "metadata": {},
   "outputs": [],
   "source": [
    "import sys\n",
    "import pandas as pd\n",
    "from config import METADATA_MODEL_PATH\n",
    "sys.path.append(\"..\")"
   ]
  },
  {
   "cell_type": "code",
   "execution_count": 44,
   "id": "8b88c2dbfb906206",
   "metadata": {
    "ExecuteTime": {
     "end_time": "2025-04-26T11:17:52.552125Z",
     "start_time": "2025-04-26T11:17:51.737515Z"
    }
   },
   "outputs": [
    {
     "ename": "AttributeError",
     "evalue": "'MetadataModelWrapper' object has no attribute 'get_prediction_and_confidence_from_email'",
     "output_type": "error",
     "traceback": [
      "\u001b[31m---------------------------------------------------------------------------\u001b[39m",
      "\u001b[31mAttributeError\u001b[39m                            Traceback (most recent call last)",
      "\u001b[36mCell\u001b[39m\u001b[36m \u001b[39m\u001b[32mIn[44]\u001b[39m\u001b[32m, line 5\u001b[39m\n\u001b[32m      2\u001b[39m df = pd.read_csv(\u001b[33m\"\u001b[39m\u001b[33m../.idea/dataSources/CEAS_08.csv\u001b[39m\u001b[33m\"\u001b[39m)\n\u001b[32m      4\u001b[39m modelw: MetadataModelWrapper = MetadataModelWrapper(\u001b[33m\"\u001b[39m\u001b[33m../data/models/model.pth\u001b[39m\u001b[33m\"\u001b[39m)\n\u001b[32m----> \u001b[39m\u001b[32m5\u001b[39m rez1, rez2 = \u001b[43mmodelw\u001b[49m\u001b[43m.\u001b[49m\u001b[43mget_prediction_and_confidence_from_email\u001b[49m(df)\n\u001b[32m      6\u001b[39m \u001b[38;5;28mprint\u001b[39m(rez1, rez2)\n",
      "\u001b[31mAttributeError\u001b[39m: 'MetadataModelWrapper' object has no attribute 'get_prediction_and_confidence_from_email'"
     ]
    }
   ],
   "source": [
    "from metadata_model.metadata_model_wrapper import MetadataModelWrapper\n",
    "df = pd.read_csv(\"../.idea/dataSources/CEAS_08.csv\")\n",
    "\n",
    "modelw: MetadataModelWrapper = MetadataModelWrapper(\"../data/models/model.pth\")\n",
    "rez1, rez2 = modelw.get_prediction_and_confidence_from_email(df)\n",
    "print(rez1, rez2)"
   ]
  }
 ],
 "metadata": {
  "kernelspec": {
   "display_name": ".venv",
   "language": "python",
   "name": "python3"
  },
  "language_info": {
   "codemirror_mode": {
    "name": "ipython",
    "version": 3
   },
   "file_extension": ".py",
   "mimetype": "text/x-python",
   "name": "python",
   "nbconvert_exporter": "python",
   "pygments_lexer": "ipython3",
   "version": "3.12.5"
  }
 },
 "nbformat": 4,
 "nbformat_minor": 5
}
