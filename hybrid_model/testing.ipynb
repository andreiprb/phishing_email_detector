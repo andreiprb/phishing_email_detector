{
 "cells": [
  {
   "cell_type": "code",
   "id": "initial_id",
   "metadata": {
    "collapsed": true,
    "ExecuteTime": {
     "end_time": "2025-04-26T11:10:30.506240500Z",
     "start_time": "2025-04-26T11:01:13.470126Z"
    }
   },
   "source": "from HybridEmailDetector import HybridEmailDetector",
   "outputs": [],
   "execution_count": null
  },
  {
   "metadata": {
    "ExecuteTime": {
     "end_time": "2025-04-26T11:19:51.926363Z",
     "start_time": "2025-04-26T11:19:46.449695Z"
    }
   },
   "cell_type": "code",
   "source": "from rag_model.core.SpamDetector import SpamDetector",
   "id": "3f48eb54efd4a0eb",
   "outputs": [],
   "execution_count": 8
  },
  {
   "metadata": {
    "ExecuteTime": {
     "end_time": "2025-04-26T11:12:13.238142Z",
     "start_time": "2025-04-26T11:12:05.069221Z"
    }
   },
   "cell_type": "code",
   "source": "from transformer_model.transformer_model import EmailClassifier",
   "id": "bd6f5228957314fa",
   "outputs": [],
   "execution_count": 1
  },
  {
   "metadata": {
    "ExecuteTime": {
     "end_time": "2025-04-26T11:33:50.776949Z",
     "start_time": "2025-04-26T11:33:50.667925Z"
    }
   },
   "cell_type": "code",
   "source": "from metadata_model.metadata_model_wrapper import MetadataModelWrapper",
   "id": "8b88c2dbfb906206",
   "outputs": [
    {
     "name": "stdout",
     "output_type": "stream",
     "text": [
      "Using device: cpu\n",
      "Loading file: .idea/dataSources/CEAS_08.csv\n"
     ]
    },
    {
     "ename": "AssertionError",
     "evalue": "The path .idea/dataSources/CEAS_08.csv does not point to a file",
     "output_type": "error",
     "traceback": [
      "\u001B[1;31m---------------------------------------------------------------------------\u001B[0m",
      "\u001B[1;31mAssertionError\u001B[0m                            Traceback (most recent call last)",
      "Cell \u001B[1;32mIn[13], line 1\u001B[0m\n\u001B[1;32m----> 1\u001B[0m \u001B[38;5;28;01mfrom\u001B[39;00m \u001B[38;5;21;01mmetadata_model\u001B[39;00m\u001B[38;5;21;01m.\u001B[39;00m\u001B[38;5;21;01mmetadata_model_wrapper\u001B[39;00m \u001B[38;5;28;01mimport\u001B[39;00m MetadataModelWrapper\n",
      "File \u001B[1;32m~\\PycharmProjects\\phishing_email_detector_sandbox\\metadata_model\\metadata_model_wrapper.py:2\u001B[0m\n\u001B[0;32m      1\u001B[0m \u001B[38;5;28;01mimport\u001B[39;00m \u001B[38;5;21;01mtorch\u001B[39;00m\n\u001B[1;32m----> 2\u001B[0m \u001B[38;5;28;01mfrom\u001B[39;00m \u001B[38;5;21;01mmetadata_model\u001B[39;00m\u001B[38;5;21;01m.\u001B[39;00m\u001B[38;5;21;01mmetadata_model\u001B[39;00m \u001B[38;5;28;01mimport\u001B[39;00m SimpleNN\n\u001B[0;32m      4\u001B[0m \u001B[38;5;28;01mclass\u001B[39;00m \u001B[38;5;21;01mMetadataModelWrapper\u001B[39;00m:\n\u001B[0;32m      5\u001B[0m \u001B[38;5;250m    \u001B[39m\u001B[38;5;124;03m\"\"\"\u001B[39;00m\n\u001B[0;32m      6\u001B[0m \u001B[38;5;124;03m    A wrapper class for the SimpleNN model that should load a model from a file and provide methods for getting predictions and confidence scores.\u001B[39;00m\n\u001B[0;32m      7\u001B[0m \u001B[38;5;124;03m    \"\"\"\u001B[39;00m\n",
      "File \u001B[1;32m~\\PycharmProjects\\phishing_email_detector_sandbox\\metadata_model\\metadata_model.py:38\u001B[0m\n\u001B[0;32m     20\u001B[0m emails \u001B[38;5;241m=\u001B[39m [\n\u001B[0;32m     21\u001B[0m     \u001B[38;5;124m\"\u001B[39m\u001B[38;5;124m.idea/dataSources/CEAS_08.csv\u001B[39m\u001B[38;5;124m\"\u001B[39m,\n\u001B[0;32m     22\u001B[0m     \u001B[38;5;124m\"\u001B[39m\u001B[38;5;124m.idea/dataSources/Nazario_5.csv\u001B[39m\u001B[38;5;124m\"\u001B[39m,\n\u001B[1;32m   (...)\u001B[0m\n\u001B[0;32m     26\u001B[0m     \u001B[38;5;124m\"\u001B[39m\u001B[38;5;124m.idea/dataSources/SpamAssasin.csv\u001B[39m\u001B[38;5;124m\"\u001B[39m\n\u001B[0;32m     27\u001B[0m ]\n\u001B[0;32m     29\u001B[0m label_positions \u001B[38;5;241m=\u001B[39m [\n\u001B[0;32m     30\u001B[0m     \u001B[38;5;124m\"\u001B[39m\u001B[38;5;124msecond_last\u001B[39m\u001B[38;5;124m\"\u001B[39m,\n\u001B[0;32m     31\u001B[0m     \u001B[38;5;124m\"\u001B[39m\u001B[38;5;124msecond_last\u001B[39m\u001B[38;5;124m\"\u001B[39m,\n\u001B[1;32m   (...)\u001B[0m\n\u001B[0;32m     35\u001B[0m     \u001B[38;5;124m\"\u001B[39m\u001B[38;5;124msecond_last\u001B[39m\u001B[38;5;124m\"\u001B[39m\n\u001B[0;32m     36\u001B[0m ]\n\u001B[1;32m---> 38\u001B[0m dataset \u001B[38;5;241m=\u001B[39m EmailDataset(emails, label_positions)\n\u001B[0;32m     40\u001B[0m \u001B[38;5;28mprint\u001B[39m(\u001B[38;5;124mf\u001B[39m\u001B[38;5;124m\"\u001B[39m\u001B[38;5;124mNumber of emails: \u001B[39m\u001B[38;5;132;01m{\u001B[39;00m\u001B[38;5;28mlen\u001B[39m(dataset)\u001B[38;5;132;01m}\u001B[39;00m\u001B[38;5;124m\"\u001B[39m)\n\u001B[0;32m     42\u001B[0m \u001B[38;5;28mprint\u001B[39m()\n",
      "File \u001B[1;32m~\\PycharmProjects\\phishing_email_detector_sandbox\\metadata_model\\data_holder.py:28\u001B[0m, in \u001B[0;36mEmailDataset.__init__\u001B[1;34m(self, path_csv, label_position)\u001B[0m\n\u001B[0;32m     26\u001B[0m \u001B[38;5;28;01mfor\u001B[39;00m path \u001B[38;5;129;01min\u001B[39;00m path_csv:\n\u001B[0;32m     27\u001B[0m     \u001B[38;5;28mprint\u001B[39m(\u001B[38;5;124mf\u001B[39m\u001B[38;5;124m'\u001B[39m\u001B[38;5;124mLoading file: \u001B[39m\u001B[38;5;132;01m{\u001B[39;00mpath\u001B[38;5;132;01m}\u001B[39;00m\u001B[38;5;124m'\u001B[39m)\n\u001B[1;32m---> 28\u001B[0m     \u001B[38;5;28;01massert\u001B[39;00m os\u001B[38;5;241m.\u001B[39mpath\u001B[38;5;241m.\u001B[39mexists(path) \u001B[38;5;129;01mand\u001B[39;00m os\u001B[38;5;241m.\u001B[39mpath\u001B[38;5;241m.\u001B[39misfile(path), \u001B[38;5;124mf\u001B[39m\u001B[38;5;124m'\u001B[39m\u001B[38;5;124mThe path \u001B[39m\u001B[38;5;132;01m{\u001B[39;00mpath\u001B[38;5;132;01m}\u001B[39;00m\u001B[38;5;124m does not point to a file\u001B[39m\u001B[38;5;124m'\u001B[39m\n\u001B[0;32m     30\u001B[0m \u001B[38;5;66;03m# Set default label positions if not provided\u001B[39;00m\n\u001B[0;32m     31\u001B[0m \u001B[38;5;28;01mif\u001B[39;00m label_position \u001B[38;5;129;01mis\u001B[39;00m \u001B[38;5;28;01mNone\u001B[39;00m:\n",
      "\u001B[1;31mAssertionError\u001B[0m: The path .idea/dataSources/CEAS_08.csv does not point to a file"
     ]
    }
   ],
   "execution_count": 13
  }
 ],
 "metadata": {
  "kernelspec": {
   "display_name": "Python 3",
   "language": "python",
   "name": "python3"
  },
  "language_info": {
   "codemirror_mode": {
    "name": "ipython",
    "version": 2
   },
   "file_extension": ".py",
   "mimetype": "text/x-python",
   "name": "python",
   "nbconvert_exporter": "python",
   "pygments_lexer": "ipython2",
   "version": "2.7.6"
  }
 },
 "nbformat": 4,
 "nbformat_minor": 5
}
