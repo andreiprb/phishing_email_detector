{
 "cells": [
  {
   "cell_type": "code",
   "execution_count": null,
   "id": "initial_id",
   "metadata": {
    "ExecuteTime": {
     "start_time": "2025-05-02T09:01:46.978978Z"
    },
    "collapsed": true
   },
   "outputs": [
    {
     "ename": "ModuleNotFoundError",
     "evalue": "No module named 'llama_index.embeddings.huggingface'",
     "output_type": "error",
     "traceback": [
      "\u001b[1;31m---------------------------------------------------------------------------\u001b[0m",
      "\u001b[1;31mModuleNotFoundError\u001b[0m                       Traceback (most recent call last)",
      "Cell \u001b[1;32mIn[2], line 7\u001b[0m\n\u001b[0;32m      1\u001b[0m \u001b[38;5;66;03m# import sys\u001b[39;00m\n\u001b[0;32m      2\u001b[0m \u001b[38;5;66;03m# from pathlib import Path\u001b[39;00m\n\u001b[0;32m      3\u001b[0m \n\u001b[0;32m      4\u001b[0m \u001b[38;5;66;03m# # Add the parent directory of 'hybrid_model' to the Python path\u001b[39;00m\n\u001b[0;32m      5\u001b[0m \u001b[38;5;66;03m# sys.path.append(str(Path().resolve().parent))\u001b[39;00m\n\u001b[1;32m----> 7\u001b[0m \u001b[38;5;28;01mfrom\u001b[39;00m\u001b[38;5;250m \u001b[39m\u001b[38;5;21;01mhybrid_model\u001b[39;00m\u001b[38;5;21;01m.\u001b[39;00m\u001b[38;5;21;01mHybridEmailDetector\u001b[39;00m\u001b[38;5;250m \u001b[39m\u001b[38;5;28;01mimport\u001b[39;00m HybridEmailDetector\n",
      "File \u001b[1;32m~\\Documents\\Facultate\\Alba\\repo\\phishing_email_detector_sandbox\\hybrid_model\\HybridEmailDetector.py:4\u001b[0m\n\u001b[0;32m      1\u001b[0m \u001b[38;5;28;01mimport\u001b[39;00m\u001b[38;5;250m \u001b[39m\u001b[38;5;21;01mpandas\u001b[39;00m\u001b[38;5;250m \u001b[39m\u001b[38;5;28;01mas\u001b[39;00m\u001b[38;5;250m \u001b[39m\u001b[38;5;21;01mpd\u001b[39;00m\n\u001b[0;32m      2\u001b[0m \u001b[38;5;28;01mfrom\u001b[39;00m\u001b[38;5;250m \u001b[39m\u001b[38;5;21;01mpathlib\u001b[39;00m\u001b[38;5;250m \u001b[39m\u001b[38;5;28;01mimport\u001b[39;00m Path\n\u001b[1;32m----> 4\u001b[0m \u001b[38;5;28;01mfrom\u001b[39;00m\u001b[38;5;250m \u001b[39m\u001b[38;5;21;01mrag_model\u001b[39;00m\u001b[38;5;21;01m.\u001b[39;00m\u001b[38;5;21;01mcore\u001b[39;00m\u001b[38;5;21;01m.\u001b[39;00m\u001b[38;5;21;01mSpamDetector\u001b[39;00m\u001b[38;5;250m \u001b[39m\u001b[38;5;28;01mimport\u001b[39;00m SpamDetector\n\u001b[0;32m      5\u001b[0m \u001b[38;5;28;01mfrom\u001b[39;00m\u001b[38;5;250m \u001b[39m\u001b[38;5;21;01mtransformer_model\u001b[39;00m\u001b[38;5;21;01m.\u001b[39;00m\u001b[38;5;21;01mtransformer_model\u001b[39;00m\u001b[38;5;250m \u001b[39m\u001b[38;5;28;01mimport\u001b[39;00m EmailClassifier\n\u001b[0;32m      6\u001b[0m \u001b[38;5;28;01mfrom\u001b[39;00m\u001b[38;5;250m \u001b[39m\u001b[38;5;21;01mmetadata_model\u001b[39;00m\u001b[38;5;21;01m.\u001b[39;00m\u001b[38;5;21;01mmetadata_model_wrapper\u001b[39;00m\u001b[38;5;250m \u001b[39m\u001b[38;5;28;01mimport\u001b[39;00m MetadataModelWrapper\n",
      "File \u001b[1;32m~\\Documents\\Facultate\\Alba\\repo\\phishing_email_detector_sandbox\\rag_model\\core\\SpamDetector.py:9\u001b[0m\n\u001b[0;32m      7\u001b[0m \u001b[38;5;28;01mfrom\u001b[39;00m\u001b[38;5;250m \u001b[39m\u001b[38;5;21;01mllama_index\u001b[39;00m\u001b[38;5;21;01m.\u001b[39;00m\u001b[38;5;21;01mcore\u001b[39;00m\u001b[38;5;21;01m.\u001b[39;00m\u001b[38;5;21;01mbase\u001b[39;00m\u001b[38;5;21;01m.\u001b[39;00m\u001b[38;5;21;01membeddings\u001b[39;00m\u001b[38;5;21;01m.\u001b[39;00m\u001b[38;5;21;01mbase\u001b[39;00m\u001b[38;5;250m \u001b[39m\u001b[38;5;28;01mimport\u001b[39;00m BaseEmbedding\n\u001b[0;32m      8\u001b[0m \u001b[38;5;28;01mfrom\u001b[39;00m\u001b[38;5;250m \u001b[39m\u001b[38;5;21;01mllama_index\u001b[39;00m\u001b[38;5;21;01m.\u001b[39;00m\u001b[38;5;21;01mcore\u001b[39;00m\u001b[38;5;21;01m.\u001b[39;00m\u001b[38;5;21;01mbase\u001b[39;00m\u001b[38;5;21;01m.\u001b[39;00m\u001b[38;5;21;01mllms\u001b[39;00m\u001b[38;5;21;01m.\u001b[39;00m\u001b[38;5;21;01mbase\u001b[39;00m\u001b[38;5;250m \u001b[39m\u001b[38;5;28;01mimport\u001b[39;00m BaseLLM\n\u001b[1;32m----> 9\u001b[0m \u001b[38;5;28;01mfrom\u001b[39;00m\u001b[38;5;250m \u001b[39m\u001b[38;5;21;01mllama_index\u001b[39;00m\u001b[38;5;21;01m.\u001b[39;00m\u001b[38;5;21;01membeddings\u001b[39;00m\u001b[38;5;21;01m.\u001b[39;00m\u001b[38;5;21;01mhuggingface\u001b[39;00m\u001b[38;5;250m \u001b[39m\u001b[38;5;28;01mimport\u001b[39;00m HuggingFaceEmbedding\n\u001b[0;32m     10\u001b[0m \u001b[38;5;28;01mfrom\u001b[39;00m\u001b[38;5;250m \u001b[39m\u001b[38;5;21;01mllama_index\u001b[39;00m\u001b[38;5;21;01m.\u001b[39;00m\u001b[38;5;21;01mllms\u001b[39;00m\u001b[38;5;21;01m.\u001b[39;00m\u001b[38;5;21;01mgroq\u001b[39;00m\u001b[38;5;250m \u001b[39m\u001b[38;5;28;01mimport\u001b[39;00m Groq\n\u001b[0;32m     11\u001b[0m \u001b[38;5;28;01mfrom\u001b[39;00m\u001b[38;5;250m \u001b[39m\u001b[38;5;21;01mllama_index\u001b[39;00m\u001b[38;5;21;01m.\u001b[39;00m\u001b[38;5;21;01mcore\u001b[39;00m\u001b[38;5;21;01m.\u001b[39;00m\u001b[38;5;21;01mschema\u001b[39;00m\u001b[38;5;250m \u001b[39m\u001b[38;5;28;01mimport\u001b[39;00m NodeWithScore\n",
      "\u001b[1;31mModuleNotFoundError\u001b[0m: No module named 'llama_index.embeddings.huggingface'"
     ]
    }
   ],
   "source": [
    "from hybrid_model.HybridEmailDetector import HybridEmailDetector"
   ]
  },
  {
   "cell_type": "code",
   "execution_count": 48,
   "id": "3f48eb54efd4a0eb",
   "metadata": {
    "ExecuteTime": {
     "start_time": "2025-05-02T09:02:32.145106Z"
    }
   },
   "outputs": [
    {
     "ename": "ModuleNotFoundError",
     "evalue": "No module named 'rag_model'",
     "output_type": "error",
     "traceback": [
      "\u001b[31m---------------------------------------------------------------------------\u001b[39m",
      "\u001b[31mModuleNotFoundError\u001b[39m                       Traceback (most recent call last)",
      "\u001b[36mCell\u001b[39m\u001b[36m \u001b[39m\u001b[32mIn[48]\u001b[39m\u001b[32m, line 1\u001b[39m\n\u001b[32m----> \u001b[39m\u001b[32m1\u001b[39m \u001b[38;5;28;01mfrom\u001b[39;00m\u001b[38;5;250m \u001b[39m\u001b[34;01mrag_model\u001b[39;00m\u001b[34;01m.\u001b[39;00m\u001b[34;01mcore\u001b[39;00m\u001b[34;01m.\u001b[39;00m\u001b[34;01mSpamDetector\u001b[39;00m\u001b[38;5;250m \u001b[39m\u001b[38;5;28;01mimport\u001b[39;00m SpamDetector\n",
      "\u001b[31mModuleNotFoundError\u001b[39m: No module named 'rag_model'"
     ]
    }
   ],
   "source": [
    "from rag_model.core.SpamDetector import SpamDetector"
   ]
  },
  {
   "cell_type": "code",
   "execution_count": 47,
   "id": "bd6f5228957314fa",
   "metadata": {
    "ExecuteTime": {
     "end_time": "2025-05-02T10:32:21.511672Z",
     "start_time": "2025-05-02T10:32:12.666006Z"
    }
   },
   "outputs": [
    {
     "ename": "ModuleNotFoundError",
     "evalue": "No module named 'transformer_model'",
     "output_type": "error",
     "traceback": [
      "\u001b[31m---------------------------------------------------------------------------\u001b[39m",
      "\u001b[31mModuleNotFoundError\u001b[39m                       Traceback (most recent call last)",
      "\u001b[36mCell\u001b[39m\u001b[36m \u001b[39m\u001b[32mIn[47]\u001b[39m\u001b[32m, line 1\u001b[39m\n\u001b[32m----> \u001b[39m\u001b[32m1\u001b[39m \u001b[38;5;28;01mfrom\u001b[39;00m\u001b[38;5;250m \u001b[39m\u001b[34;01mtransformer_model\u001b[39;00m\u001b[34;01m.\u001b[39;00m\u001b[34;01mtransformer_model\u001b[39;00m\u001b[38;5;250m \u001b[39m\u001b[38;5;28;01mimport\u001b[39;00m EmailClassifier\n",
      "\u001b[31mModuleNotFoundError\u001b[39m: No module named 'transformer_model'"
     ]
    }
   ],
   "source": [
    "from transformer_model.transformer_model import EmailClassifier"
   ]
  },
  {
   "cell_type": "code",
   "execution_count": 41,
   "id": "eb3f70798d3980cf",
   "metadata": {
    "ExecuteTime": {
     "end_time": "2025-05-02T09:21:28.157554Z",
     "start_time": "2025-05-02T09:21:28.153200Z"
    }
   },
   "outputs": [],
   "source": [
    "from pathlib import Path\n",
    "\n",
    "abs_path = Path().resolve()"
   ]
  },
  {
   "cell_type": "code",
   "execution_count": 42,
   "id": "fec03185dc0412b",
   "metadata": {
    "ExecuteTime": {
     "end_time": "2025-05-02T09:21:32.354432Z",
     "start_time": "2025-05-02T09:21:32.343839Z"
    }
   },
   "outputs": [
    {
     "data": {
      "text/plain": [
       "WindowsPath('C:/Users/soltu/Documents/Facultate/Alba/repo/phishing_email_detector_sandbox/hybrid_model')"
      ]
     },
     "execution_count": 42,
     "metadata": {},
     "output_type": "execute_result"
    }
   ],
   "source": [
    "abs_path"
   ]
  },
  {
   "cell_type": "code",
   "execution_count": 43,
   "id": "56818ab9b8f9fccf",
   "metadata": {
    "ExecuteTime": {
     "end_time": "2025-05-02T09:22:06.276572Z",
     "start_time": "2025-05-02T09:22:06.273082Z"
    }
   },
   "outputs": [],
   "source": [
    "project_path = abs_path.parent"
   ]
  },
  {
   "cell_type": "code",
   "execution_count": 44,
   "id": "7a109e6b4322d694",
   "metadata": {
    "ExecuteTime": {
     "end_time": "2025-05-02T09:22:14.899020Z",
     "start_time": "2025-05-02T09:22:14.893336Z"
    }
   },
   "outputs": [
    {
     "data": {
      "text/plain": [
       "WindowsPath('C:/Users/soltu/Documents/Facultate/Alba/repo/phishing_email_detector_sandbox')"
      ]
     },
     "execution_count": 44,
     "metadata": {},
     "output_type": "execute_result"
    }
   ],
   "source": [
    "project_path"
   ]
  },
  {
   "cell_type": "code",
   "execution_count": 45,
   "id": "7db803969db98b5d",
   "metadata": {
    "ExecuteTime": {
     "end_time": "2025-05-02T09:22:53.902250Z",
     "start_time": "2025-05-02T09:22:53.897934Z"
    }
   },
   "outputs": [],
   "source": [
    "models_dir = project_path / \"data/models/\"\n",
    "datasets_dir = project_path / \"data/datasets/\""
   ]
  },
  {
   "cell_type": "code",
   "execution_count": 53,
   "id": "221b7a8a",
   "metadata": {
    "ExecuteTime": {
     "end_time": "2025-05-02T09:23:39.368537Z",
     "start_time": "2025-05-02T09:23:23.757958Z"
    }
   },
   "outputs": [
    {
     "ename": "NameError",
     "evalue": "name 'EmailClassifier' is not defined",
     "output_type": "error",
     "traceback": [
      "\u001b[31m---------------------------------------------------------------------------\u001b[39m",
      "\u001b[31mNameError\u001b[39m                                 Traceback (most recent call last)",
      "\u001b[36mCell\u001b[39m\u001b[36m \u001b[39m\u001b[32mIn[53]\u001b[39m\u001b[32m, line 1\u001b[39m\n\u001b[32m----> \u001b[39m\u001b[32m1\u001b[39m transf_model = \u001b[43mEmailClassifier\u001b[49m(model_path=\u001b[38;5;28mstr\u001b[39m(models_dir / \u001b[33m\"\u001b[39m\u001b[33mtransformer_model.h5\u001b[39m\u001b[33m\"\u001b[39m), data_dir=\u001b[38;5;28mstr\u001b[39m(datasets_dir))\n",
      "\u001b[31mNameError\u001b[39m: name 'EmailClassifier' is not defined"
     ]
    }
   ],
   "source": [
    "transf_model = EmailClassifier(model_path=str(models_dir / \"transformer_model.h5\"), data_dir=str(datasets_dir))"
   ]
  },
  {
   "cell_type": "code",
   "execution_count": null,
   "id": "8b88c2dbfb906206",
   "metadata": {
    "ExecuteTime": {
     "end_time": "2025-05-02T09:18:37.914437Z",
     "start_time": "2025-05-02T09:18:37.909988Z"
    }
   },
   "outputs": [
    {
     "ename": "ModuleNotFoundError",
     "evalue": "No module named 'rag_model'",
     "output_type": "error",
     "traceback": [
      "\u001b[31m---------------------------------------------------------------------------\u001b[39m",
      "\u001b[31mModuleNotFoundError\u001b[39m                       Traceback (most recent call last)",
      "\u001b[36mCell\u001b[39m\u001b[36m \u001b[39m\u001b[32mIn[12]\u001b[39m\u001b[32m, line 1\u001b[39m\n\u001b[32m----> \u001b[39m\u001b[32m1\u001b[39m \u001b[38;5;28;01mfrom\u001b[39;00m\u001b[38;5;250m \u001b[39m\u001b[34;01mrag_model\u001b[39;00m\u001b[34;01m.\u001b[39;00m\u001b[34;01mcore\u001b[39;00m\u001b[34;01m.\u001b[39;00m\u001b[34;01mindex\u001b[39;00m\u001b[38;5;250m \u001b[39m\u001b[38;5;28;01mimport\u001b[39;00m load_sample\n",
      "\u001b[31mModuleNotFoundError\u001b[39m: No module named 'rag_model'"
     ]
    }
   ],
   "source": [
    "from rag_model.core.index import load_sample"
   ]
  },
  {
   "cell_type": "code",
   "execution_count": null,
   "id": "a8fff593da9f3384",
   "metadata": {
    "ExecuteTime": {
     "end_time": "2025-05-02T09:40:16.005774Z",
     "start_time": "2025-05-02T09:40:14.505375Z"
    }
   },
   "outputs": [
    {
     "ename": "NameError",
     "evalue": "name 'load_sample' is not defined",
     "output_type": "error",
     "traceback": [
      "\u001b[31m---------------------------------------------------------------------------\u001b[39m",
      "\u001b[31mNameError\u001b[39m                                 Traceback (most recent call last)",
      "\u001b[36mCell\u001b[39m\u001b[36m \u001b[39m\u001b[32mIn[13]\u001b[39m\u001b[32m, line 1\u001b[39m\n\u001b[32m----> \u001b[39m\u001b[32m1\u001b[39m spam_sample, ham_sample = \u001b[43mload_sample\u001b[49m(datasets_dir / \u001b[33m\"\u001b[39m\u001b[33mCEAS_08.csv\u001b[39m\u001b[33m\"\u001b[39m, sample_size=\u001b[32m1\u001b[39m)\n",
      "\u001b[31mNameError\u001b[39m: name 'load_sample' is not defined"
     ]
    }
   ],
   "source": [
    "spam_sample, ham_sample = load_sample(datasets_dir / \"CEAS_08.csv\", sample_size=1)"
   ]
  },
  {
   "cell_type": "code",
   "execution_count": null,
   "id": "f72ae7d74f2a0548",
   "metadata": {
    "ExecuteTime": {
     "end_time": "2025-05-02T09:40:16.067770Z",
     "start_time": "2025-05-02T09:40:16.059990Z"
    }
   },
   "outputs": [
    {
     "ename": "NameError",
     "evalue": "name 'spam_sample' is not defined",
     "output_type": "error",
     "traceback": [
      "\u001b[31m---------------------------------------------------------------------------\u001b[39m",
      "\u001b[31mNameError\u001b[39m                                 Traceback (most recent call last)",
      "\u001b[36mCell\u001b[39m\u001b[36m \u001b[39m\u001b[32mIn[14]\u001b[39m\u001b[32m, line 1\u001b[39m\n\u001b[32m----> \u001b[39m\u001b[32m1\u001b[39m body_spam, subject_spam = \u001b[43mspam_sample\u001b[49m.iloc[\u001b[32m0\u001b[39m][\u001b[33m\"\u001b[39m\u001b[33mbody\u001b[39m\u001b[33m\"\u001b[39m], spam_sample.iloc[\u001b[32m0\u001b[39m][\u001b[33m\"\u001b[39m\u001b[33msubject\u001b[39m\u001b[33m\"\u001b[39m]\n",
      "\u001b[31mNameError\u001b[39m: name 'spam_sample' is not defined"
     ]
    }
   ],
   "source": [
    "body_spam, subject_spam = spam_sample.iloc[0][\"body\"], spam_sample.iloc[0][\"subject\"]"
   ]
  },
  {
   "cell_type": "code",
   "execution_count": null,
   "id": "43078de51717b5bb",
   "metadata": {
    "ExecuteTime": {
     "end_time": "2025-05-02T09:40:16.099002Z",
     "start_time": "2025-05-02T09:40:16.088836Z"
    }
   },
   "outputs": [
    {
     "ename": "NameError",
     "evalue": "name 'ham_sample' is not defined",
     "output_type": "error",
     "traceback": [
      "\u001b[31m---------------------------------------------------------------------------\u001b[39m",
      "\u001b[31mNameError\u001b[39m                                 Traceback (most recent call last)",
      "\u001b[36mCell\u001b[39m\u001b[36m \u001b[39m\u001b[32mIn[15]\u001b[39m\u001b[32m, line 1\u001b[39m\n\u001b[32m----> \u001b[39m\u001b[32m1\u001b[39m body_ham, subject_ham = \u001b[43mham_sample\u001b[49m.iloc[\u001b[32m0\u001b[39m][\u001b[33m\"\u001b[39m\u001b[33mbody\u001b[39m\u001b[33m\"\u001b[39m], ham_sample.iloc[\u001b[32m0\u001b[39m][\u001b[33m\"\u001b[39m\u001b[33msubject\u001b[39m\u001b[33m\"\u001b[39m]\n",
      "\u001b[31mNameError\u001b[39m: name 'ham_sample' is not defined"
     ]
    }
   ],
   "source": [
    "body_ham, subject_ham = ham_sample.iloc[0][\"body\"], ham_sample.iloc[0][\"subject\"]"
   ]
  },
  {
   "cell_type": "code",
   "execution_count": null,
   "id": "1eaea617746a9be3",
   "metadata": {
    "ExecuteTime": {
     "end_time": "2025-05-02T09:40:17.007152Z",
     "start_time": "2025-05-02T09:40:16.882361Z"
    }
   },
   "outputs": [
    {
     "ename": "NameError",
     "evalue": "name 'transf_model' is not defined",
     "output_type": "error",
     "traceback": [
      "\u001b[31m---------------------------------------------------------------------------\u001b[39m",
      "\u001b[31mNameError\u001b[39m                                 Traceback (most recent call last)",
      "\u001b[36mCell\u001b[39m\u001b[36m \u001b[39m\u001b[32mIn[16]\u001b[39m\u001b[32m, line 1\u001b[39m\n\u001b[32m----> \u001b[39m\u001b[32m1\u001b[39m \u001b[43mtransf_model\u001b[49m.predict_email(subject_spam, body_spam)\n",
      "\u001b[31mNameError\u001b[39m: name 'transf_model' is not defined"
     ]
    }
   ],
   "source": [
    "transf_model.predict_email(subject_spam, body_spam)"
   ]
  },
  {
   "cell_type": "code",
   "execution_count": null,
   "id": "8255a413d6233fa5",
   "metadata": {
    "ExecuteTime": {
     "end_time": "2025-05-02T09:40:17.211955Z",
     "start_time": "2025-05-02T09:40:17.094781Z"
    }
   },
   "outputs": [
    {
     "ename": "NameError",
     "evalue": "name 'transf_model' is not defined",
     "output_type": "error",
     "traceback": [
      "\u001b[31m---------------------------------------------------------------------------\u001b[39m",
      "\u001b[31mNameError\u001b[39m                                 Traceback (most recent call last)",
      "\u001b[36mCell\u001b[39m\u001b[36m \u001b[39m\u001b[32mIn[17]\u001b[39m\u001b[32m, line 1\u001b[39m\n\u001b[32m----> \u001b[39m\u001b[32m1\u001b[39m \u001b[43mtransf_model\u001b[49m.predict_email(subject_ham, body_ham)\n",
      "\u001b[31mNameError\u001b[39m: name 'transf_model' is not defined"
     ]
    }
   ],
   "source": [
    "transf_model.predict_email(subject_ham, body_ham)"
   ]
  },
  {
   "cell_type": "code",
   "execution_count": null,
   "id": "6dc38182a8bb7412",
   "metadata": {
    "ExecuteTime": {
     "end_time": "2025-05-02T10:32:45.050472Z",
     "start_time": "2025-05-02T10:32:33.509916Z"
    }
   },
   "outputs": [
    {
     "ename": "ModuleNotFoundError",
     "evalue": "No module named 'rag_model'",
     "output_type": "error",
     "traceback": [
      "\u001b[31m---------------------------------------------------------------------------\u001b[39m",
      "\u001b[31mModuleNotFoundError\u001b[39m                       Traceback (most recent call last)",
      "\u001b[36mCell\u001b[39m\u001b[36m \u001b[39m\u001b[32mIn[18]\u001b[39m\u001b[32m, line 1\u001b[39m\n\u001b[32m----> \u001b[39m\u001b[32m1\u001b[39m \u001b[38;5;28;01mfrom\u001b[39;00m\u001b[38;5;250m \u001b[39m\u001b[34;01mrag_model\u001b[39;00m\u001b[34;01m.\u001b[39;00m\u001b[34;01mcore\u001b[39;00m\u001b[34;01m.\u001b[39;00m\u001b[34;01mSpamDetector\u001b[39;00m\u001b[38;5;250m \u001b[39m\u001b[38;5;28;01mimport\u001b[39;00m SpamDetector\n",
      "\u001b[31mModuleNotFoundError\u001b[39m: No module named 'rag_model'"
     ]
    }
   ],
   "source": [
    "from rag_model.core.SpamDetector import SpamDetector"
   ]
  },
  {
   "cell_type": "code",
   "execution_count": null,
   "id": "41e4e61c916aa445",
   "metadata": {
    "ExecuteTime": {
     "end_time": "2025-05-02T10:32:47.826405Z",
     "start_time": "2025-05-02T10:32:47.051372Z"
    }
   },
   "outputs": [],
   "source": [
    "from metadata_model.metadata_model_wrapper import MetadataModelWrapper"
   ]
  },
  {
   "cell_type": "code",
   "execution_count": null,
   "id": "728c7b5762a3a50a",
   "metadata": {
    "ExecuteTime": {
     "end_time": "2025-05-02T10:32:49.635212Z",
     "start_time": "2025-05-02T10:32:49.621824Z"
    }
   },
   "outputs": [
    {
     "ename": "ModuleNotFoundError",
     "evalue": "No module named 'hybrid_model'",
     "output_type": "error",
     "traceback": [
      "\u001b[31m---------------------------------------------------------------------------\u001b[39m",
      "\u001b[31mModuleNotFoundError\u001b[39m                       Traceback (most recent call last)",
      "\u001b[36mCell\u001b[39m\u001b[36m \u001b[39m\u001b[32mIn[2]\u001b[39m\u001b[32m, line 1\u001b[39m\n\u001b[32m----> \u001b[39m\u001b[32m1\u001b[39m \u001b[38;5;28;01mfrom\u001b[39;00m\u001b[38;5;250m \u001b[39m\u001b[34;01mhybrid_model\u001b[39;00m\u001b[34;01m.\u001b[39;00m\u001b[34;01mHybridEmailDetector\u001b[39;00m\u001b[38;5;250m \u001b[39m\u001b[38;5;28;01mimport\u001b[39;00m HybridEmailDetector\n",
      "\u001b[31mModuleNotFoundError\u001b[39m: No module named 'hybrid_model'"
     ]
    }
   ],
   "source": [
    "from hybrid_model.HybridEmailDetector import HybridEmailDetector"
   ]
  },
  {
   "cell_type": "code",
   "execution_count": null,
   "id": "aa20b43f4b09331f",
   "metadata": {
    "ExecuteTime": {
     "end_time": "2025-05-02T10:33:29.722976Z",
     "start_time": "2025-05-02T10:33:02.101025Z"
    }
   },
   "outputs": [
    {
     "ename": "NameError",
     "evalue": "name 'HybridEmailDetector' is not defined",
     "output_type": "error",
     "traceback": [
      "\u001b[31m---------------------------------------------------------------------------\u001b[39m",
      "\u001b[31mNameError\u001b[39m                                 Traceback (most recent call last)",
      "\u001b[36mCell\u001b[39m\u001b[36m \u001b[39m\u001b[32mIn[1]\u001b[39m\u001b[32m, line 1\u001b[39m\n\u001b[32m----> \u001b[39m\u001b[32m1\u001b[39m hybrid_detector = \u001b[43mHybridEmailDetector\u001b[49m()\n",
      "\u001b[31mNameError\u001b[39m: name 'HybridEmailDetector' is not defined"
     ]
    }
   ],
   "source": [
    "hybrid_detector = HybridEmailDetector()"
   ]
  },
  {
   "cell_type": "code",
   "execution_count": null,
   "id": "a8e9ffe7e5f76cac",
   "metadata": {},
   "outputs": [],
   "source": []
  }
 ],
 "metadata": {
  "kernelspec": {
   "display_name": "AlbaI",
   "language": "python",
   "name": "python3"
  },
  "language_info": {
   "codemirror_mode": {
    "name": "ipython",
    "version": 3
   },
   "file_extension": ".py",
   "mimetype": "text/x-python",
   "name": "python",
   "nbconvert_exporter": "python",
   "pygments_lexer": "ipython3",
   "version": "3.12.9"
  }
 },
 "nbformat": 4,
 "nbformat_minor": 5
}
