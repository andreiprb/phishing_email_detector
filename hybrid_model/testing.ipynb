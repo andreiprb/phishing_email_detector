{
 "cells": [
  {
   "cell_type": "code",
   "execution_count": null,
   "id": "initial_id",
   "metadata": {
    "ExecuteTime": {
     "end_time": "2025-05-02T11:34:40.660084Z",
     "start_time": "2025-05-02T11:34:40.651827Z"
    }
   },
   "source": "import config",
   "outputs": [],
   "execution_count": 1
  },
  {
   "cell_type": "code",
   "id": "221b7a8a",
   "metadata": {
    "ExecuteTime": {
     "end_time": "2025-05-02T11:34:51.635533Z",
     "start_time": "2025-05-02T11:34:42.531243Z"
    }
   },
   "source": "from transformer_model.transformer_model import EmailClassifier",
   "outputs": [],
   "execution_count": 2
  },
  {
   "cell_type": "code",
   "execution_count": 44,
   "id": "7a109e6b4322d694",
   "metadata": {
    "ExecuteTime": {
     "end_time": "2025-05-02T10:55:25.421928Z",
     "start_time": "2025-05-02T10:55:09.951834Z"
    }
   },
   "cell_type": "code",
   "source": "transformer_model = EmailClassifier(model_path=str(config.TRANSFORMER_MODEL_PATH), data_dir=str(config.DATASETS_PATH))",
   "id": "dd862f5df9a18fc8",
   "outputs": [
    {
     "name": "stdout",
     "output_type": "stream",
     "text": [
      "CPU\n",
      "Loading model from C:\\Users\\ignat\\PycharmProjects\\phishing_email_detector_sandbox\\data\\models\\transformer_model.h5...\n",
      "WARNING:tensorflow:From C:\\Users\\ignat\\miniconda3\\envs\\pishing_env\\Lib\\site-packages\\keras\\src\\backend\\tensorflow\\core.py:219: The name tf.placeholder is deprecated. Please use tf.compat.v1.placeholder instead.\n",
      "\n"
     ]
    },
    {
     "name": "stderr",
     "output_type": "stream",
     "text": [
      "WARNING:absl:Compiled the loaded model, but the compiled metrics have yet to be built. `model.compile_metrics` will be empty until you train or evaluate the model.\n"
     ]
    },
    {
     "name": "stdout",
     "output_type": "stream",
     "text": [
      "Loaded 115872 total samples, 23175 test samples.\n"
     ]
    }
   ],
   "execution_count": 4
  },
  {
   "metadata": {
    "ExecuteTime": {
     "end_time": "2025-05-02T11:00:35.871228Z",
     "start_time": "2025-05-02T11:00:33.269182Z"
    }
   },
   "cell_type": "code",
   "source": "from rag_model.core.index import load_sample",
   "id": "13499dc3be2d707d",
   "outputs": [],
   "execution_count": 7
  },
  {
   "metadata": {
    "ExecuteTime": {
     "end_time": "2025-05-02T11:01:09.797251Z",
     "start_time": "2025-05-02T11:01:09.662572Z"
    }
   },
   "cell_type": "code",
   "source": "spam_sample, ham_sample = load_sample(config.DATASETS_PATH / \"Ling.csv\", sample_size=1)",
   "id": "202214993db59104",
   "outputs": [],
   "execution_count": 8
  },
  {
   "metadata": {},
   "cell_type": "code",
   "outputs": [],
   "execution_count": null,
   "source": "spam_subject, spam_body = spam_sample.iloc[0]",
   "id": "19e76a3d3a9e978"
  },
  {
   "metadata": {
    "ExecuteTime": {
     "end_time": "2025-05-02T10:55:41.617425Z",
     "start_time": "2025-05-02T10:55:36.176580Z"
    }
   },
   "cell_type": "code",
   "source": "from metadata_model.metadata_model_wrapper import MetadataModelWrapper",
   "id": "3c2e79b214332ec1",
   "outputs": [],
   "execution_count": 5
  },
  {
   "metadata": {
    "ExecuteTime": {
     "end_time": "2025-05-02T10:55:51.068838Z",
     "start_time": "2025-05-02T10:55:50.456243Z"
    }
   },
   "cell_type": "code",
   "source": "metadata_model = MetadataModelWrapper(model_path=str(config.METADATA_MODEL_PATH))",
   "id": "c4c4f130c0d52d24",
   "outputs": [
    {
     "name": "stderr",
     "output_type": "stream",
     "text": [
      "C:\\Users\\ignat\\PycharmProjects\\phishing_email_detector_sandbox\\metadata_model\\metadata_model_wrapper.py:22: FutureWarning: You are using `torch.load` with `weights_only=False` (the current default value), which uses the default pickle module implicitly. It is possible to construct malicious pickle data which will execute arbitrary code during unpickling (See https://github.com/pytorch/pytorch/blob/main/SECURITY.md#untrusted-models for more details). In a future release, the default value for `weights_only` will be flipped to `True`. This limits the functions that could be executed during unpickling. Arbitrary objects will no longer be allowed to be loaded via this mode unless they are explicitly allowlisted by the user via `torch.serialization.add_safe_globals`. We recommend you start setting `weights_only=True` for any use case where you don't have full control of the loaded file. Please open an issue on GitHub for any issues related to this experimental feature.\n",
      "  self.model.load_state_dict(torch.load(model_path))\n"
     ]
    },
    {
     "ename": "RuntimeError",
     "evalue": "Error(s) in loading state_dict for NotSimpleNN:\n\tsize mismatch for fully_connected.weight: copying a param with shape torch.Size([1, 4]) from checkpoint, the shape in current model is torch.Size([1, 3]).",
     "output_type": "error",
     "traceback": [
      "\u001B[1;31m---------------------------------------------------------------------------\u001B[0m",
      "\u001B[1;31mRuntimeError\u001B[0m                              Traceback (most recent call last)",
      "Cell \u001B[1;32mIn[6], line 1\u001B[0m\n\u001B[1;32m----> 1\u001B[0m metadata_model \u001B[38;5;241m=\u001B[39m MetadataModelWrapper(model_path\u001B[38;5;241m=\u001B[39m\u001B[38;5;28mstr\u001B[39m(config\u001B[38;5;241m.\u001B[39mMETADATA_MODEL_PATH))\n",
      "File \u001B[1;32m~\\PycharmProjects\\phishing_email_detector_sandbox\\metadata_model\\metadata_model_wrapper.py:22\u001B[0m, in \u001B[0;36mMetadataModelWrapper.__init__\u001B[1;34m(self, model_path)\u001B[0m\n\u001B[0;32m     16\u001B[0m \u001B[38;5;250m\u001B[39m\u001B[38;5;124;03m\"\"\"\u001B[39;00m\n\u001B[0;32m     17\u001B[0m \u001B[38;5;124;03mInitializes the model wrapper by loading the model from the specified path.\u001B[39;00m\n\u001B[0;32m     18\u001B[0m \u001B[38;5;124;03m\u001B[39;00m\n\u001B[0;32m     19\u001B[0m \u001B[38;5;124;03m:param model_path: Path to the saved model file.\u001B[39;00m\n\u001B[0;32m     20\u001B[0m \u001B[38;5;124;03m\"\"\"\u001B[39;00m\n\u001B[0;32m     21\u001B[0m \u001B[38;5;28mself\u001B[39m\u001B[38;5;241m.\u001B[39mmodel \u001B[38;5;241m=\u001B[39m NotSimpleNN(input_size\u001B[38;5;241m=\u001B[39m\u001B[38;5;241m3\u001B[39m)  \u001B[38;5;66;03m# Adjust input size as needed\u001B[39;00m\n\u001B[1;32m---> 22\u001B[0m \u001B[38;5;28mself\u001B[39m\u001B[38;5;241m.\u001B[39mmodel\u001B[38;5;241m.\u001B[39mload_state_dict(torch\u001B[38;5;241m.\u001B[39mload(model_path))\n\u001B[0;32m     23\u001B[0m \u001B[38;5;28mself\u001B[39m\u001B[38;5;241m.\u001B[39mmodel\u001B[38;5;241m.\u001B[39meval()\n",
      "File \u001B[1;32m~\\miniconda3\\envs\\pishing_env\\Lib\\site-packages\\torch\\nn\\modules\\module.py:2584\u001B[0m, in \u001B[0;36mModule.load_state_dict\u001B[1;34m(self, state_dict, strict, assign)\u001B[0m\n\u001B[0;32m   2576\u001B[0m         error_msgs\u001B[38;5;241m.\u001B[39minsert(\n\u001B[0;32m   2577\u001B[0m             \u001B[38;5;241m0\u001B[39m,\n\u001B[0;32m   2578\u001B[0m             \u001B[38;5;124m\"\u001B[39m\u001B[38;5;124mMissing key(s) in state_dict: \u001B[39m\u001B[38;5;132;01m{}\u001B[39;00m\u001B[38;5;124m. \u001B[39m\u001B[38;5;124m\"\u001B[39m\u001B[38;5;241m.\u001B[39mformat(\n\u001B[0;32m   2579\u001B[0m                 \u001B[38;5;124m\"\u001B[39m\u001B[38;5;124m, \u001B[39m\u001B[38;5;124m\"\u001B[39m\u001B[38;5;241m.\u001B[39mjoin(\u001B[38;5;124mf\u001B[39m\u001B[38;5;124m'\u001B[39m\u001B[38;5;124m\"\u001B[39m\u001B[38;5;132;01m{\u001B[39;00mk\u001B[38;5;132;01m}\u001B[39;00m\u001B[38;5;124m\"\u001B[39m\u001B[38;5;124m'\u001B[39m \u001B[38;5;28;01mfor\u001B[39;00m k \u001B[38;5;129;01min\u001B[39;00m missing_keys)\n\u001B[0;32m   2580\u001B[0m             ),\n\u001B[0;32m   2581\u001B[0m         )\n\u001B[0;32m   2583\u001B[0m \u001B[38;5;28;01mif\u001B[39;00m \u001B[38;5;28mlen\u001B[39m(error_msgs) \u001B[38;5;241m>\u001B[39m \u001B[38;5;241m0\u001B[39m:\n\u001B[1;32m-> 2584\u001B[0m     \u001B[38;5;28;01mraise\u001B[39;00m \u001B[38;5;167;01mRuntimeError\u001B[39;00m(\n\u001B[0;32m   2585\u001B[0m         \u001B[38;5;124m\"\u001B[39m\u001B[38;5;124mError(s) in loading state_dict for \u001B[39m\u001B[38;5;132;01m{}\u001B[39;00m\u001B[38;5;124m:\u001B[39m\u001B[38;5;130;01m\\n\u001B[39;00m\u001B[38;5;130;01m\\t\u001B[39;00m\u001B[38;5;132;01m{}\u001B[39;00m\u001B[38;5;124m\"\u001B[39m\u001B[38;5;241m.\u001B[39mformat(\n\u001B[0;32m   2586\u001B[0m             \u001B[38;5;28mself\u001B[39m\u001B[38;5;241m.\u001B[39m\u001B[38;5;18m__class__\u001B[39m\u001B[38;5;241m.\u001B[39m\u001B[38;5;18m__name__\u001B[39m, \u001B[38;5;124m\"\u001B[39m\u001B[38;5;130;01m\\n\u001B[39;00m\u001B[38;5;130;01m\\t\u001B[39;00m\u001B[38;5;124m\"\u001B[39m\u001B[38;5;241m.\u001B[39mjoin(error_msgs)\n\u001B[0;32m   2587\u001B[0m         )\n\u001B[0;32m   2588\u001B[0m     )\n\u001B[0;32m   2589\u001B[0m \u001B[38;5;28;01mreturn\u001B[39;00m _IncompatibleKeys(missing_keys, unexpected_keys)\n",
      "\u001B[1;31mRuntimeError\u001B[0m: Error(s) in loading state_dict for NotSimpleNN:\n\tsize mismatch for fully_connected.weight: copying a param with shape torch.Size([1, 4]) from checkpoint, the shape in current model is torch.Size([1, 3])."
     ]
    }
   ],
   "execution_count": 6
  },
  {
   "metadata": {
    "ExecuteTime": {
     "end_time": "2025-05-02T11:35:08.976743Z",
     "start_time": "2025-05-02T11:34:54.552941Z"
    }
   },
   "cell_type": "code",
   "source": "from rag_model.core.SpamDetector import SpamDetector",
   "id": "615a78dda87216b3",
   "outputs": [],
   "execution_count": 3
  },
  {
   "metadata": {
    "ExecuteTime": {
     "end_time": "2025-05-02T11:36:00.432050Z",
     "start_time": "2025-05-02T11:35:49.525009Z"
    }
   },
   "cell_type": "code",
   "source": "rag_detector = SpamDetector(ham_index_path=config.INDEX_HAM_PATH, spam_index_path=config.INDEX_SPAM_PATH, top_k=1)",
   "id": "161de5efdfe0f731",
   "outputs": [],
   "execution_count": 4
  },
  {
   "metadata": {
    "ExecuteTime": {
     "end_time": "2025-05-02T11:36:03.221328Z",
     "start_time": "2025-05-02T11:36:03.216361Z"
    }
   },
   "cell_type": "code",
   "source": [
    "email_body = \"\"\"\n",
    "Dear Lucky Winner,\n",
    "\n",
    "We are thrilled to inform you that you have been randomly selected to receive an exclusive reward of $1,000,000 USD! 💸💸💸\n",
    "\n",
    "This life-changing opportunity is part of our Global Customer Loyalty Program and requires just a few easy steps to claim:\n",
    "\n",
    "    Reply to this email with your full name, address, and phone number. 📧\n",
    "\n",
    "    Confirm your identity with a small verification fee of $50 USD. (Fully refundable!) 🛡️\n",
    "\n",
    "    Sit back and relax while we process your reward! 🏖️\n",
    "\n",
    "⚠️ Please respond within the next 24 hours to avoid disqualification.\n",
    "\n",
    "Don't miss out on this once-in-a-lifetime opportunity. Your future of wealth and happiness awaits!\n",
    "\n",
    "Reply Now and Claim Your Prize!\n",
    "\n",
    "Warm regards,\n",
    "Dr. Richard Moneybags\n",
    "Customer Rewards Coordinator\n",
    "TotallyRealBank.com\n",
    "\"\"\"\n",
    "\n",
    "spam_email_metadata = {\n",
    "    \"from\": \"richard.moneybags@totallyrealbank.com\",\n",
    "    \"to\": \"victim_email@example.com\",\n",
    "    \"subject\": \"Congratulations! You've Been Selected! 🎉\",\n",
    "    \"date\": \"Sat, 26 Apr 2025 13:37:00 +0000\"\n",
    "}"
   ],
   "id": "d3f0049c4f952917",
   "outputs": [],
   "execution_count": 5
  },
  {
   "metadata": {
    "ExecuteTime": {
     "end_time": "2025-05-02T11:23:07.433563Z",
     "start_time": "2025-05-02T11:23:03.613179Z"
    }
   },
   "cell_type": "code",
   "source": "rag_detector.classify(email_body, spam_email_metadata)",
   "id": "39cf641ebcf421f5",
   "outputs": [
    {
     "data": {
      "text/plain": [
       "('spam', 0.98)"
      ]
     },
     "execution_count": 12,
     "metadata": {},
     "output_type": "execute_result"
    }
   ],
   "execution_count": 12
  },
  {
   "metadata": {
    "ExecuteTime": {
     "end_time": "2025-05-02T11:36:07.860992Z",
     "start_time": "2025-05-02T11:36:07.855493Z"
    }
   },
   "cell_type": "code",
   "source": [
    "import json\n",
    "from typing import Any"
   ],
   "id": "bbf21a0053aa4fb",
   "outputs": [],
   "execution_count": 6
  },
  {
   "metadata": {
    "ExecuteTime": {
     "end_time": "2025-05-02T11:36:08.648344Z",
     "start_time": "2025-05-02T11:36:08.639794Z"
    }
   },
   "cell_type": "code",
   "source": [
    "def extract_emails(json_file_path: str) -> dict[str, list[dict[str, Any]]]:\n",
    "    \"\"\"\n",
    "    Extract emails from JSON file and return as dictionaries\n",
    "    \"\"\"\n",
    "    # Load the JSON data from file\n",
    "    with open(json_file_path, 'r', encoding='utf-8') as file:\n",
    "        data = json.load(file)\n",
    "\n",
    "    # Separate spam and ham emails\n",
    "    spam_emails = [email for email in data['emails'] if email['type'] == 'spam']\n",
    "    ham_emails = [email for email in data['emails'] if email['type'] == 'ham']\n",
    "\n",
    "    return {\n",
    "        'spam': spam_emails,\n",
    "        'ham': ham_emails,\n",
    "        'all': data['emails']\n",
    "    }"
   ],
   "id": "c4bb6da6e2b415ad",
   "outputs": [],
   "execution_count": 7
  },
  {
   "cell_type": "code",
   "execution_count": null,
   "id": "728c7b5762a3a50a",
   "metadata": {
    "ExecuteTime": {
     "end_time": "2025-05-02T12:03:48.280865Z",
     "start_time": "2025-05-02T11:56:55.034873Z"
    }
   },
   "cell_type": "code",
   "source": [
    "guessed_right: int = 0\n",
    "emails = extract_emails(str(config.TESTING_PATH))['all']\n",
    "for i, email in enumerate(emails):\n",
    "    prediction = rag_detector.classify(email[\"body\"], email[\"metadata\"])\n",
    "    guessed_right += 1 if prediction == email[\"type\"] else 0\n",
    "\n",
    "    print(\"Prediction: \", prediction, \"Actual: \", email[\"type\"])"
   ],
   "id": "cd0101f895c44770",
   "outputs": [
    {
     "name": "stdout",
     "output_type": "stream",
     "text": [
      "Prediction:  ('spam', 0.98) Actual:  spam\n",
      "Prediction:  ('spam', 0.5) Actual:  spam\n",
      "Prediction:  ('spam', 0.98) Actual:  spam\n",
      "Prediction:  ('spam', 0.95) Actual:  spam\n",
      "Prediction:  ('spam', 0.98) Actual:  spam\n",
      "Prediction:  ('ham', 0.95) Actual:  ham\n",
      "Prediction:  ('ham', 0.95) Actual:  ham\n",
      "Prediction:  ('spam', 0.98) Actual:  ham\n",
      "Prediction:  ('ham', 0.5) Actual:  ham\n",
      "Prediction:  ('ham', 0.95) Actual:  ham\n",
      "Prediction:  ('ham', 0.95) Actual:  ham\n",
      "Prediction:  ('spam', 0.5) Actual:  ham\n",
      "Prediction:  ('spam', 0.98) Actual:  spam\n",
      "Prediction:  ('spam', 0.98) Actual:  spam\n",
      "Prediction:  ('spam', 0.5) Actual:  ham\n",
      "Prediction:  ('spam', 0.95) Actual:  spam\n",
      "Prediction:  ('spam', 0.95) Actual:  ham\n",
      "Prediction:  ('spam', 0.95) Actual:  spam\n",
      "Prediction:  ('ham', 0.5) Actual:  ham\n",
      "Prediction:  ('spam', 0.98) Actual:  spam\n",
      "Prediction:  ('spam', 0.5) Actual:  ham\n",
      "Prediction:  ('spam', 0.95) Actual:  spam\n",
      "Prediction:  ('spam', 0.95) Actual:  ham\n",
      "Prediction:  ('spam', 0.95) Actual:  spam\n",
      "Prediction:  ('spam', 0.98) Actual:  ham\n",
      "Prediction:  ('spam', 0.95) Actual:  spam\n",
      "Prediction:  ('spam', 0.95) Actual:  ham\n",
      "Prediction:  ('spam', 0.95) Actual:  spam\n",
      "Prediction:  ('spam', 0.5) Actual:  ham\n"
     ]
    }
   ],
   "execution_count": 10
  },
  {
   "metadata": {
    "ExecuteTime": {
     "end_time": "2025-05-02T12:05:56.936349Z",
     "start_time": "2025-05-02T12:05:56.926892Z"
    }
   },
   "cell_type": "code",
   "source": "",
   "id": "276091ca640180e1",
   "outputs": [],
   "execution_count": null
  },
  {
   "cell_type": "code",
   "execution_count": null,
   "source": "",
   "id": "d522fae57446a5f8"
  }
 ],
 "metadata": {
  "kernelspec": {
   "display_name": "AlbaI",
   "language": "python",
   "name": "python3"
  },
  "language_info": {
   "codemirror_mode": {
    "name": "ipython",
    "version": 3
   },
   "file_extension": ".py",
   "mimetype": "text/x-python",
   "name": "python",
   "nbconvert_exporter": "python",
   "pygments_lexer": "ipython3",
   "version": "3.12.9"
  }
 },
 "nbformat": 4,
 "nbformat_minor": 5
}
