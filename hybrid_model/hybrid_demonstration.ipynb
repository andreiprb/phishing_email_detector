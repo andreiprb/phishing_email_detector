{
 "cells": [
  {
   "cell_type": "code",
   "execution_count": null,
   "id": "initial_id",
   "metadata": {
    "ExecuteTime": {
     "end_time": "2025-05-02T10:31:53.127690300Z",
     "start_time": "2025-05-02T10:30:01.620406Z"
    },
    "collapsed": true
   },
   "outputs": [
    {
     "ename": "ModuleNotFoundError",
     "evalue": "No module named 'hybrid_model'",
     "output_type": "error",
     "traceback": [
      "\u001b[31m---------------------------------------------------------------------------\u001b[39m",
      "\u001b[31mModuleNotFoundError\u001b[39m                       Traceback (most recent call last)",
      "\u001b[36mCell\u001b[39m\u001b[36m \u001b[39m\u001b[32mIn[2]\u001b[39m\u001b[32m, line 1\u001b[39m\n\u001b[32m----> \u001b[39m\u001b[32m1\u001b[39m \u001b[38;5;28;01mfrom\u001b[39;00m\u001b[38;5;250m \u001b[39m\u001b[34;01mhybrid_model\u001b[39;00m\u001b[34;01m.\u001b[39;00m\u001b[34;01mHybridEmailDetector\u001b[39;00m\u001b[38;5;250m \u001b[39m\u001b[38;5;28;01mimport\u001b[39;00m HybridEmailDetector\n",
      "\u001b[31mModuleNotFoundError\u001b[39m: No module named 'hybrid_model'"
     ]
    }
   ],
   "source": [
    "from HybridEmailDetector import HybridEmailDetector"
   ]
  },
  {
   "cell_type": "code",
   "execution_count": null,
   "id": "47d3fd677ffffd9a",
   "metadata": {},
   "outputs": [],
   "source": [
    "email_body = \"\"\"\n",
    "Dear Lucky Winner,\n",
    "\n",
    "We are thrilled to inform you that you have been randomly selected to receive an exclusive reward of $1,000,000 USD! 💸💸💸\n",
    "\n",
    "This life-changing opportunity is part of our Global Customer Loyalty Program and requires just a few easy steps to claim:\n",
    "\n",
    "    Reply to this email with your full name, address, and phone number. 📧\n",
    "\n",
    "    Confirm your identity with a small verification fee of $50 USD. (Fully refundable!) 🛡️\n",
    "\n",
    "    Sit back and relax while we process your reward! 🏖️\n",
    "\n",
    "⚠️ Please respond within the next 24 hours to avoid disqualification.\n",
    "\n",
    "Don't miss out on this once-in-a-lifetime opportunity. Your future of wealth and happiness awaits!\n",
    "\n",
    "Reply Now and Claim Your Prize!\n",
    "\n",
    "Warm regards,\n",
    "Dr. Richard Moneybags\n",
    "Customer Rewards Coordinator\n",
    "TotallyRealBank.com\n",
    "\"\"\"\n",
    "\n",
    "spam_email_metadata = {\n",
    "    \"from\": \"richard.moneybags@totallyrealbank.com\",\n",
    "    \"to\": \"victim_email@example.com\",\n",
    "    \"subject\": \"Congratulations! You've Been Selected! 🎉\",\n",
    "    \"date\": \"Sat, 26 Apr 2025 13:37:00 +0000\"\n",
    "}"
   ]
  },
  {
   "cell_type": "code",
   "execution_count": null,
   "id": "131a112b36caf21e",
   "metadata": {},
   "outputs": [],
   "source": [
    "model = HybridEmailDetector()\n",
    "\n",
    "# prediction, confidence = model.predict(email_body, spam_email_metadata)\n",
    "# prediction, confidence = model.predict(email_body, spam_email_metadata, use_rag=True, make_raport=True)"
   ]
  }
 ],
 "metadata": {
  "kernelspec": {
   "display_name": ".venv",
   "language": "python",
   "name": "python3"
  },
  "language_info": {
   "codemirror_mode": {
    "name": "ipython",
    "version": 3
   },
   "file_extension": ".py",
   "mimetype": "text/x-python",
   "name": "python",
   "nbconvert_exporter": "python",
   "pygments_lexer": "ipython3",
   "version": "3.12.5"
  }
 },
 "nbformat": 4,
 "nbformat_minor": 5
}
