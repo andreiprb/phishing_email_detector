{
 "cells": [
  {
   "cell_type": "code",
   "execution_count": null,
   "id": "initial_id",
   "metadata": {
    "collapsed": true
   },
   "outputs": [],
   "source": "from hybrid_model.HybridEmailDetector import HybridEmailDetector"
  },
  {
   "metadata": {},
   "cell_type": "code",
   "outputs": [],
   "execution_count": null,
   "source": [
    "email_body = \"\"\"\n",
    "Dear Lucky Winner,\n",
    "\n",
    "We are thrilled to inform you that you have been randomly selected to receive an exclusive reward of $1,000,000 USD! 💸💸💸\n",
    "\n",
    "This life-changing opportunity is part of our Global Customer Loyalty Program and requires just a few easy steps to claim:\n",
    "\n",
    "    Reply to this email with your full name, address, and phone number. 📧\n",
    "\n",
    "    Confirm your identity with a small verification fee of $50 USD. (Fully refundable!) 🛡️\n",
    "\n",
    "    Sit back and relax while we process your reward! 🏖️\n",
    "\n",
    "⚠️ Please respond within the next 24 hours to avoid disqualification.\n",
    "\n",
    "Don't miss out on this once-in-a-lifetime opportunity. Your future of wealth and happiness awaits!\n",
    "\n",
    "Reply Now and Claim Your Prize!\n",
    "\n",
    "Warm regards,\n",
    "Dr. Richard Moneybags\n",
    "Customer Rewards Coordinator\n",
    "TotallyRealBank.com\n",
    "\"\"\"\n",
    "\n",
    "spam_email_metadata = {\n",
    "    \"from\": \"richard.moneybags@totallyrealbank.com\",\n",
    "    \"to\": \"victim_email@example.com\",\n",
    "    \"subject\": \"Congratulations! You've Been Selected! 🎉\",\n",
    "    \"date\": \"Sat, 26 Apr 2025 13:37:00 +0000\"\n",
    "}"
   ],
   "id": "47d3fd677ffffd9a"
  },
  {
   "metadata": {},
   "cell_type": "code",
   "outputs": [],
   "execution_count": null,
   "source": [
    "model = HybridEmailDetector()\n",
    "\n",
    "# prediction, confidence = model.predict(email_body, spam_email_metadata)\n",
    "# prediction, confidence = model.predict(email_body, spam_email_metadata, use_rag=True, make_raport=True)"
   ],
   "id": "131a112b36caf21e"
  }
 ],
 "metadata": {
  "kernelspec": {
   "display_name": "Python 3",
   "language": "python",
   "name": "python3"
  },
  "language_info": {
   "codemirror_mode": {
    "name": "ipython",
    "version": 2
   },
   "file_extension": ".py",
   "mimetype": "text/x-python",
   "name": "python",
   "nbconvert_exporter": "python",
   "pygments_lexer": "ipython2",
   "version": "2.7.6"
  }
 },
 "nbformat": 4,
 "nbformat_minor": 5
}
