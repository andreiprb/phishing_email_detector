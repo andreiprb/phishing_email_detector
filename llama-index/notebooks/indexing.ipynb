{
 "cells": [
  {
   "metadata": {
    "ExecuteTime": {
     "end_time": "2025-04-26T09:25:19.734291Z",
     "start_time": "2025-04-26T09:25:09.806887Z"
    }
   },
   "cell_type": "code",
   "source": [
    "import os\n",
    "import pandas as pd\n",
    "from pathlib import Path\n",
    "import logging\n",
    "from typing import List, Dict, Any, Optional\n",
    "\n",
    "from pandas import DataFrame\n",
    "from sympy.stats.rv import sample_iter_lambdify\n",
    "\n",
    "# Set up logging\n",
    "logging.basicConfig(level=logging.INFO, format='%(asctime)s - %(levelname)s - %(message)s')\n",
    "logger = logging.getLogger(__name__)\n",
    "\n",
    "# For LlamaIndex\n",
    "from llama_index.core import Document, Settings\n",
    "from llama_index.embeddings.huggingface import HuggingFaceEmbedding\n",
    "from llama_index.core import VectorStoreIndex\n",
    "from llama_index.core.node_parser import SimpleNodeParser\n",
    "from llama_index.core.schema import MetadataMode, TextNode\n",
    "from llama_index.readers.file import CSVReader"
   ],
   "id": "155e0913c6d37638",
   "outputs": [],
   "execution_count": 1
  },
  {
   "metadata": {
    "ExecuteTime": {
     "end_time": "2025-04-26T09:26:05.312341Z",
     "start_time": "2025-04-26T09:26:05.295491Z"
    }
   },
   "cell_type": "code",
   "source": [
    "def load_sample(file_path: Path, sample_size: Optional[int] = 5) -> tuple[pd.DataFrame, pd.DataFrame]:\n",
    "    \"\"\"\n",
    "    Safely load and validate CSV file, with proper error handling.\n",
    "\n",
    "    Args:\n",
    "        file_path: Path to the CSV file\n",
    "        sample_size: Number of samples to take from each category (if available)\n",
    "\n",
    "    Returns:\n",
    "        Tuple of (spam_sample, ham_sample) DataFrames\n",
    "    \"\"\"\n",
    "\n",
    "    if not file_path.exists():\n",
    "        raise FileNotFoundError(f\"CSV file not found at: {file_path}\")\n",
    "\n",
    "    try:\n",
    "        # First read with pandas for validation and preprocessing\n",
    "        df = pd.read_csv(file_path)\n",
    "        logger.info(f\"Successfully loaded CSV with {len(df)} rows and {len(df.columns)} columns\")\n",
    "\n",
    "        # Count samples in each category\n",
    "        spam_count = (df[\"label\"] == 1).sum()\n",
    "        ham_count = (df[\"label\"] == 0).sum()\n",
    "\n",
    "        # Take minimum of requested sample size and available samples\n",
    "        spam_sample_size = min(sample_size, spam_count)\n",
    "        ham_sample_size = min(sample_size, ham_count)\n",
    "\n",
    "        # Sample with adjusted sizes\n",
    "        spam_sample = df[df[\"label\"] == 1].sample(spam_sample_size) if spam_sample_size > 0 else pd.DataFrame()\n",
    "        ham_sample = df[df[\"label\"] == 0].sample(ham_sample_size) if ham_sample_size > 0 else pd.DataFrame()\n",
    "\n",
    "        return spam_sample, ham_sample\n",
    "\n",
    "    except Exception as e:\n",
    "        logger.error(f\"Error loading CSV file: {str(e)}\")\n",
    "        raise\n",
    "\n",
    "def preprocess_email_data(df: pd.DataFrame) -> pd.DataFrame:\n",
    "    \"\"\"\n",
    "    Preprocess email data for better indexing in LlamaIndex\n",
    "\n",
    "    Args:\n",
    "        df: DataFrame with raw email data\n",
    "\n",
    "    Returns:\n",
    "        Preprocessed DataFrame\n",
    "    \"\"\"\n",
    "    logger.info(\"Preprocessing email data...\")\n",
    "\n",
    "    # Make a copy to avoid modifying the original\n",
    "    processed_df = df.copy()\n",
    "\n",
    "    # Fill empty fields with empty strings to avoid NaN issues\n",
    "    processed_df = processed_df.fillna(\"\")\n",
    "\n",
    "    # Create a combined text field that LlamaIndex can use more effectively\n",
    "    processed_df['combined_text'] = processed_df.apply(\n",
    "        lambda row: (\n",
    "            f\"From: {row['sender']}\\n\"\n",
    "            f\"To: {row['receiver']}\\n\"\n",
    "            f\"Date: {row['date']}\\n\"\n",
    "            f\"Subject: {row['subject']}\\n\\n\"\n",
    "            f\"{row['body']}\"\n",
    "        ), axis=1\n",
    "    )\n",
    "\n",
    "    logger.info(\"Preprocessing complete\")\n",
    "    return processed_df\n",
    "\n",
    "def create_documents_from_dataframe(df: pd.DataFrame) -> List[Document]:\n",
    "    \"\"\"\n",
    "    Convert DataFrame rows to LlamaIndex Document objects\n",
    "\n",
    "    Args:\n",
    "        df: Preprocessed DataFrame\n",
    "\n",
    "    Returns:\n",
    "        List of LlamaIndex Document objects\n",
    "    \"\"\"\n",
    "    logger.info(\"Creating LlamaIndex documents from DataFrame...\")\n",
    "\n",
    "    documents = []\n",
    "\n",
    "    for idx, row in df.iterrows():\n",
    "        # Create metadata dictionary with only essential fields\n",
    "        metadata = {\n",
    "            'sender': str(row['sender'])[:100],\n",
    "            'receiver': str(row['receiver'])[:100],\n",
    "            'date': str(row['date'])[:30],\n",
    "            'subject': str(row['subject'])[:200],\n",
    "            'label': str(row.get('label', ''))[:50],\n",
    "            'email_id': f\"email_{idx}\"\n",
    "        }\n",
    "\n",
    "        # Create a Document with the combined text and metadata\n",
    "        doc = Document(\n",
    "            text=row['combined_text'],\n",
    "            metadata=metadata,\n",
    "            id_=f\"email_{idx}\"\n",
    "        )\n",
    "        documents.append(doc)\n",
    "\n",
    "    logger.info(f\"Created {len(documents)} documents\")\n",
    "    return documents\n",
    "\n",
    "def chunk_documents(documents: List[Document], chunk_size: int = 8192, chunk_overlap: int = 20) -> List[Document]:\n",
    "    \"\"\"\n",
    "    Chunk documents into smaller nodes for better indexing\n",
    "\n",
    "    Args:\n",
    "        documents: List of documents to chunk\n",
    "        chunk_size: Size of each chunk (increased to handle large metadata)\n",
    "        chunk_overlap: Overlap between chunks\n",
    "\n",
    "    Returns:\n",
    "        List of chunked documents\n",
    "    \"\"\"\n",
    "    logger.info(f\"Chunking documents with size={chunk_size}, overlap={chunk_overlap}\")\n",
    "\n",
    "    # Extract only essential metadata to reduce size\n",
    "    for doc in documents:\n",
    "        # Keep only essential metadata and limit their size\n",
    "        essential_metadata = {\n",
    "            'sender': doc.metadata.get('sender', '')[:100],\n",
    "            'date': doc.metadata.get('date', '')[:30],\n",
    "            'subject': doc.metadata.get('subject', '')[:200],\n",
    "            'label': doc.metadata.get('label', '')[:50]\n",
    "        }\n",
    "        # Replace the original metadata with the trimmed version\n",
    "        doc.metadata = essential_metadata\n",
    "\n",
    "    parser = SimpleNodeParser.from_defaults(\n",
    "        chunk_size=chunk_size,\n",
    "        chunk_overlap=chunk_overlap\n",
    "    )\n",
    "\n",
    "    nodes = parser.get_nodes_from_documents(documents)\n",
    "    logger.info(f\"Created {len(nodes)} nodes from {len(documents)} documents\")\n",
    "\n",
    "    return nodes\n",
    "\n",
    "def create_index_from_documents(nodes: List[TextNode]) -> VectorStoreIndex:\n",
    "    \"\"\"\n",
    "    Create a LlamaIndex VectorStoreIndex from documents\n",
    "\n",
    "    Args:\n",
    "        nodes: List of nodes to index\n",
    "\n",
    "    Returns:\n",
    "        Initialized VectorStoreIndex\n",
    "    \"\"\"\n",
    "    logger.info(\"Creating vector index...\")\n",
    "\n",
    "    index: VectorStoreIndex = VectorStoreIndex(nodes)\n",
    "    logger.info(\"Vector index created successfully\")\n",
    "\n",
    "    return index"
   ],
   "id": "1de5f64329bd2d09",
   "outputs": [],
   "execution_count": 2
  },
  {
   "metadata": {
    "ExecuteTime": {
     "end_time": "2025-04-26T09:26:09.186078Z",
     "start_time": "2025-04-26T09:26:09.173424Z"
    }
   },
   "cell_type": "code",
   "source": [
    "from pathlib import Path\n",
    "from data_paths import DATASETS_PATH\n",
    "\n",
    "datasets_dir: str = Path(\"../..\") / DATASETS_PATH\n",
    "\n",
    "assert os.path.exists(datasets_dir), \"Datasets directory not found\"\n",
    "\n",
    "dataset_paths: list[Path] = [Path(str(os.path.join(datasets_dir, f))) for f in os.listdir(datasets_dir)]\n",
    "\n",
    "dataset_paths"
   ],
   "id": "7f129d0abda55500",
   "outputs": [
    {
     "data": {
      "text/plain": [
       "[WindowsPath('../../data/CEAS_08.csv'),\n",
       " WindowsPath('../../data/Ling.csv'),\n",
       " WindowsPath('../../data/Nazario.csv'),\n",
       " WindowsPath('../../data/Nazario_5.csv'),\n",
       " WindowsPath('../../data/Nigerian_5.csv'),\n",
       " WindowsPath('../../data/Nigerian_Fraud.csv'),\n",
       " WindowsPath('../../data/SpamAssasin.csv'),\n",
       " WindowsPath('../../data/TREC_07.csv')]"
      ]
     },
     "execution_count": 3,
     "metadata": {},
     "output_type": "execute_result"
    }
   ],
   "execution_count": 3
  },
  {
   "metadata": {
    "ExecuteTime": {
     "end_time": "2025-04-26T09:28:31.084846Z",
     "start_time": "2025-04-26T09:28:26.776626Z"
    }
   },
   "cell_type": "code",
   "source": [
    "sample_size: int = 100\n",
    "samples: list[tuple[DataFrame, DataFrame]] = [load_sample(path, sample_size=sample_size) for path in dataset_paths]\n",
    "\n",
    "spam_dfs, ham_dfs = zip(*samples)\n",
    "spam_df: DataFrame = pd.concat(spam_dfs, ignore_index=True)\n",
    "ham_df: DataFrame = pd.concat(ham_dfs, ignore_index=True)\n",
    "\n",
    "processed_spam  = preprocess_email_data(spam_df)\n",
    "processed_ham  = preprocess_email_data(ham_df)"
   ],
   "id": "b02c72a5eb32f147",
   "outputs": [
    {
     "name": "stderr",
     "output_type": "stream",
     "text": [
      "2025-04-26 12:28:28,176 - INFO - Successfully loaded CSV with 39154 rows and 7 columns\n",
      "2025-04-26 12:28:28,475 - INFO - Successfully loaded CSV with 2859 rows and 3 columns\n",
      "2025-04-26 12:28:28,642 - INFO - Successfully loaded CSV with 1565 rows and 7 columns\n",
      "2025-04-26 12:28:28,815 - INFO - Successfully loaded CSV with 3065 rows and 7 columns\n",
      "2025-04-26 12:28:29,107 - INFO - Successfully loaded CSV with 6331 rows and 7 columns\n",
      "2025-04-26 12:28:29,253 - INFO - Successfully loaded CSV with 3332 rows and 7 columns\n",
      "2025-04-26 12:28:29,455 - INFO - Successfully loaded CSV with 5809 rows and 7 columns\n",
      "2025-04-26 12:28:31,000 - INFO - Successfully loaded CSV with 53757 rows and 7 columns\n",
      "2025-04-26 12:28:31,042 - INFO - Preprocessing email data...\n",
      "2025-04-26 12:28:31,062 - INFO - Preprocessing complete\n",
      "2025-04-26 12:28:31,062 - INFO - Preprocessing email data...\n",
      "2025-04-26 12:28:31,082 - INFO - Preprocessing complete\n"
     ]
    }
   ],
   "execution_count": 10
  },
  {
   "metadata": {
    "ExecuteTime": {
     "end_time": "2025-04-26T09:28:33.119873Z",
     "start_time": "2025-04-26T09:28:33.107167Z"
    }
   },
   "cell_type": "code",
   "source": "processed_spam.head()",
   "id": "a1a195a0f1828662",
   "outputs": [
    {
     "data": {
      "text/plain": [
       "                                           sender  \\\n",
       "0           CNN Alerts <sumatra11960@quirant.com>   \n",
       "1                                       perron <>   \n",
       "2  Mariana Sampson <fsbsgoixpsbf@boyslieband.com>   \n",
       "3   CNN Alerts <rivmeced@thefloridayachtclub.org>   \n",
       "4           Tommy Coffman <moroccox4@vdaalst.com>   \n",
       "\n",
       "                           receiver                             date  \\\n",
       "0    email622@gvc.ceas-challenge.cc  Fri, 08 Aug 2008 05:20:09 -0400   \n",
       "1     user8.2@gvc.ceas-challenge.cc  Wed, 06 Aug 2008 08:53:03 +0200   \n",
       "2  user7-ext2@gvc.ceas-challenge.cc  Fri, 08 Aug 2008 02:31:44 -0600   \n",
       "3     user8.3@gvc.ceas-challenge.cc  Fri, 08 Aug 2008 08:34:20 -0400   \n",
       "4  user7-ext3@gvc.ceas-challenge.cc  Thu, 07 Aug 2008 10:12:13 -0300   \n",
       "\n",
       "                                 subject  \\\n",
       "0            CNN Alerts: My Custom Alert   \n",
       "1     Karma sutra techniques for G-spots   \n",
       "2                   From Mariana Sampson   \n",
       "3            CNN Alerts: My Custom Alert   \n",
       "4  ToAllCountriesThankYouForOurCustomers   \n",
       "\n",
       "                                                body  label urls  \\\n",
       "0  \\n\\nCNN Alerts: My Custom Alert\\n\\n\\n\\n\\n\\n\\n ...      1    0   \n",
       "1  \\nGrow longer and harder with our all natural ...      1    1   \n",
       "2  \\n\\n\\n\\n\\n\\n\\nInst tao ant Online Payday Loans...      1    1   \n",
       "3  \\n\\n\\nCNN Alerts: My Custom Alert\\n\\n\\n\\n\\n\\n\\...      1    0   \n",
       "4  \\nCanadianInternationalPharmacyFriendlySupport...      1    1   \n",
       "\n",
       "                                       combined_text  \n",
       "0  From: CNN Alerts <sumatra11960@quirant.com>\\nT...  \n",
       "1  From: perron <>\\nTo: user8.2@gvc.ceas-challeng...  \n",
       "2  From: Mariana Sampson <fsbsgoixpsbf@boyslieban...  \n",
       "3  From: CNN Alerts <rivmeced@thefloridayachtclub...  \n",
       "4  From: Tommy Coffman <moroccox4@vdaalst.com>\\nT...  "
      ],
      "text/html": [
       "<div>\n",
       "<style scoped>\n",
       "    .dataframe tbody tr th:only-of-type {\n",
       "        vertical-align: middle;\n",
       "    }\n",
       "\n",
       "    .dataframe tbody tr th {\n",
       "        vertical-align: top;\n",
       "    }\n",
       "\n",
       "    .dataframe thead th {\n",
       "        text-align: right;\n",
       "    }\n",
       "</style>\n",
       "<table border=\"1\" class=\"dataframe\">\n",
       "  <thead>\n",
       "    <tr style=\"text-align: right;\">\n",
       "      <th></th>\n",
       "      <th>sender</th>\n",
       "      <th>receiver</th>\n",
       "      <th>date</th>\n",
       "      <th>subject</th>\n",
       "      <th>body</th>\n",
       "      <th>label</th>\n",
       "      <th>urls</th>\n",
       "      <th>combined_text</th>\n",
       "    </tr>\n",
       "  </thead>\n",
       "  <tbody>\n",
       "    <tr>\n",
       "      <th>0</th>\n",
       "      <td>CNN Alerts &lt;sumatra11960@quirant.com&gt;</td>\n",
       "      <td>email622@gvc.ceas-challenge.cc</td>\n",
       "      <td>Fri, 08 Aug 2008 05:20:09 -0400</td>\n",
       "      <td>CNN Alerts: My Custom Alert</td>\n",
       "      <td>\\n\\nCNN Alerts: My Custom Alert\\n\\n\\n\\n\\n\\n\\n ...</td>\n",
       "      <td>1</td>\n",
       "      <td>0</td>\n",
       "      <td>From: CNN Alerts &lt;sumatra11960@quirant.com&gt;\\nT...</td>\n",
       "    </tr>\n",
       "    <tr>\n",
       "      <th>1</th>\n",
       "      <td>perron &lt;&gt;</td>\n",
       "      <td>user8.2@gvc.ceas-challenge.cc</td>\n",
       "      <td>Wed, 06 Aug 2008 08:53:03 +0200</td>\n",
       "      <td>Karma sutra techniques for G-spots</td>\n",
       "      <td>\\nGrow longer and harder with our all natural ...</td>\n",
       "      <td>1</td>\n",
       "      <td>1</td>\n",
       "      <td>From: perron &lt;&gt;\\nTo: user8.2@gvc.ceas-challeng...</td>\n",
       "    </tr>\n",
       "    <tr>\n",
       "      <th>2</th>\n",
       "      <td>Mariana Sampson &lt;fsbsgoixpsbf@boyslieband.com&gt;</td>\n",
       "      <td>user7-ext2@gvc.ceas-challenge.cc</td>\n",
       "      <td>Fri, 08 Aug 2008 02:31:44 -0600</td>\n",
       "      <td>From Mariana Sampson</td>\n",
       "      <td>\\n\\n\\n\\n\\n\\n\\nInst tao ant Online Payday Loans...</td>\n",
       "      <td>1</td>\n",
       "      <td>1</td>\n",
       "      <td>From: Mariana Sampson &lt;fsbsgoixpsbf@boyslieban...</td>\n",
       "    </tr>\n",
       "    <tr>\n",
       "      <th>3</th>\n",
       "      <td>CNN Alerts &lt;rivmeced@thefloridayachtclub.org&gt;</td>\n",
       "      <td>user8.3@gvc.ceas-challenge.cc</td>\n",
       "      <td>Fri, 08 Aug 2008 08:34:20 -0400</td>\n",
       "      <td>CNN Alerts: My Custom Alert</td>\n",
       "      <td>\\n\\n\\nCNN Alerts: My Custom Alert\\n\\n\\n\\n\\n\\n\\...</td>\n",
       "      <td>1</td>\n",
       "      <td>0</td>\n",
       "      <td>From: CNN Alerts &lt;rivmeced@thefloridayachtclub...</td>\n",
       "    </tr>\n",
       "    <tr>\n",
       "      <th>4</th>\n",
       "      <td>Tommy Coffman &lt;moroccox4@vdaalst.com&gt;</td>\n",
       "      <td>user7-ext3@gvc.ceas-challenge.cc</td>\n",
       "      <td>Thu, 07 Aug 2008 10:12:13 -0300</td>\n",
       "      <td>ToAllCountriesThankYouForOurCustomers</td>\n",
       "      <td>\\nCanadianInternationalPharmacyFriendlySupport...</td>\n",
       "      <td>1</td>\n",
       "      <td>1</td>\n",
       "      <td>From: Tommy Coffman &lt;moroccox4@vdaalst.com&gt;\\nT...</td>\n",
       "    </tr>\n",
       "  </tbody>\n",
       "</table>\n",
       "</div>"
      ]
     },
     "execution_count": 11,
     "metadata": {},
     "output_type": "execute_result"
    }
   ],
   "execution_count": 11
  },
  {
   "metadata": {
    "ExecuteTime": {
     "end_time": "2025-04-26T09:28:37.019210Z",
     "start_time": "2025-04-26T09:28:37.006889Z"
    }
   },
   "cell_type": "code",
   "source": "processed_ham.head()",
   "id": "51c35ac3bf774657",
   "outputs": [
    {
     "data": {
      "text/plain": [
       "                                              sender  \\\n",
       "0                                      jl@apache.org   \n",
       "1  \"ICG Campbell, Engineering Mathematics\" <c.dzm...   \n",
       "2                               vvrpgs@porcupine.org   \n",
       "3                   Jeff Hodsdon <adyvurq@gmail.com>   \n",
       "4                           gabi dinu <nu@prutul.ro>   \n",
       "\n",
       "                                            receiver  \\\n",
       "0                    niuxjhu@spamassassin.apache.org   \n",
       "1  rgkwpdahmhmail@cs.cmu.edu, rgrmu-dlqu@stat.cmu...   \n",
       "2                   don johnson <httlfleq@gmail.com>   \n",
       "3                Leah Culver <pvyk.khuxqi@gmail.com>   \n",
       "4                          rljdsng-xyqoh@postfix.org   \n",
       "\n",
       "                              date  \\\n",
       "0  Wed, 06 Aug 2008 00:05:55 +0000   \n",
       "1  Thu, 07 Aug 2008 17:38:16 +0000   \n",
       "2  Thu, 07 Aug 2008 06:47:17 -0500   \n",
       "3  Wed, 06 Aug 2008 03:48:38 -0700   \n",
       "4  Fri, 08 Aug 2008 09:51:03 +0200   \n",
       "\n",
       "                                             subject  \\\n",
       "0  svn commit: r581582 - /spamassassin/trunk/rule...   \n",
       "1  [UAI] Lectureship/Readership Available: Bristo...   \n",
       "2        Re: queue file write error for some domains   \n",
       "3            [PownceAPI] Re: OAuth Bug in Pownce API   \n",
       "4                      Problem with forwarding email   \n",
       "\n",
       "                                                body  label urls  \\\n",
       "0  Author: jm\\nDate: Wed Oct  3 05:33:08 2007\\nNe...      0    1   \n",
       "1  Lecturership or Readership available in the:\\n...      0    1   \n",
       "2  don johnson: > Feb 19 22:09:23 mail postfix/sm...      0    0   \n",
       "3  Ah, figured that is what is up!(expect it was ...      0    1   \n",
       "4  this is my configuration:\\n\\n/etc/postfix/main...      0    0   \n",
       "\n",
       "                                       combined_text  \n",
       "0  From: jl@apache.org\\nTo: niuxjhu@spamassassin....  \n",
       "1  From: \"ICG Campbell, Engineering Mathematics\" ...  \n",
       "2  From: vvrpgs@porcupine.org\\nTo: don johnson <h...  \n",
       "3  From: Jeff Hodsdon <adyvurq@gmail.com>\\nTo: Le...  \n",
       "4  From: gabi dinu <nu@prutul.ro>\\nTo: rljdsng-xy...  "
      ],
      "text/html": [
       "<div>\n",
       "<style scoped>\n",
       "    .dataframe tbody tr th:only-of-type {\n",
       "        vertical-align: middle;\n",
       "    }\n",
       "\n",
       "    .dataframe tbody tr th {\n",
       "        vertical-align: top;\n",
       "    }\n",
       "\n",
       "    .dataframe thead th {\n",
       "        text-align: right;\n",
       "    }\n",
       "</style>\n",
       "<table border=\"1\" class=\"dataframe\">\n",
       "  <thead>\n",
       "    <tr style=\"text-align: right;\">\n",
       "      <th></th>\n",
       "      <th>sender</th>\n",
       "      <th>receiver</th>\n",
       "      <th>date</th>\n",
       "      <th>subject</th>\n",
       "      <th>body</th>\n",
       "      <th>label</th>\n",
       "      <th>urls</th>\n",
       "      <th>combined_text</th>\n",
       "    </tr>\n",
       "  </thead>\n",
       "  <tbody>\n",
       "    <tr>\n",
       "      <th>0</th>\n",
       "      <td>jl@apache.org</td>\n",
       "      <td>niuxjhu@spamassassin.apache.org</td>\n",
       "      <td>Wed, 06 Aug 2008 00:05:55 +0000</td>\n",
       "      <td>svn commit: r581582 - /spamassassin/trunk/rule...</td>\n",
       "      <td>Author: jm\\nDate: Wed Oct  3 05:33:08 2007\\nNe...</td>\n",
       "      <td>0</td>\n",
       "      <td>1</td>\n",
       "      <td>From: jl@apache.org\\nTo: niuxjhu@spamassassin....</td>\n",
       "    </tr>\n",
       "    <tr>\n",
       "      <th>1</th>\n",
       "      <td>\"ICG Campbell, Engineering Mathematics\" &lt;c.dzm...</td>\n",
       "      <td>rgkwpdahmhmail@cs.cmu.edu, rgrmu-dlqu@stat.cmu...</td>\n",
       "      <td>Thu, 07 Aug 2008 17:38:16 +0000</td>\n",
       "      <td>[UAI] Lectureship/Readership Available: Bristo...</td>\n",
       "      <td>Lecturership or Readership available in the:\\n...</td>\n",
       "      <td>0</td>\n",
       "      <td>1</td>\n",
       "      <td>From: \"ICG Campbell, Engineering Mathematics\" ...</td>\n",
       "    </tr>\n",
       "    <tr>\n",
       "      <th>2</th>\n",
       "      <td>vvrpgs@porcupine.org</td>\n",
       "      <td>don johnson &lt;httlfleq@gmail.com&gt;</td>\n",
       "      <td>Thu, 07 Aug 2008 06:47:17 -0500</td>\n",
       "      <td>Re: queue file write error for some domains</td>\n",
       "      <td>don johnson: &gt; Feb 19 22:09:23 mail postfix/sm...</td>\n",
       "      <td>0</td>\n",
       "      <td>0</td>\n",
       "      <td>From: vvrpgs@porcupine.org\\nTo: don johnson &lt;h...</td>\n",
       "    </tr>\n",
       "    <tr>\n",
       "      <th>3</th>\n",
       "      <td>Jeff Hodsdon &lt;adyvurq@gmail.com&gt;</td>\n",
       "      <td>Leah Culver &lt;pvyk.khuxqi@gmail.com&gt;</td>\n",
       "      <td>Wed, 06 Aug 2008 03:48:38 -0700</td>\n",
       "      <td>[PownceAPI] Re: OAuth Bug in Pownce API</td>\n",
       "      <td>Ah, figured that is what is up!(expect it was ...</td>\n",
       "      <td>0</td>\n",
       "      <td>1</td>\n",
       "      <td>From: Jeff Hodsdon &lt;adyvurq@gmail.com&gt;\\nTo: Le...</td>\n",
       "    </tr>\n",
       "    <tr>\n",
       "      <th>4</th>\n",
       "      <td>gabi dinu &lt;nu@prutul.ro&gt;</td>\n",
       "      <td>rljdsng-xyqoh@postfix.org</td>\n",
       "      <td>Fri, 08 Aug 2008 09:51:03 +0200</td>\n",
       "      <td>Problem with forwarding email</td>\n",
       "      <td>this is my configuration:\\n\\n/etc/postfix/main...</td>\n",
       "      <td>0</td>\n",
       "      <td>0</td>\n",
       "      <td>From: gabi dinu &lt;nu@prutul.ro&gt;\\nTo: rljdsng-xy...</td>\n",
       "    </tr>\n",
       "  </tbody>\n",
       "</table>\n",
       "</div>"
      ]
     },
     "execution_count": 12,
     "metadata": {},
     "output_type": "execute_result"
    }
   ],
   "execution_count": 12
  },
  {
   "metadata": {
    "ExecuteTime": {
     "end_time": "2025-04-26T09:28:42.928571Z",
     "start_time": "2025-04-26T09:28:42.559938Z"
    }
   },
   "cell_type": "code",
   "source": [
    "documents_spam: list[Document] = create_documents_from_dataframe(processed_spam)\n",
    "documents_ham: list[Document] = create_documents_from_dataframe(processed_ham)"
   ],
   "id": "a87efa92dbc377ef",
   "outputs": [
    {
     "name": "stderr",
     "output_type": "stream",
     "text": [
      "2025-04-26 12:28:42,561 - INFO - Creating LlamaIndex documents from DataFrame...\n",
      "2025-04-26 12:28:42,650 - INFO - Created 800 documents\n",
      "2025-04-26 12:28:42,654 - INFO - Creating LlamaIndex documents from DataFrame...\n",
      "2025-04-26 12:28:42,925 - INFO - Created 600 documents\n"
     ]
    }
   ],
   "execution_count": 13
  },
  {
   "metadata": {
    "ExecuteTime": {
     "end_time": "2025-04-26T09:28:46.732022Z",
     "start_time": "2025-04-26T09:28:44.916023Z"
    }
   },
   "cell_type": "code",
   "source": [
    "nodes_spam: list[TextNode] = chunk_documents(documents_spam)\n",
    "nodes_ham: list[TextNode] = chunk_documents(documents_ham)"
   ],
   "id": "e081d53e48e66787",
   "outputs": [
    {
     "name": "stderr",
     "output_type": "stream",
     "text": [
      "2025-04-26 12:28:44,918 - INFO - Chunking documents with size=8192, overlap=20\n",
      "2025-04-26 12:28:46,051 - INFO - Created 802 nodes from 800 documents\n",
      "2025-04-26 12:28:46,052 - INFO - Chunking documents with size=8192, overlap=20\n",
      "2025-04-26 12:28:46,729 - INFO - Created 605 nodes from 600 documents\n"
     ]
    }
   ],
   "execution_count": 14
  },
  {
   "metadata": {
    "ExecuteTime": {
     "end_time": "2025-04-26T09:32:42.461724Z",
     "start_time": "2025-04-26T09:28:49.251414Z"
    }
   },
   "cell_type": "code",
   "source": [
    "embed_model: HuggingFaceEmbedding = HuggingFaceEmbedding(model_name=\"BAAI/bge-small-en-v1.5\")\n",
    "Settings.embed_model = embed_model\n",
    "\n",
    "index_spam: VectorStoreIndex= create_index_from_documents(nodes_spam)\n",
    "index_ham: VectorStoreIndex= create_index_from_documents(nodes_ham)"
   ],
   "id": "867943f95e6d176a",
   "outputs": [
    {
     "name": "stderr",
     "output_type": "stream",
     "text": [
      "2025-04-26 12:28:49,253 - INFO - Load pretrained SentenceTransformer: BAAI/bge-small-en-v1.5\n",
      "2025-04-26 12:28:51,042 - INFO - 2 prompts are loaded, with the keys: ['query', 'text']\n",
      "2025-04-26 12:28:51,045 - INFO - Creating vector index...\n"
     ]
    },
    {
     "data": {
      "text/plain": [
       "Batches:   0%|          | 0/1 [00:00<?, ?it/s]"
      ],
      "application/vnd.jupyter.widget-view+json": {
       "version_major": 2,
       "version_minor": 0,
       "model_id": "4cd205e3e22f4783b2c1631160e5d6fa"
      }
     },
     "metadata": {},
     "output_type": "display_data"
    },
    {
     "data": {
      "text/plain": [
       "Batches:   0%|          | 0/1 [00:00<?, ?it/s]"
      ],
      "application/vnd.jupyter.widget-view+json": {
       "version_major": 2,
       "version_minor": 0,
       "model_id": "4df5b2763ec34b088b9c6bceaf172922"
      }
     },
     "metadata": {},
     "output_type": "display_data"
    },
    {
     "data": {
      "text/plain": [
       "Batches:   0%|          | 0/1 [00:00<?, ?it/s]"
      ],
      "application/vnd.jupyter.widget-view+json": {
       "version_major": 2,
       "version_minor": 0,
       "model_id": "3e2d6fbba8cd4b8cbf60fe2fc8c73335"
      }
     },
     "metadata": {},
     "output_type": "display_data"
    },
    {
     "data": {
      "text/plain": [
       "Batches:   0%|          | 0/1 [00:00<?, ?it/s]"
      ],
      "application/vnd.jupyter.widget-view+json": {
       "version_major": 2,
       "version_minor": 0,
       "model_id": "404d095edc2b4df6b081d0c1e77b621f"
      }
     },
     "metadata": {},
     "output_type": "display_data"
    },
    {
     "data": {
      "text/plain": [
       "Batches:   0%|          | 0/1 [00:00<?, ?it/s]"
      ],
      "application/vnd.jupyter.widget-view+json": {
       "version_major": 2,
       "version_minor": 0,
       "model_id": "da4f6dc8fc6f43b482541b7b6a653350"
      }
     },
     "metadata": {},
     "output_type": "display_data"
    },
    {
     "data": {
      "text/plain": [
       "Batches:   0%|          | 0/1 [00:00<?, ?it/s]"
      ],
      "application/vnd.jupyter.widget-view+json": {
       "version_major": 2,
       "version_minor": 0,
       "model_id": "a96ef31bdb8440d58ef546b9ea969b64"
      }
     },
     "metadata": {},
     "output_type": "display_data"
    },
    {
     "data": {
      "text/plain": [
       "Batches:   0%|          | 0/1 [00:00<?, ?it/s]"
      ],
      "application/vnd.jupyter.widget-view+json": {
       "version_major": 2,
       "version_minor": 0,
       "model_id": "d95202456d9349afb44bdb95618c2e1b"
      }
     },
     "metadata": {},
     "output_type": "display_data"
    },
    {
     "data": {
      "text/plain": [
       "Batches:   0%|          | 0/1 [00:00<?, ?it/s]"
      ],
      "application/vnd.jupyter.widget-view+json": {
       "version_major": 2,
       "version_minor": 0,
       "model_id": "7c4f01850f644105a9ef68f1c865a813"
      }
     },
     "metadata": {},
     "output_type": "display_data"
    },
    {
     "data": {
      "text/plain": [
       "Batches:   0%|          | 0/1 [00:00<?, ?it/s]"
      ],
      "application/vnd.jupyter.widget-view+json": {
       "version_major": 2,
       "version_minor": 0,
       "model_id": "f615b66f2bab43b0b99bc98920ded046"
      }
     },
     "metadata": {},
     "output_type": "display_data"
    },
    {
     "data": {
      "text/plain": [
       "Batches:   0%|          | 0/1 [00:00<?, ?it/s]"
      ],
      "application/vnd.jupyter.widget-view+json": {
       "version_major": 2,
       "version_minor": 0,
       "model_id": "b773f7d5fd94404a89a564ad3209e1b2"
      }
     },
     "metadata": {},
     "output_type": "display_data"
    },
    {
     "data": {
      "text/plain": [
       "Batches:   0%|          | 0/1 [00:00<?, ?it/s]"
      ],
      "application/vnd.jupyter.widget-view+json": {
       "version_major": 2,
       "version_minor": 0,
       "model_id": "660750a278b543e786e9612f369eac72"
      }
     },
     "metadata": {},
     "output_type": "display_data"
    },
    {
     "data": {
      "text/plain": [
       "Batches:   0%|          | 0/1 [00:00<?, ?it/s]"
      ],
      "application/vnd.jupyter.widget-view+json": {
       "version_major": 2,
       "version_minor": 0,
       "model_id": "c766a07f3df646f0b33f3fee29e78333"
      }
     },
     "metadata": {},
     "output_type": "display_data"
    },
    {
     "data": {
      "text/plain": [
       "Batches:   0%|          | 0/1 [00:00<?, ?it/s]"
      ],
      "application/vnd.jupyter.widget-view+json": {
       "version_major": 2,
       "version_minor": 0,
       "model_id": "0ed84bbf585f4cd3a703438bf0d18cbb"
      }
     },
     "metadata": {},
     "output_type": "display_data"
    },
    {
     "data": {
      "text/plain": [
       "Batches:   0%|          | 0/1 [00:00<?, ?it/s]"
      ],
      "application/vnd.jupyter.widget-view+json": {
       "version_major": 2,
       "version_minor": 0,
       "model_id": "dd5db7ab6e984594b922f4679820ec0e"
      }
     },
     "metadata": {},
     "output_type": "display_data"
    },
    {
     "data": {
      "text/plain": [
       "Batches:   0%|          | 0/1 [00:00<?, ?it/s]"
      ],
      "application/vnd.jupyter.widget-view+json": {
       "version_major": 2,
       "version_minor": 0,
       "model_id": "884f2e6567f34ab0b00e6fb7faaeab3a"
      }
     },
     "metadata": {},
     "output_type": "display_data"
    },
    {
     "data": {
      "text/plain": [
       "Batches:   0%|          | 0/1 [00:00<?, ?it/s]"
      ],
      "application/vnd.jupyter.widget-view+json": {
       "version_major": 2,
       "version_minor": 0,
       "model_id": "d10d563f1e2440ae8f76caa4c279b1ec"
      }
     },
     "metadata": {},
     "output_type": "display_data"
    },
    {
     "data": {
      "text/plain": [
       "Batches:   0%|          | 0/1 [00:00<?, ?it/s]"
      ],
      "application/vnd.jupyter.widget-view+json": {
       "version_major": 2,
       "version_minor": 0,
       "model_id": "b7cd4960fb5147ecaef6abde055549b4"
      }
     },
     "metadata": {},
     "output_type": "display_data"
    },
    {
     "data": {
      "text/plain": [
       "Batches:   0%|          | 0/1 [00:00<?, ?it/s]"
      ],
      "application/vnd.jupyter.widget-view+json": {
       "version_major": 2,
       "version_minor": 0,
       "model_id": "af11f4ea640f44abb2bb847e2d354987"
      }
     },
     "metadata": {},
     "output_type": "display_data"
    },
    {
     "data": {
      "text/plain": [
       "Batches:   0%|          | 0/1 [00:00<?, ?it/s]"
      ],
      "application/vnd.jupyter.widget-view+json": {
       "version_major": 2,
       "version_minor": 0,
       "model_id": "5bae51710e054bdd965a3adaaa654058"
      }
     },
     "metadata": {},
     "output_type": "display_data"
    },
    {
     "data": {
      "text/plain": [
       "Batches:   0%|          | 0/1 [00:00<?, ?it/s]"
      ],
      "application/vnd.jupyter.widget-view+json": {
       "version_major": 2,
       "version_minor": 0,
       "model_id": "b2b41e3f79d042a4befb71483e89a484"
      }
     },
     "metadata": {},
     "output_type": "display_data"
    },
    {
     "data": {
      "text/plain": [
       "Batches:   0%|          | 0/1 [00:00<?, ?it/s]"
      ],
      "application/vnd.jupyter.widget-view+json": {
       "version_major": 2,
       "version_minor": 0,
       "model_id": "1cab0d1565eb4122b420f9d8ae945fb6"
      }
     },
     "metadata": {},
     "output_type": "display_data"
    },
    {
     "data": {
      "text/plain": [
       "Batches:   0%|          | 0/1 [00:00<?, ?it/s]"
      ],
      "application/vnd.jupyter.widget-view+json": {
       "version_major": 2,
       "version_minor": 0,
       "model_id": "933b88f29c9b464f90a71f2084a711b1"
      }
     },
     "metadata": {},
     "output_type": "display_data"
    },
    {
     "data": {
      "text/plain": [
       "Batches:   0%|          | 0/1 [00:00<?, ?it/s]"
      ],
      "application/vnd.jupyter.widget-view+json": {
       "version_major": 2,
       "version_minor": 0,
       "model_id": "3de87da7cfa64ff5a13f6e15d0f547b8"
      }
     },
     "metadata": {},
     "output_type": "display_data"
    },
    {
     "data": {
      "text/plain": [
       "Batches:   0%|          | 0/1 [00:00<?, ?it/s]"
      ],
      "application/vnd.jupyter.widget-view+json": {
       "version_major": 2,
       "version_minor": 0,
       "model_id": "f4707fabd9804c1483e471f27dc44a64"
      }
     },
     "metadata": {},
     "output_type": "display_data"
    },
    {
     "data": {
      "text/plain": [
       "Batches:   0%|          | 0/1 [00:00<?, ?it/s]"
      ],
      "application/vnd.jupyter.widget-view+json": {
       "version_major": 2,
       "version_minor": 0,
       "model_id": "b09fdc46d20d46fe9ac5537f50d577ca"
      }
     },
     "metadata": {},
     "output_type": "display_data"
    },
    {
     "data": {
      "text/plain": [
       "Batches:   0%|          | 0/1 [00:00<?, ?it/s]"
      ],
      "application/vnd.jupyter.widget-view+json": {
       "version_major": 2,
       "version_minor": 0,
       "model_id": "5c8651a95dec4e63bafc183ac5e28860"
      }
     },
     "metadata": {},
     "output_type": "display_data"
    },
    {
     "data": {
      "text/plain": [
       "Batches:   0%|          | 0/1 [00:00<?, ?it/s]"
      ],
      "application/vnd.jupyter.widget-view+json": {
       "version_major": 2,
       "version_minor": 0,
       "model_id": "30e60be1b72946239e4ab33e0820aacb"
      }
     },
     "metadata": {},
     "output_type": "display_data"
    },
    {
     "data": {
      "text/plain": [
       "Batches:   0%|          | 0/1 [00:00<?, ?it/s]"
      ],
      "application/vnd.jupyter.widget-view+json": {
       "version_major": 2,
       "version_minor": 0,
       "model_id": "978aba3afe514b3cbf90c263b6dbd385"
      }
     },
     "metadata": {},
     "output_type": "display_data"
    },
    {
     "data": {
      "text/plain": [
       "Batches:   0%|          | 0/1 [00:00<?, ?it/s]"
      ],
      "application/vnd.jupyter.widget-view+json": {
       "version_major": 2,
       "version_minor": 0,
       "model_id": "07c0d115d4c34a38b1230ed390c8c747"
      }
     },
     "metadata": {},
     "output_type": "display_data"
    },
    {
     "data": {
      "text/plain": [
       "Batches:   0%|          | 0/1 [00:00<?, ?it/s]"
      ],
      "application/vnd.jupyter.widget-view+json": {
       "version_major": 2,
       "version_minor": 0,
       "model_id": "95f8a28b336a490e9b8b13cc9d55e8fa"
      }
     },
     "metadata": {},
     "output_type": "display_data"
    },
    {
     "data": {
      "text/plain": [
       "Batches:   0%|          | 0/1 [00:00<?, ?it/s]"
      ],
      "application/vnd.jupyter.widget-view+json": {
       "version_major": 2,
       "version_minor": 0,
       "model_id": "2a5abf4ba1d445ac983e4de29fc948fd"
      }
     },
     "metadata": {},
     "output_type": "display_data"
    },
    {
     "data": {
      "text/plain": [
       "Batches:   0%|          | 0/1 [00:00<?, ?it/s]"
      ],
      "application/vnd.jupyter.widget-view+json": {
       "version_major": 2,
       "version_minor": 0,
       "model_id": "96aa12c738234282b4070b433375a61e"
      }
     },
     "metadata": {},
     "output_type": "display_data"
    },
    {
     "data": {
      "text/plain": [
       "Batches:   0%|          | 0/1 [00:00<?, ?it/s]"
      ],
      "application/vnd.jupyter.widget-view+json": {
       "version_major": 2,
       "version_minor": 0,
       "model_id": "ec26d7ec2d444bb79feb908b30bf99d9"
      }
     },
     "metadata": {},
     "output_type": "display_data"
    },
    {
     "data": {
      "text/plain": [
       "Batches:   0%|          | 0/1 [00:00<?, ?it/s]"
      ],
      "application/vnd.jupyter.widget-view+json": {
       "version_major": 2,
       "version_minor": 0,
       "model_id": "a77d1501f96e40d2a447bd3f37899717"
      }
     },
     "metadata": {},
     "output_type": "display_data"
    },
    {
     "data": {
      "text/plain": [
       "Batches:   0%|          | 0/1 [00:00<?, ?it/s]"
      ],
      "application/vnd.jupyter.widget-view+json": {
       "version_major": 2,
       "version_minor": 0,
       "model_id": "a2047ce8ec954562bac75299f1acb74c"
      }
     },
     "metadata": {},
     "output_type": "display_data"
    },
    {
     "data": {
      "text/plain": [
       "Batches:   0%|          | 0/1 [00:00<?, ?it/s]"
      ],
      "application/vnd.jupyter.widget-view+json": {
       "version_major": 2,
       "version_minor": 0,
       "model_id": "cd53ad2eb53e4711b35e89adff70efc6"
      }
     },
     "metadata": {},
     "output_type": "display_data"
    },
    {
     "data": {
      "text/plain": [
       "Batches:   0%|          | 0/1 [00:00<?, ?it/s]"
      ],
      "application/vnd.jupyter.widget-view+json": {
       "version_major": 2,
       "version_minor": 0,
       "model_id": "84864761e93c41e89c4eb983621ba7c4"
      }
     },
     "metadata": {},
     "output_type": "display_data"
    },
    {
     "data": {
      "text/plain": [
       "Batches:   0%|          | 0/1 [00:00<?, ?it/s]"
      ],
      "application/vnd.jupyter.widget-view+json": {
       "version_major": 2,
       "version_minor": 0,
       "model_id": "f4570494ee5b46e8b17e713fddc560e0"
      }
     },
     "metadata": {},
     "output_type": "display_data"
    },
    {
     "data": {
      "text/plain": [
       "Batches:   0%|          | 0/1 [00:00<?, ?it/s]"
      ],
      "application/vnd.jupyter.widget-view+json": {
       "version_major": 2,
       "version_minor": 0,
       "model_id": "325e5018ee33483eafd96bb892638fcd"
      }
     },
     "metadata": {},
     "output_type": "display_data"
    },
    {
     "data": {
      "text/plain": [
       "Batches:   0%|          | 0/1 [00:00<?, ?it/s]"
      ],
      "application/vnd.jupyter.widget-view+json": {
       "version_major": 2,
       "version_minor": 0,
       "model_id": "875f51ad94644bbf8c096e0a33e42227"
      }
     },
     "metadata": {},
     "output_type": "display_data"
    },
    {
     "data": {
      "text/plain": [
       "Batches:   0%|          | 0/1 [00:00<?, ?it/s]"
      ],
      "application/vnd.jupyter.widget-view+json": {
       "version_major": 2,
       "version_minor": 0,
       "model_id": "61499fedd1484221b180b1f1760cdea0"
      }
     },
     "metadata": {},
     "output_type": "display_data"
    },
    {
     "data": {
      "text/plain": [
       "Batches:   0%|          | 0/1 [00:00<?, ?it/s]"
      ],
      "application/vnd.jupyter.widget-view+json": {
       "version_major": 2,
       "version_minor": 0,
       "model_id": "c0b28b49286d40dcba10e85ba43c8b4c"
      }
     },
     "metadata": {},
     "output_type": "display_data"
    },
    {
     "data": {
      "text/plain": [
       "Batches:   0%|          | 0/1 [00:00<?, ?it/s]"
      ],
      "application/vnd.jupyter.widget-view+json": {
       "version_major": 2,
       "version_minor": 0,
       "model_id": "aa7124509f5440d08f45b5a38f0e5dbc"
      }
     },
     "metadata": {},
     "output_type": "display_data"
    },
    {
     "data": {
      "text/plain": [
       "Batches:   0%|          | 0/1 [00:00<?, ?it/s]"
      ],
      "application/vnd.jupyter.widget-view+json": {
       "version_major": 2,
       "version_minor": 0,
       "model_id": "cf03b7d6c35f45ffb23e0d3fa9425dc5"
      }
     },
     "metadata": {},
     "output_type": "display_data"
    },
    {
     "data": {
      "text/plain": [
       "Batches:   0%|          | 0/1 [00:00<?, ?it/s]"
      ],
      "application/vnd.jupyter.widget-view+json": {
       "version_major": 2,
       "version_minor": 0,
       "model_id": "df6b7b0cd5eb4f3eb9653842cf62b39f"
      }
     },
     "metadata": {},
     "output_type": "display_data"
    },
    {
     "data": {
      "text/plain": [
       "Batches:   0%|          | 0/1 [00:00<?, ?it/s]"
      ],
      "application/vnd.jupyter.widget-view+json": {
       "version_major": 2,
       "version_minor": 0,
       "model_id": "ceceeec0a27e4deaa0ee228f61d1eeef"
      }
     },
     "metadata": {},
     "output_type": "display_data"
    },
    {
     "data": {
      "text/plain": [
       "Batches:   0%|          | 0/1 [00:00<?, ?it/s]"
      ],
      "application/vnd.jupyter.widget-view+json": {
       "version_major": 2,
       "version_minor": 0,
       "model_id": "60aeedc6bf864421b6e72e6019d3fb69"
      }
     },
     "metadata": {},
     "output_type": "display_data"
    },
    {
     "data": {
      "text/plain": [
       "Batches:   0%|          | 0/1 [00:00<?, ?it/s]"
      ],
      "application/vnd.jupyter.widget-view+json": {
       "version_major": 2,
       "version_minor": 0,
       "model_id": "cd0840cc277d493783a2c679022178ad"
      }
     },
     "metadata": {},
     "output_type": "display_data"
    },
    {
     "data": {
      "text/plain": [
       "Batches:   0%|          | 0/1 [00:00<?, ?it/s]"
      ],
      "application/vnd.jupyter.widget-view+json": {
       "version_major": 2,
       "version_minor": 0,
       "model_id": "bf7c1f41c0f74f9d8f96db7200ac197e"
      }
     },
     "metadata": {},
     "output_type": "display_data"
    },
    {
     "data": {
      "text/plain": [
       "Batches:   0%|          | 0/1 [00:00<?, ?it/s]"
      ],
      "application/vnd.jupyter.widget-view+json": {
       "version_major": 2,
       "version_minor": 0,
       "model_id": "34dc76b960d94ad09e8140438f3faf7c"
      }
     },
     "metadata": {},
     "output_type": "display_data"
    },
    {
     "data": {
      "text/plain": [
       "Batches:   0%|          | 0/1 [00:00<?, ?it/s]"
      ],
      "application/vnd.jupyter.widget-view+json": {
       "version_major": 2,
       "version_minor": 0,
       "model_id": "0e241c12a99a415a968d29f8c563f687"
      }
     },
     "metadata": {},
     "output_type": "display_data"
    },
    {
     "data": {
      "text/plain": [
       "Batches:   0%|          | 0/1 [00:00<?, ?it/s]"
      ],
      "application/vnd.jupyter.widget-view+json": {
       "version_major": 2,
       "version_minor": 0,
       "model_id": "80c8ac4b37754a999372673413a5a0f8"
      }
     },
     "metadata": {},
     "output_type": "display_data"
    },
    {
     "data": {
      "text/plain": [
       "Batches:   0%|          | 0/1 [00:00<?, ?it/s]"
      ],
      "application/vnd.jupyter.widget-view+json": {
       "version_major": 2,
       "version_minor": 0,
       "model_id": "3ed5e0e5c3d14968bb869d9405d36927"
      }
     },
     "metadata": {},
     "output_type": "display_data"
    },
    {
     "data": {
      "text/plain": [
       "Batches:   0%|          | 0/1 [00:00<?, ?it/s]"
      ],
      "application/vnd.jupyter.widget-view+json": {
       "version_major": 2,
       "version_minor": 0,
       "model_id": "fc1b70eabdd141abb5fc9fc876a12d2d"
      }
     },
     "metadata": {},
     "output_type": "display_data"
    },
    {
     "data": {
      "text/plain": [
       "Batches:   0%|          | 0/1 [00:00<?, ?it/s]"
      ],
      "application/vnd.jupyter.widget-view+json": {
       "version_major": 2,
       "version_minor": 0,
       "model_id": "ab804a78eea14624935566409a7a7fbd"
      }
     },
     "metadata": {},
     "output_type": "display_data"
    },
    {
     "data": {
      "text/plain": [
       "Batches:   0%|          | 0/1 [00:00<?, ?it/s]"
      ],
      "application/vnd.jupyter.widget-view+json": {
       "version_major": 2,
       "version_minor": 0,
       "model_id": "6f43fe23eb8247a5af74770817970f01"
      }
     },
     "metadata": {},
     "output_type": "display_data"
    },
    {
     "data": {
      "text/plain": [
       "Batches:   0%|          | 0/1 [00:00<?, ?it/s]"
      ],
      "application/vnd.jupyter.widget-view+json": {
       "version_major": 2,
       "version_minor": 0,
       "model_id": "1921c25d0d084c1aa57c497926829a86"
      }
     },
     "metadata": {},
     "output_type": "display_data"
    },
    {
     "data": {
      "text/plain": [
       "Batches:   0%|          | 0/1 [00:00<?, ?it/s]"
      ],
      "application/vnd.jupyter.widget-view+json": {
       "version_major": 2,
       "version_minor": 0,
       "model_id": "37272a9e4d15443a8b94e9d7933f0a7f"
      }
     },
     "metadata": {},
     "output_type": "display_data"
    },
    {
     "data": {
      "text/plain": [
       "Batches:   0%|          | 0/1 [00:00<?, ?it/s]"
      ],
      "application/vnd.jupyter.widget-view+json": {
       "version_major": 2,
       "version_minor": 0,
       "model_id": "0cdd5a886fcf4f80b95b2df4e45b2ca5"
      }
     },
     "metadata": {},
     "output_type": "display_data"
    },
    {
     "data": {
      "text/plain": [
       "Batches:   0%|          | 0/1 [00:00<?, ?it/s]"
      ],
      "application/vnd.jupyter.widget-view+json": {
       "version_major": 2,
       "version_minor": 0,
       "model_id": "a9c372a5cc6849afadab383db1096d5b"
      }
     },
     "metadata": {},
     "output_type": "display_data"
    },
    {
     "data": {
      "text/plain": [
       "Batches:   0%|          | 0/1 [00:00<?, ?it/s]"
      ],
      "application/vnd.jupyter.widget-view+json": {
       "version_major": 2,
       "version_minor": 0,
       "model_id": "24da9e2a9b9f4a2eabc1423628491875"
      }
     },
     "metadata": {},
     "output_type": "display_data"
    },
    {
     "data": {
      "text/plain": [
       "Batches:   0%|          | 0/1 [00:00<?, ?it/s]"
      ],
      "application/vnd.jupyter.widget-view+json": {
       "version_major": 2,
       "version_minor": 0,
       "model_id": "b75769f6b3c745558ba828d66488a226"
      }
     },
     "metadata": {},
     "output_type": "display_data"
    },
    {
     "data": {
      "text/plain": [
       "Batches:   0%|          | 0/1 [00:00<?, ?it/s]"
      ],
      "application/vnd.jupyter.widget-view+json": {
       "version_major": 2,
       "version_minor": 0,
       "model_id": "d85dec24e01749c19f0c80448ce05a22"
      }
     },
     "metadata": {},
     "output_type": "display_data"
    },
    {
     "data": {
      "text/plain": [
       "Batches:   0%|          | 0/1 [00:00<?, ?it/s]"
      ],
      "application/vnd.jupyter.widget-view+json": {
       "version_major": 2,
       "version_minor": 0,
       "model_id": "0783eae516db474d8ba0613d6c281b1f"
      }
     },
     "metadata": {},
     "output_type": "display_data"
    },
    {
     "data": {
      "text/plain": [
       "Batches:   0%|          | 0/1 [00:00<?, ?it/s]"
      ],
      "application/vnd.jupyter.widget-view+json": {
       "version_major": 2,
       "version_minor": 0,
       "model_id": "621f1bbc6d48414491cdf313b6f0f3e2"
      }
     },
     "metadata": {},
     "output_type": "display_data"
    },
    {
     "data": {
      "text/plain": [
       "Batches:   0%|          | 0/1 [00:00<?, ?it/s]"
      ],
      "application/vnd.jupyter.widget-view+json": {
       "version_major": 2,
       "version_minor": 0,
       "model_id": "566fd897845342e99f73afe332734c29"
      }
     },
     "metadata": {},
     "output_type": "display_data"
    },
    {
     "data": {
      "text/plain": [
       "Batches:   0%|          | 0/1 [00:00<?, ?it/s]"
      ],
      "application/vnd.jupyter.widget-view+json": {
       "version_major": 2,
       "version_minor": 0,
       "model_id": "3d1d69a518ca44ada04f3d7ce1b3037d"
      }
     },
     "metadata": {},
     "output_type": "display_data"
    },
    {
     "data": {
      "text/plain": [
       "Batches:   0%|          | 0/1 [00:00<?, ?it/s]"
      ],
      "application/vnd.jupyter.widget-view+json": {
       "version_major": 2,
       "version_minor": 0,
       "model_id": "df0f0b2c70f145da9e364fe2c7f1eee9"
      }
     },
     "metadata": {},
     "output_type": "display_data"
    },
    {
     "data": {
      "text/plain": [
       "Batches:   0%|          | 0/1 [00:00<?, ?it/s]"
      ],
      "application/vnd.jupyter.widget-view+json": {
       "version_major": 2,
       "version_minor": 0,
       "model_id": "6e6703da18ba455abeb8d71942c92bcb"
      }
     },
     "metadata": {},
     "output_type": "display_data"
    },
    {
     "data": {
      "text/plain": [
       "Batches:   0%|          | 0/1 [00:00<?, ?it/s]"
      ],
      "application/vnd.jupyter.widget-view+json": {
       "version_major": 2,
       "version_minor": 0,
       "model_id": "1835b1f4e8d24b2896d3f010ccf32a81"
      }
     },
     "metadata": {},
     "output_type": "display_data"
    },
    {
     "data": {
      "text/plain": [
       "Batches:   0%|          | 0/1 [00:00<?, ?it/s]"
      ],
      "application/vnd.jupyter.widget-view+json": {
       "version_major": 2,
       "version_minor": 0,
       "model_id": "e562c7f63ac4481db7703d4f6f7cd856"
      }
     },
     "metadata": {},
     "output_type": "display_data"
    },
    {
     "data": {
      "text/plain": [
       "Batches:   0%|          | 0/1 [00:00<?, ?it/s]"
      ],
      "application/vnd.jupyter.widget-view+json": {
       "version_major": 2,
       "version_minor": 0,
       "model_id": "e8ced1db25b54057aab384e9a115bf4d"
      }
     },
     "metadata": {},
     "output_type": "display_data"
    },
    {
     "data": {
      "text/plain": [
       "Batches:   0%|          | 0/1 [00:00<?, ?it/s]"
      ],
      "application/vnd.jupyter.widget-view+json": {
       "version_major": 2,
       "version_minor": 0,
       "model_id": "caf9c1e4aa364ea3821fa2916143d107"
      }
     },
     "metadata": {},
     "output_type": "display_data"
    },
    {
     "data": {
      "text/plain": [
       "Batches:   0%|          | 0/1 [00:00<?, ?it/s]"
      ],
      "application/vnd.jupyter.widget-view+json": {
       "version_major": 2,
       "version_minor": 0,
       "model_id": "ff63884ab9f742dab8d10811de63ebfb"
      }
     },
     "metadata": {},
     "output_type": "display_data"
    },
    {
     "data": {
      "text/plain": [
       "Batches:   0%|          | 0/1 [00:00<?, ?it/s]"
      ],
      "application/vnd.jupyter.widget-view+json": {
       "version_major": 2,
       "version_minor": 0,
       "model_id": "1341aea62f944265aa532f99fc43f368"
      }
     },
     "metadata": {},
     "output_type": "display_data"
    },
    {
     "data": {
      "text/plain": [
       "Batches:   0%|          | 0/1 [00:00<?, ?it/s]"
      ],
      "application/vnd.jupyter.widget-view+json": {
       "version_major": 2,
       "version_minor": 0,
       "model_id": "02d578ec75c6416eae7e31f6ddd6516d"
      }
     },
     "metadata": {},
     "output_type": "display_data"
    },
    {
     "data": {
      "text/plain": [
       "Batches:   0%|          | 0/1 [00:00<?, ?it/s]"
      ],
      "application/vnd.jupyter.widget-view+json": {
       "version_major": 2,
       "version_minor": 0,
       "model_id": "2eae2dd4e0d940169d64e3269f9e74cb"
      }
     },
     "metadata": {},
     "output_type": "display_data"
    },
    {
     "data": {
      "text/plain": [
       "Batches:   0%|          | 0/1 [00:00<?, ?it/s]"
      ],
      "application/vnd.jupyter.widget-view+json": {
       "version_major": 2,
       "version_minor": 0,
       "model_id": "07c3654ae151434d83319fa0646dfcc6"
      }
     },
     "metadata": {},
     "output_type": "display_data"
    },
    {
     "data": {
      "text/plain": [
       "Batches:   0%|          | 0/1 [00:00<?, ?it/s]"
      ],
      "application/vnd.jupyter.widget-view+json": {
       "version_major": 2,
       "version_minor": 0,
       "model_id": "68d805938797449fbac4a9860f858d69"
      }
     },
     "metadata": {},
     "output_type": "display_data"
    },
    {
     "data": {
      "text/plain": [
       "Batches:   0%|          | 0/1 [00:00<?, ?it/s]"
      ],
      "application/vnd.jupyter.widget-view+json": {
       "version_major": 2,
       "version_minor": 0,
       "model_id": "c0059841a0fc4994b8bf9ca642dc021f"
      }
     },
     "metadata": {},
     "output_type": "display_data"
    },
    {
     "data": {
      "text/plain": [
       "Batches:   0%|          | 0/1 [00:00<?, ?it/s]"
      ],
      "application/vnd.jupyter.widget-view+json": {
       "version_major": 2,
       "version_minor": 0,
       "model_id": "0b5cb7e1668d44fdb9c43111ac3d3063"
      }
     },
     "metadata": {},
     "output_type": "display_data"
    },
    {
     "name": "stderr",
     "output_type": "stream",
     "text": [
      "2025-04-26 12:30:56,209 - INFO - Vector index created successfully\n",
      "2025-04-26 12:30:56,212 - INFO - Creating vector index...\n"
     ]
    },
    {
     "data": {
      "text/plain": [
       "Batches:   0%|          | 0/1 [00:00<?, ?it/s]"
      ],
      "application/vnd.jupyter.widget-view+json": {
       "version_major": 2,
       "version_minor": 0,
       "model_id": "a3a86c8e4f90473f99bb9c7e236bb06c"
      }
     },
     "metadata": {},
     "output_type": "display_data"
    },
    {
     "data": {
      "text/plain": [
       "Batches:   0%|          | 0/1 [00:00<?, ?it/s]"
      ],
      "application/vnd.jupyter.widget-view+json": {
       "version_major": 2,
       "version_minor": 0,
       "model_id": "5567b22a29544156b3ea508ba64cd5d7"
      }
     },
     "metadata": {},
     "output_type": "display_data"
    },
    {
     "data": {
      "text/plain": [
       "Batches:   0%|          | 0/1 [00:00<?, ?it/s]"
      ],
      "application/vnd.jupyter.widget-view+json": {
       "version_major": 2,
       "version_minor": 0,
       "model_id": "ae7f4701e80b4fc6ba41a4de28f81b9d"
      }
     },
     "metadata": {},
     "output_type": "display_data"
    },
    {
     "data": {
      "text/plain": [
       "Batches:   0%|          | 0/1 [00:00<?, ?it/s]"
      ],
      "application/vnd.jupyter.widget-view+json": {
       "version_major": 2,
       "version_minor": 0,
       "model_id": "5c1258228eb0409781cd894d04d5d294"
      }
     },
     "metadata": {},
     "output_type": "display_data"
    },
    {
     "data": {
      "text/plain": [
       "Batches:   0%|          | 0/1 [00:00<?, ?it/s]"
      ],
      "application/vnd.jupyter.widget-view+json": {
       "version_major": 2,
       "version_minor": 0,
       "model_id": "684b2b34ca994c36be7f30fd1a4656ca"
      }
     },
     "metadata": {},
     "output_type": "display_data"
    },
    {
     "data": {
      "text/plain": [
       "Batches:   0%|          | 0/1 [00:00<?, ?it/s]"
      ],
      "application/vnd.jupyter.widget-view+json": {
       "version_major": 2,
       "version_minor": 0,
       "model_id": "826f7959831a412aa351306469fd5c8d"
      }
     },
     "metadata": {},
     "output_type": "display_data"
    },
    {
     "data": {
      "text/plain": [
       "Batches:   0%|          | 0/1 [00:00<?, ?it/s]"
      ],
      "application/vnd.jupyter.widget-view+json": {
       "version_major": 2,
       "version_minor": 0,
       "model_id": "e244f06d3ee548edad682e1717262fca"
      }
     },
     "metadata": {},
     "output_type": "display_data"
    },
    {
     "data": {
      "text/plain": [
       "Batches:   0%|          | 0/1 [00:00<?, ?it/s]"
      ],
      "application/vnd.jupyter.widget-view+json": {
       "version_major": 2,
       "version_minor": 0,
       "model_id": "f163a4a181b64b6a984f77a86894ad42"
      }
     },
     "metadata": {},
     "output_type": "display_data"
    },
    {
     "data": {
      "text/plain": [
       "Batches:   0%|          | 0/1 [00:00<?, ?it/s]"
      ],
      "application/vnd.jupyter.widget-view+json": {
       "version_major": 2,
       "version_minor": 0,
       "model_id": "909da3a72ee44c5482944d82683e4592"
      }
     },
     "metadata": {},
     "output_type": "display_data"
    },
    {
     "data": {
      "text/plain": [
       "Batches:   0%|          | 0/1 [00:00<?, ?it/s]"
      ],
      "application/vnd.jupyter.widget-view+json": {
       "version_major": 2,
       "version_minor": 0,
       "model_id": "bac156434ba24dc8a494aff3c4e820c0"
      }
     },
     "metadata": {},
     "output_type": "display_data"
    },
    {
     "data": {
      "text/plain": [
       "Batches:   0%|          | 0/1 [00:00<?, ?it/s]"
      ],
      "application/vnd.jupyter.widget-view+json": {
       "version_major": 2,
       "version_minor": 0,
       "model_id": "f0175fe5b49246e88b3c3367b60235a6"
      }
     },
     "metadata": {},
     "output_type": "display_data"
    },
    {
     "data": {
      "text/plain": [
       "Batches:   0%|          | 0/1 [00:00<?, ?it/s]"
      ],
      "application/vnd.jupyter.widget-view+json": {
       "version_major": 2,
       "version_minor": 0,
       "model_id": "4543f02773664f1dbb8523582577e7d4"
      }
     },
     "metadata": {},
     "output_type": "display_data"
    },
    {
     "data": {
      "text/plain": [
       "Batches:   0%|          | 0/1 [00:00<?, ?it/s]"
      ],
      "application/vnd.jupyter.widget-view+json": {
       "version_major": 2,
       "version_minor": 0,
       "model_id": "dce353381478443290ae1aed2775cf31"
      }
     },
     "metadata": {},
     "output_type": "display_data"
    },
    {
     "data": {
      "text/plain": [
       "Batches:   0%|          | 0/1 [00:00<?, ?it/s]"
      ],
      "application/vnd.jupyter.widget-view+json": {
       "version_major": 2,
       "version_minor": 0,
       "model_id": "bc87cc326d1a448ea88c0c9845ab4105"
      }
     },
     "metadata": {},
     "output_type": "display_data"
    },
    {
     "data": {
      "text/plain": [
       "Batches:   0%|          | 0/1 [00:00<?, ?it/s]"
      ],
      "application/vnd.jupyter.widget-view+json": {
       "version_major": 2,
       "version_minor": 0,
       "model_id": "625883b4664945728963e6601c0939a6"
      }
     },
     "metadata": {},
     "output_type": "display_data"
    },
    {
     "data": {
      "text/plain": [
       "Batches:   0%|          | 0/1 [00:00<?, ?it/s]"
      ],
      "application/vnd.jupyter.widget-view+json": {
       "version_major": 2,
       "version_minor": 0,
       "model_id": "7cb6322bbceb4605b386c5aaae199bca"
      }
     },
     "metadata": {},
     "output_type": "display_data"
    },
    {
     "data": {
      "text/plain": [
       "Batches:   0%|          | 0/1 [00:00<?, ?it/s]"
      ],
      "application/vnd.jupyter.widget-view+json": {
       "version_major": 2,
       "version_minor": 0,
       "model_id": "e362abf781a94a528fecda100599736a"
      }
     },
     "metadata": {},
     "output_type": "display_data"
    },
    {
     "data": {
      "text/plain": [
       "Batches:   0%|          | 0/1 [00:00<?, ?it/s]"
      ],
      "application/vnd.jupyter.widget-view+json": {
       "version_major": 2,
       "version_minor": 0,
       "model_id": "df38c48c2dbe4525bf1b21601ee26742"
      }
     },
     "metadata": {},
     "output_type": "display_data"
    },
    {
     "data": {
      "text/plain": [
       "Batches:   0%|          | 0/1 [00:00<?, ?it/s]"
      ],
      "application/vnd.jupyter.widget-view+json": {
       "version_major": 2,
       "version_minor": 0,
       "model_id": "7e83b00ddc3545fd80e2346d91eb4cf0"
      }
     },
     "metadata": {},
     "output_type": "display_data"
    },
    {
     "data": {
      "text/plain": [
       "Batches:   0%|          | 0/1 [00:00<?, ?it/s]"
      ],
      "application/vnd.jupyter.widget-view+json": {
       "version_major": 2,
       "version_minor": 0,
       "model_id": "d94a7de982d445d5b47a7ae5ba79d74b"
      }
     },
     "metadata": {},
     "output_type": "display_data"
    },
    {
     "data": {
      "text/plain": [
       "Batches:   0%|          | 0/1 [00:00<?, ?it/s]"
      ],
      "application/vnd.jupyter.widget-view+json": {
       "version_major": 2,
       "version_minor": 0,
       "model_id": "7e082f7bbd3648b388ca6cf5a7d94939"
      }
     },
     "metadata": {},
     "output_type": "display_data"
    },
    {
     "data": {
      "text/plain": [
       "Batches:   0%|          | 0/1 [00:00<?, ?it/s]"
      ],
      "application/vnd.jupyter.widget-view+json": {
       "version_major": 2,
       "version_minor": 0,
       "model_id": "4a7ca8da247b4da999c96f369ecb15e7"
      }
     },
     "metadata": {},
     "output_type": "display_data"
    },
    {
     "data": {
      "text/plain": [
       "Batches:   0%|          | 0/1 [00:00<?, ?it/s]"
      ],
      "application/vnd.jupyter.widget-view+json": {
       "version_major": 2,
       "version_minor": 0,
       "model_id": "27182b77f1574a20be75fb18439934a2"
      }
     },
     "metadata": {},
     "output_type": "display_data"
    },
    {
     "data": {
      "text/plain": [
       "Batches:   0%|          | 0/1 [00:00<?, ?it/s]"
      ],
      "application/vnd.jupyter.widget-view+json": {
       "version_major": 2,
       "version_minor": 0,
       "model_id": "7ea80f1e6a7f47c6a5891c47a562eb55"
      }
     },
     "metadata": {},
     "output_type": "display_data"
    },
    {
     "data": {
      "text/plain": [
       "Batches:   0%|          | 0/1 [00:00<?, ?it/s]"
      ],
      "application/vnd.jupyter.widget-view+json": {
       "version_major": 2,
       "version_minor": 0,
       "model_id": "e65524a1b8f0468baa24b1b1ac9c3a4c"
      }
     },
     "metadata": {},
     "output_type": "display_data"
    },
    {
     "data": {
      "text/plain": [
       "Batches:   0%|          | 0/1 [00:00<?, ?it/s]"
      ],
      "application/vnd.jupyter.widget-view+json": {
       "version_major": 2,
       "version_minor": 0,
       "model_id": "d41f3f63e28c47ba8994046c0a6c313f"
      }
     },
     "metadata": {},
     "output_type": "display_data"
    },
    {
     "data": {
      "text/plain": [
       "Batches:   0%|          | 0/1 [00:00<?, ?it/s]"
      ],
      "application/vnd.jupyter.widget-view+json": {
       "version_major": 2,
       "version_minor": 0,
       "model_id": "c0e38128e2da42fba3649c86c1cd6f40"
      }
     },
     "metadata": {},
     "output_type": "display_data"
    },
    {
     "data": {
      "text/plain": [
       "Batches:   0%|          | 0/1 [00:00<?, ?it/s]"
      ],
      "application/vnd.jupyter.widget-view+json": {
       "version_major": 2,
       "version_minor": 0,
       "model_id": "2342422b0fb24be391b2708883324618"
      }
     },
     "metadata": {},
     "output_type": "display_data"
    },
    {
     "data": {
      "text/plain": [
       "Batches:   0%|          | 0/1 [00:00<?, ?it/s]"
      ],
      "application/vnd.jupyter.widget-view+json": {
       "version_major": 2,
       "version_minor": 0,
       "model_id": "768e2a67168a449181777f19e9ecae19"
      }
     },
     "metadata": {},
     "output_type": "display_data"
    },
    {
     "data": {
      "text/plain": [
       "Batches:   0%|          | 0/1 [00:00<?, ?it/s]"
      ],
      "application/vnd.jupyter.widget-view+json": {
       "version_major": 2,
       "version_minor": 0,
       "model_id": "77105f8728774e6a9d4af5891076e77e"
      }
     },
     "metadata": {},
     "output_type": "display_data"
    },
    {
     "data": {
      "text/plain": [
       "Batches:   0%|          | 0/1 [00:00<?, ?it/s]"
      ],
      "application/vnd.jupyter.widget-view+json": {
       "version_major": 2,
       "version_minor": 0,
       "model_id": "c2044f7404a5466880ccd7b16a54dc08"
      }
     },
     "metadata": {},
     "output_type": "display_data"
    },
    {
     "data": {
      "text/plain": [
       "Batches:   0%|          | 0/1 [00:00<?, ?it/s]"
      ],
      "application/vnd.jupyter.widget-view+json": {
       "version_major": 2,
       "version_minor": 0,
       "model_id": "b94673e5f54747fa9ea0f01eab44f55f"
      }
     },
     "metadata": {},
     "output_type": "display_data"
    },
    {
     "data": {
      "text/plain": [
       "Batches:   0%|          | 0/1 [00:00<?, ?it/s]"
      ],
      "application/vnd.jupyter.widget-view+json": {
       "version_major": 2,
       "version_minor": 0,
       "model_id": "e0f40080b7124d54bea1e2bc7280547c"
      }
     },
     "metadata": {},
     "output_type": "display_data"
    },
    {
     "data": {
      "text/plain": [
       "Batches:   0%|          | 0/1 [00:00<?, ?it/s]"
      ],
      "application/vnd.jupyter.widget-view+json": {
       "version_major": 2,
       "version_minor": 0,
       "model_id": "c8c666547401487fa5c3a3ff9bac6096"
      }
     },
     "metadata": {},
     "output_type": "display_data"
    },
    {
     "data": {
      "text/plain": [
       "Batches:   0%|          | 0/1 [00:00<?, ?it/s]"
      ],
      "application/vnd.jupyter.widget-view+json": {
       "version_major": 2,
       "version_minor": 0,
       "model_id": "3e4a54412d10496987619ba0cb571575"
      }
     },
     "metadata": {},
     "output_type": "display_data"
    },
    {
     "data": {
      "text/plain": [
       "Batches:   0%|          | 0/1 [00:00<?, ?it/s]"
      ],
      "application/vnd.jupyter.widget-view+json": {
       "version_major": 2,
       "version_minor": 0,
       "model_id": "7aee1898181b47b39f7bf950b9b2e3f5"
      }
     },
     "metadata": {},
     "output_type": "display_data"
    },
    {
     "data": {
      "text/plain": [
       "Batches:   0%|          | 0/1 [00:00<?, ?it/s]"
      ],
      "application/vnd.jupyter.widget-view+json": {
       "version_major": 2,
       "version_minor": 0,
       "model_id": "7d8b9508d6f44852bf80f19222339a3d"
      }
     },
     "metadata": {},
     "output_type": "display_data"
    },
    {
     "data": {
      "text/plain": [
       "Batches:   0%|          | 0/1 [00:00<?, ?it/s]"
      ],
      "application/vnd.jupyter.widget-view+json": {
       "version_major": 2,
       "version_minor": 0,
       "model_id": "02464edf7b694fcaafcd8e443f5d6f70"
      }
     },
     "metadata": {},
     "output_type": "display_data"
    },
    {
     "data": {
      "text/plain": [
       "Batches:   0%|          | 0/1 [00:00<?, ?it/s]"
      ],
      "application/vnd.jupyter.widget-view+json": {
       "version_major": 2,
       "version_minor": 0,
       "model_id": "8515f50d21d4441dbbb343ecadb7f3d8"
      }
     },
     "metadata": {},
     "output_type": "display_data"
    },
    {
     "data": {
      "text/plain": [
       "Batches:   0%|          | 0/1 [00:00<?, ?it/s]"
      ],
      "application/vnd.jupyter.widget-view+json": {
       "version_major": 2,
       "version_minor": 0,
       "model_id": "11a55b39f64c41f4a8e444acc365ba74"
      }
     },
     "metadata": {},
     "output_type": "display_data"
    },
    {
     "data": {
      "text/plain": [
       "Batches:   0%|          | 0/1 [00:00<?, ?it/s]"
      ],
      "application/vnd.jupyter.widget-view+json": {
       "version_major": 2,
       "version_minor": 0,
       "model_id": "96e08b6428824243885c079d0cd10279"
      }
     },
     "metadata": {},
     "output_type": "display_data"
    },
    {
     "data": {
      "text/plain": [
       "Batches:   0%|          | 0/1 [00:00<?, ?it/s]"
      ],
      "application/vnd.jupyter.widget-view+json": {
       "version_major": 2,
       "version_minor": 0,
       "model_id": "aada9ee53ec243d2b12f4c23ace8857c"
      }
     },
     "metadata": {},
     "output_type": "display_data"
    },
    {
     "data": {
      "text/plain": [
       "Batches:   0%|          | 0/1 [00:00<?, ?it/s]"
      ],
      "application/vnd.jupyter.widget-view+json": {
       "version_major": 2,
       "version_minor": 0,
       "model_id": "c39db38720e7449aa36fe03c1f83f1d3"
      }
     },
     "metadata": {},
     "output_type": "display_data"
    },
    {
     "data": {
      "text/plain": [
       "Batches:   0%|          | 0/1 [00:00<?, ?it/s]"
      ],
      "application/vnd.jupyter.widget-view+json": {
       "version_major": 2,
       "version_minor": 0,
       "model_id": "769f4497cdb6422ba8282ace67d8cb8b"
      }
     },
     "metadata": {},
     "output_type": "display_data"
    },
    {
     "data": {
      "text/plain": [
       "Batches:   0%|          | 0/1 [00:00<?, ?it/s]"
      ],
      "application/vnd.jupyter.widget-view+json": {
       "version_major": 2,
       "version_minor": 0,
       "model_id": "c7b66912b69341008e3cd377531e0413"
      }
     },
     "metadata": {},
     "output_type": "display_data"
    },
    {
     "data": {
      "text/plain": [
       "Batches:   0%|          | 0/1 [00:00<?, ?it/s]"
      ],
      "application/vnd.jupyter.widget-view+json": {
       "version_major": 2,
       "version_minor": 0,
       "model_id": "7a6260bb5b6a4671aa6e840a4cdf4d8e"
      }
     },
     "metadata": {},
     "output_type": "display_data"
    },
    {
     "data": {
      "text/plain": [
       "Batches:   0%|          | 0/1 [00:00<?, ?it/s]"
      ],
      "application/vnd.jupyter.widget-view+json": {
       "version_major": 2,
       "version_minor": 0,
       "model_id": "04ae15969bb64d6293bb1de7ea82ac42"
      }
     },
     "metadata": {},
     "output_type": "display_data"
    },
    {
     "data": {
      "text/plain": [
       "Batches:   0%|          | 0/1 [00:00<?, ?it/s]"
      ],
      "application/vnd.jupyter.widget-view+json": {
       "version_major": 2,
       "version_minor": 0,
       "model_id": "8ddb6f85a1a647c683dffa2f8333d755"
      }
     },
     "metadata": {},
     "output_type": "display_data"
    },
    {
     "data": {
      "text/plain": [
       "Batches:   0%|          | 0/1 [00:00<?, ?it/s]"
      ],
      "application/vnd.jupyter.widget-view+json": {
       "version_major": 2,
       "version_minor": 0,
       "model_id": "1ad4d3432b05484ea08090586713748a"
      }
     },
     "metadata": {},
     "output_type": "display_data"
    },
    {
     "data": {
      "text/plain": [
       "Batches:   0%|          | 0/1 [00:00<?, ?it/s]"
      ],
      "application/vnd.jupyter.widget-view+json": {
       "version_major": 2,
       "version_minor": 0,
       "model_id": "f77433463cd148a58af2818cc1f27e57"
      }
     },
     "metadata": {},
     "output_type": "display_data"
    },
    {
     "data": {
      "text/plain": [
       "Batches:   0%|          | 0/1 [00:00<?, ?it/s]"
      ],
      "application/vnd.jupyter.widget-view+json": {
       "version_major": 2,
       "version_minor": 0,
       "model_id": "593d2997c7854eacb17db737080c8b1b"
      }
     },
     "metadata": {},
     "output_type": "display_data"
    },
    {
     "data": {
      "text/plain": [
       "Batches:   0%|          | 0/1 [00:00<?, ?it/s]"
      ],
      "application/vnd.jupyter.widget-view+json": {
       "version_major": 2,
       "version_minor": 0,
       "model_id": "1712bbd73e744ef1a7132f0c98a9454b"
      }
     },
     "metadata": {},
     "output_type": "display_data"
    },
    {
     "data": {
      "text/plain": [
       "Batches:   0%|          | 0/1 [00:00<?, ?it/s]"
      ],
      "application/vnd.jupyter.widget-view+json": {
       "version_major": 2,
       "version_minor": 0,
       "model_id": "450ad0dc1ce643e9b3fca5f06fa47501"
      }
     },
     "metadata": {},
     "output_type": "display_data"
    },
    {
     "data": {
      "text/plain": [
       "Batches:   0%|          | 0/1 [00:00<?, ?it/s]"
      ],
      "application/vnd.jupyter.widget-view+json": {
       "version_major": 2,
       "version_minor": 0,
       "model_id": "66bbf644dcd14d76aff68106ca65ea23"
      }
     },
     "metadata": {},
     "output_type": "display_data"
    },
    {
     "data": {
      "text/plain": [
       "Batches:   0%|          | 0/1 [00:00<?, ?it/s]"
      ],
      "application/vnd.jupyter.widget-view+json": {
       "version_major": 2,
       "version_minor": 0,
       "model_id": "b83fcbd57c1f452f87ba28d2139bb341"
      }
     },
     "metadata": {},
     "output_type": "display_data"
    },
    {
     "data": {
      "text/plain": [
       "Batches:   0%|          | 0/1 [00:00<?, ?it/s]"
      ],
      "application/vnd.jupyter.widget-view+json": {
       "version_major": 2,
       "version_minor": 0,
       "model_id": "8bf0421209e742b98c4c79a981f518d5"
      }
     },
     "metadata": {},
     "output_type": "display_data"
    },
    {
     "data": {
      "text/plain": [
       "Batches:   0%|          | 0/1 [00:00<?, ?it/s]"
      ],
      "application/vnd.jupyter.widget-view+json": {
       "version_major": 2,
       "version_minor": 0,
       "model_id": "d06303cf7c5040c290b2ae596ace76ad"
      }
     },
     "metadata": {},
     "output_type": "display_data"
    },
    {
     "data": {
      "text/plain": [
       "Batches:   0%|          | 0/1 [00:00<?, ?it/s]"
      ],
      "application/vnd.jupyter.widget-view+json": {
       "version_major": 2,
       "version_minor": 0,
       "model_id": "3859c4b45a4a47d7893c666067ddd14b"
      }
     },
     "metadata": {},
     "output_type": "display_data"
    },
    {
     "data": {
      "text/plain": [
       "Batches:   0%|          | 0/1 [00:00<?, ?it/s]"
      ],
      "application/vnd.jupyter.widget-view+json": {
       "version_major": 2,
       "version_minor": 0,
       "model_id": "5d792d69758d4660bdb241b3f45748b1"
      }
     },
     "metadata": {},
     "output_type": "display_data"
    },
    {
     "data": {
      "text/plain": [
       "Batches:   0%|          | 0/1 [00:00<?, ?it/s]"
      ],
      "application/vnd.jupyter.widget-view+json": {
       "version_major": 2,
       "version_minor": 0,
       "model_id": "8f810f40997742868c2ae52480568302"
      }
     },
     "metadata": {},
     "output_type": "display_data"
    },
    {
     "data": {
      "text/plain": [
       "Batches:   0%|          | 0/1 [00:00<?, ?it/s]"
      ],
      "application/vnd.jupyter.widget-view+json": {
       "version_major": 2,
       "version_minor": 0,
       "model_id": "8ffd2ca840484a04aecec0455128e808"
      }
     },
     "metadata": {},
     "output_type": "display_data"
    },
    {
     "name": "stderr",
     "output_type": "stream",
     "text": [
      "2025-04-26 12:32:42,443 - INFO - Vector index created successfully\n"
     ]
    }
   ],
   "execution_count": 15
  },
  {
   "metadata": {
    "ExecuteTime": {
     "end_time": "2025-04-26T09:33:27.159975Z",
     "start_time": "2025-04-26T09:33:24.111897Z"
    }
   },
   "cell_type": "code",
   "source": [
    "\n",
    "\n",
    "\n",
    "index_spam.storage_context.persist(persist_dir=Path(\"../..\") / INDEX_SPAM_PATH)\n",
    "index_ham.storage_context.persist(persist_dir=Path(\"../..\") / INDEX_HAM_PATH)"
   ],
   "id": "e78280bfb00a6f71",
   "outputs": [],
   "execution_count": 16
  }
 ],
 "metadata": {
  "kernelspec": {
   "display_name": "Python 3",
   "language": "python",
   "name": "python3"
  },
  "language_info": {
   "codemirror_mode": {
    "name": "ipython",
    "version": 2
   },
   "file_extension": ".py",
   "mimetype": "text/x-python",
   "name": "python",
   "nbconvert_exporter": "python",
   "pygments_lexer": "ipython2",
   "version": "2.7.6"
  }
 },
 "nbformat": 4,
 "nbformat_minor": 5
}
