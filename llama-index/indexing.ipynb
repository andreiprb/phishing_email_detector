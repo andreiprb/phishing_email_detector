{
 "cells": [
  {
   "cell_type": "code",
   "id": "initial_id",
   "metadata": {
    "collapsed": true,
    "ExecuteTime": {
     "end_time": "2025-04-22T11:30:55.394676Z",
     "start_time": "2025-04-22T11:30:43.238176Z"
    }
   },
   "source": [
    "import os\n",
    "import pandas as pd\n",
    "from pathlib import Path\n",
    "import logging\n",
    "from typing import List, Dict, Any, Optional\n",
    "\n",
    "from pandas import DataFrame\n",
    "from sympy.stats.rv import sample_iter_lambdify\n",
    "\n",
    "# Set up logging\n",
    "logging.basicConfig(level=logging.INFO, format='%(asctime)s - %(levelname)s - %(message)s')\n",
    "logger = logging.getLogger(__name__)\n",
    "\n",
    "# For LlamaIndex\n",
    "from llama_index.core import Document, Settings\n",
    "from llama_index.embeddings.huggingface import HuggingFaceEmbedding\n",
    "from llama_index.core import VectorStoreIndex\n",
    "from llama_index.core.node_parser import SimpleNodeParser\n",
    "from llama_index.core.schema import MetadataMode, TextNode\n",
    "from llama_index.readers.file import CSVReader"
   ],
   "outputs": [],
   "execution_count": 1
  },
  {
   "metadata": {
    "ExecuteTime": {
     "end_time": "2025-04-22T11:35:11.801783Z",
     "start_time": "2025-04-22T11:35:11.782075Z"
    }
   },
   "cell_type": "code",
   "source": [
    "def load_sample(file_path: Path, sample_size: Optional[int] = 5) -> tuple[pd.DataFrame, pd.DataFrame]:\n",
    "    \"\"\"\n",
    "    Safely load and validate CSV file, with proper error handling.\n",
    "\n",
    "    Args:\n",
    "        file_path: Path to the CSV file\n",
    "        sample_size: Number of samples to take from each category (if available)\n",
    "\n",
    "    Returns:\n",
    "        Tuple of (spam_sample, ham_sample) DataFrames\n",
    "    \"\"\"\n",
    "\n",
    "    if not file_path.exists():\n",
    "        raise FileNotFoundError(f\"CSV file not found at: {file_path}\")\n",
    "\n",
    "    try:\n",
    "        # First read with pandas for validation and preprocessing\n",
    "        df = pd.read_csv(file_path)\n",
    "        logger.info(f\"Successfully loaded CSV with {len(df)} rows and {len(df.columns)} columns\")\n",
    "\n",
    "        # Count samples in each category\n",
    "        spam_count = (df[\"label\"] == 1).sum()\n",
    "        ham_count = (df[\"label\"] == 0).sum()\n",
    "\n",
    "        # Take minimum of requested sample size and available samples\n",
    "        spam_sample_size = min(sample_size, spam_count)\n",
    "        ham_sample_size = min(sample_size, ham_count)\n",
    "\n",
    "        # Sample with adjusted sizes\n",
    "        spam_sample = df[df[\"label\"] == 1].sample(spam_sample_size) if spam_sample_size > 0 else pd.DataFrame()\n",
    "        ham_sample = df[df[\"label\"] == 0].sample(ham_sample_size) if ham_sample_size > 0 else pd.DataFrame()\n",
    "\n",
    "        return spam_sample, ham_sample\n",
    "\n",
    "    except Exception as e:\n",
    "        logger.error(f\"Error loading CSV file: {str(e)}\")\n",
    "        raise\n",
    "\n",
    "def preprocess_email_data(df: pd.DataFrame) -> pd.DataFrame:\n",
    "    \"\"\"\n",
    "    Preprocess email data for better indexing in LlamaIndex\n",
    "\n",
    "    Args:\n",
    "        df: DataFrame with raw email data\n",
    "\n",
    "    Returns:\n",
    "        Preprocessed DataFrame\n",
    "    \"\"\"\n",
    "    logger.info(\"Preprocessing email data...\")\n",
    "\n",
    "    # Make a copy to avoid modifying the original\n",
    "    processed_df = df.copy()\n",
    "\n",
    "    # Fill empty fields with empty strings to avoid NaN issues\n",
    "    processed_df = processed_df.fillna(\"\")\n",
    "\n",
    "    # Create a combined text field that LlamaIndex can use more effectively\n",
    "    processed_df['combined_text'] = processed_df.apply(\n",
    "        lambda row: (\n",
    "            f\"From: {row['sender']}\\n\"\n",
    "            f\"To: {row['receiver']}\\n\"\n",
    "            f\"Date: {row['date']}\\n\"\n",
    "            f\"Subject: {row['subject']}\\n\\n\"\n",
    "            f\"{row['body']}\"\n",
    "        ), axis=1\n",
    "    )\n",
    "\n",
    "    logger.info(\"Preprocessing complete\")\n",
    "    return processed_df\n",
    "\n",
    "def create_documents_from_dataframe(df: pd.DataFrame) -> List[Document]:\n",
    "    \"\"\"\n",
    "    Convert DataFrame rows to LlamaIndex Document objects\n",
    "\n",
    "    Args:\n",
    "        df: Preprocessed DataFrame\n",
    "\n",
    "    Returns:\n",
    "        List of LlamaIndex Document objects\n",
    "    \"\"\"\n",
    "    logger.info(\"Creating LlamaIndex documents from DataFrame...\")\n",
    "\n",
    "    documents = []\n",
    "\n",
    "    for idx, row in df.iterrows():\n",
    "        # Create metadata dictionary with only essential fields\n",
    "        metadata = {\n",
    "            'sender': str(row['sender'])[:100],\n",
    "            'receiver': str(row['receiver'])[:100],\n",
    "            'date': str(row['date'])[:30],\n",
    "            'subject': str(row['subject'])[:200],\n",
    "            'label': str(row.get('label', ''))[:50],\n",
    "            'email_id': f\"email_{idx}\"\n",
    "        }\n",
    "\n",
    "        # Create a Document with the combined text and metadata\n",
    "        doc = Document(\n",
    "            text=row['combined_text'],\n",
    "            metadata=metadata,\n",
    "            id_=f\"email_{idx}\"\n",
    "        )\n",
    "        documents.append(doc)\n",
    "\n",
    "    logger.info(f\"Created {len(documents)} documents\")\n",
    "    return documents\n",
    "\n",
    "def chunk_documents(documents: List[Document], chunk_size: int = 8192, chunk_overlap: int = 20) -> List[Document]:\n",
    "    \"\"\"\n",
    "    Chunk documents into smaller nodes for better indexing\n",
    "\n",
    "    Args:\n",
    "        documents: List of documents to chunk\n",
    "        chunk_size: Size of each chunk (increased to handle large metadata)\n",
    "        chunk_overlap: Overlap between chunks\n",
    "\n",
    "    Returns:\n",
    "        List of chunked documents\n",
    "    \"\"\"\n",
    "    logger.info(f\"Chunking documents with size={chunk_size}, overlap={chunk_overlap}\")\n",
    "\n",
    "    # Extract only essential metadata to reduce size\n",
    "    for doc in documents:\n",
    "        # Keep only essential metadata and limit their size\n",
    "        essential_metadata = {\n",
    "            'sender': doc.metadata.get('sender', '')[:100],\n",
    "            'date': doc.metadata.get('date', '')[:30],\n",
    "            'subject': doc.metadata.get('subject', '')[:200],\n",
    "            'label': doc.metadata.get('label', '')[:50]\n",
    "        }\n",
    "        # Replace the original metadata with the trimmed version\n",
    "        doc.metadata = essential_metadata\n",
    "\n",
    "    parser = SimpleNodeParser.from_defaults(\n",
    "        chunk_size=chunk_size,\n",
    "        chunk_overlap=chunk_overlap\n",
    "    )\n",
    "\n",
    "    nodes = parser.get_nodes_from_documents(documents)\n",
    "    logger.info(f\"Created {len(nodes)} nodes from {len(documents)} documents\")\n",
    "\n",
    "    return nodes\n",
    "\n",
    "def create_index_from_documents(nodes: List[TextNode]) -> VectorStoreIndex:\n",
    "    \"\"\"\n",
    "    Create a LlamaIndex VectorStoreIndex from documents\n",
    "\n",
    "    Args:\n",
    "        nodes: List of nodes to index\n",
    "\n",
    "    Returns:\n",
    "        Initialized VectorStoreIndex\n",
    "    \"\"\"\n",
    "    logger.info(\"Creating vector index...\")\n",
    "\n",
    "    index: VectorStoreIndex = VectorStoreIndex(nodes)\n",
    "    logger.info(\"Vector index created successfully\")\n",
    "\n",
    "    return index"
   ],
   "id": "bea50f8a5cbab0dd",
   "outputs": [],
   "execution_count": 6
  },
  {
   "metadata": {
    "ExecuteTime": {
     "end_time": "2025-04-22T11:31:00.805597Z",
     "start_time": "2025-04-22T11:31:00.792543Z"
    }
   },
   "cell_type": "code",
   "source": [
    "main_dir: str = os.path.dirname(os.getcwd())\n",
    "datasets_dir: str = os.path.join(main_dir, \"data\", \"datasets\")\n",
    "\n",
    "assert os.path.exists(datasets_dir), \"Datasets directory not found\"\n",
    "\n",
    "dataset_paths: list[Path] = [Path(str(os.path.join(datasets_dir, f))) for f in os.listdir(datasets_dir)]\n",
    "\n",
    "dataset_paths"
   ],
   "id": "3361a6019b80ced8",
   "outputs": [
    {
     "data": {
      "text/plain": [
       "[WindowsPath('C:/Users/ignat/PycharmProjects/phishing_email_detector_sandbox/data/datasets/CEAS_08.csv'),\n",
       " WindowsPath('C:/Users/ignat/PycharmProjects/phishing_email_detector_sandbox/data/datasets/Ling.csv'),\n",
       " WindowsPath('C:/Users/ignat/PycharmProjects/phishing_email_detector_sandbox/data/datasets/Nazario.csv'),\n",
       " WindowsPath('C:/Users/ignat/PycharmProjects/phishing_email_detector_sandbox/data/datasets/Nazario_5.csv'),\n",
       " WindowsPath('C:/Users/ignat/PycharmProjects/phishing_email_detector_sandbox/data/datasets/Nigerian_5.csv'),\n",
       " WindowsPath('C:/Users/ignat/PycharmProjects/phishing_email_detector_sandbox/data/datasets/Nigerian_Fraud.csv'),\n",
       " WindowsPath('C:/Users/ignat/PycharmProjects/phishing_email_detector_sandbox/data/datasets/SpamAssasin.csv'),\n",
       " WindowsPath('C:/Users/ignat/PycharmProjects/phishing_email_detector_sandbox/data/datasets/TREC_07.csv')]"
      ]
     },
     "execution_count": 3,
     "metadata": {},
     "output_type": "execute_result"
    }
   ],
   "execution_count": 3
  },
  {
   "metadata": {
    "ExecuteTime": {
     "end_time": "2025-04-22T11:35:45.555496Z",
     "start_time": "2025-04-22T11:35:41.616608Z"
    }
   },
   "cell_type": "code",
   "source": [
    "sample_size: int = 5\n",
    "samples: list[tuple[DataFrame, DataFrame]] = [load_sample(path, sample_size=sample_size) for path in dataset_paths]\n",
    "\n",
    "spam_dfs, ham_dfs = zip(*samples)\n",
    "spam_df: DataFrame = pd.concat(spam_dfs, ignore_index=True)\n",
    "ham_df: DataFrame = pd.concat(ham_dfs, ignore_index=True)\n",
    "\n",
    "processed_spam  = preprocess_email_data(spam_df)\n",
    "processed_ham  = preprocess_email_data(ham_df)"
   ],
   "id": "f45008715d116a58",
   "outputs": [
    {
     "name": "stderr",
     "output_type": "stream",
     "text": [
      "2025-04-22 14:35:42,863 - INFO - Successfully loaded CSV with 39154 rows and 7 columns\n",
      "2025-04-22 14:35:42,991 - INFO - Successfully loaded CSV with 2859 rows and 3 columns\n",
      "2025-04-22 14:35:43,164 - INFO - Successfully loaded CSV with 1565 rows and 7 columns\n",
      "2025-04-22 14:35:43,330 - INFO - Successfully loaded CSV with 3065 rows and 7 columns\n",
      "2025-04-22 14:35:43,597 - INFO - Successfully loaded CSV with 6331 rows and 7 columns\n",
      "2025-04-22 14:35:43,751 - INFO - Successfully loaded CSV with 3332 rows and 7 columns\n",
      "2025-04-22 14:35:43,945 - INFO - Successfully loaded CSV with 5809 rows and 7 columns\n",
      "2025-04-22 14:35:45,499 - INFO - Successfully loaded CSV with 53757 rows and 7 columns\n",
      "2025-04-22 14:35:45,543 - INFO - Preprocessing email data...\n",
      "2025-04-22 14:35:45,547 - INFO - Preprocessing complete\n",
      "2025-04-22 14:35:45,548 - INFO - Preprocessing email data...\n",
      "2025-04-22 14:35:45,552 - INFO - Preprocessing complete\n"
     ]
    }
   ],
   "execution_count": 8
  },
  {
   "metadata": {
    "ExecuteTime": {
     "end_time": "2025-04-22T11:39:26.136522Z",
     "start_time": "2025-04-22T11:39:26.112524Z"
    }
   },
   "cell_type": "code",
   "source": "processed_spam.head()",
   "id": "f8529716b0d648b7",
   "outputs": [
    {
     "data": {
      "text/plain": [
       "                                 sender                            receiver  \\\n",
       "0    Debra Puckett <Debra@tea-cegos.es>  user8.2-ext2@gvc.ceas-challenge.cc   \n",
       "1                           Czibolya <>    user7-ext3@gvc.ceas-challenge.cc   \n",
       "2  kalvin tudor <long@baerenreiter.com>         user3@gvc.ceas-challenge.cc   \n",
       "3         Patty Crocker <Patty@gxis.de>       user8.2@gvc.ceas-challenge.cc   \n",
       "4      Donna Rasmussen <Donna@anafi.it>  user8.2-ext1@gvc.ceas-challenge.cc   \n",
       "\n",
       "                              date                            subject  \\\n",
       "0  Wed, 06 Aug 2008 17:21:25 +0300     Luxuriate in beauty and style!   \n",
       "1  Fri, 08 Aug 2008 06:05:09 -0400        Paris Hilton likes them big   \n",
       "2  Wed, 06 Aug 2008 09:54:39 +0000           helpful for your health.   \n",
       "3  Thu, 07 Aug 2008 13:03:01 +0300    Increase its length and stamina   \n",
       "4  Fri, 08 Aug 2008 13:31:35 +0700  She will dream of you every night   \n",
       "\n",
       "                                                body  label urls  \\\n",
       "0  If you buy watch in our store, nobody will bel...      1    1   \n",
       "1  A perfect score for our organ enhancement prod...      1    1   \n",
       "2  \\nDear cbd19add6be5f8429c9de27201b0c756\\n\\nSum...      1    0   \n",
       "3  Our researchers have made something that will ...      1    1   \n",
       "4  You can now easily bring your problem of small...      1    1   \n",
       "\n",
       "                                       combined_text  \n",
       "0  From: Debra Puckett <Debra@tea-cegos.es>\\nTo: ...  \n",
       "1  From: Czibolya <>\\nTo: user7-ext3@gvc.ceas-cha...  \n",
       "2  From: kalvin tudor <long@baerenreiter.com>\\nTo...  \n",
       "3  From: Patty Crocker <Patty@gxis.de>\\nTo: user8...  \n",
       "4  From: Donna Rasmussen <Donna@anafi.it>\\nTo: us...  "
      ],
      "text/html": [
       "<div>\n",
       "<style scoped>\n",
       "    .dataframe tbody tr th:only-of-type {\n",
       "        vertical-align: middle;\n",
       "    }\n",
       "\n",
       "    .dataframe tbody tr th {\n",
       "        vertical-align: top;\n",
       "    }\n",
       "\n",
       "    .dataframe thead th {\n",
       "        text-align: right;\n",
       "    }\n",
       "</style>\n",
       "<table border=\"1\" class=\"dataframe\">\n",
       "  <thead>\n",
       "    <tr style=\"text-align: right;\">\n",
       "      <th></th>\n",
       "      <th>sender</th>\n",
       "      <th>receiver</th>\n",
       "      <th>date</th>\n",
       "      <th>subject</th>\n",
       "      <th>body</th>\n",
       "      <th>label</th>\n",
       "      <th>urls</th>\n",
       "      <th>combined_text</th>\n",
       "    </tr>\n",
       "  </thead>\n",
       "  <tbody>\n",
       "    <tr>\n",
       "      <th>0</th>\n",
       "      <td>Debra Puckett &lt;Debra@tea-cegos.es&gt;</td>\n",
       "      <td>user8.2-ext2@gvc.ceas-challenge.cc</td>\n",
       "      <td>Wed, 06 Aug 2008 17:21:25 +0300</td>\n",
       "      <td>Luxuriate in beauty and style!</td>\n",
       "      <td>If you buy watch in our store, nobody will bel...</td>\n",
       "      <td>1</td>\n",
       "      <td>1</td>\n",
       "      <td>From: Debra Puckett &lt;Debra@tea-cegos.es&gt;\\nTo: ...</td>\n",
       "    </tr>\n",
       "    <tr>\n",
       "      <th>1</th>\n",
       "      <td>Czibolya &lt;&gt;</td>\n",
       "      <td>user7-ext3@gvc.ceas-challenge.cc</td>\n",
       "      <td>Fri, 08 Aug 2008 06:05:09 -0400</td>\n",
       "      <td>Paris Hilton likes them big</td>\n",
       "      <td>A perfect score for our organ enhancement prod...</td>\n",
       "      <td>1</td>\n",
       "      <td>1</td>\n",
       "      <td>From: Czibolya &lt;&gt;\\nTo: user7-ext3@gvc.ceas-cha...</td>\n",
       "    </tr>\n",
       "    <tr>\n",
       "      <th>2</th>\n",
       "      <td>kalvin tudor &lt;long@baerenreiter.com&gt;</td>\n",
       "      <td>user3@gvc.ceas-challenge.cc</td>\n",
       "      <td>Wed, 06 Aug 2008 09:54:39 +0000</td>\n",
       "      <td>helpful for your health.</td>\n",
       "      <td>\\nDear cbd19add6be5f8429c9de27201b0c756\\n\\nSum...</td>\n",
       "      <td>1</td>\n",
       "      <td>0</td>\n",
       "      <td>From: kalvin tudor &lt;long@baerenreiter.com&gt;\\nTo...</td>\n",
       "    </tr>\n",
       "    <tr>\n",
       "      <th>3</th>\n",
       "      <td>Patty Crocker &lt;Patty@gxis.de&gt;</td>\n",
       "      <td>user8.2@gvc.ceas-challenge.cc</td>\n",
       "      <td>Thu, 07 Aug 2008 13:03:01 +0300</td>\n",
       "      <td>Increase its length and stamina</td>\n",
       "      <td>Our researchers have made something that will ...</td>\n",
       "      <td>1</td>\n",
       "      <td>1</td>\n",
       "      <td>From: Patty Crocker &lt;Patty@gxis.de&gt;\\nTo: user8...</td>\n",
       "    </tr>\n",
       "    <tr>\n",
       "      <th>4</th>\n",
       "      <td>Donna Rasmussen &lt;Donna@anafi.it&gt;</td>\n",
       "      <td>user8.2-ext1@gvc.ceas-challenge.cc</td>\n",
       "      <td>Fri, 08 Aug 2008 13:31:35 +0700</td>\n",
       "      <td>She will dream of you every night</td>\n",
       "      <td>You can now easily bring your problem of small...</td>\n",
       "      <td>1</td>\n",
       "      <td>1</td>\n",
       "      <td>From: Donna Rasmussen &lt;Donna@anafi.it&gt;\\nTo: us...</td>\n",
       "    </tr>\n",
       "  </tbody>\n",
       "</table>\n",
       "</div>"
      ]
     },
     "execution_count": 11,
     "metadata": {},
     "output_type": "execute_result"
    }
   ],
   "execution_count": 11
  },
  {
   "metadata": {
    "ExecuteTime": {
     "end_time": "2025-04-22T11:39:31.436746Z",
     "start_time": "2025-04-22T11:39:31.423981Z"
    }
   },
   "cell_type": "code",
   "source": "processed_ham.head()",
   "id": "9f2829fb080b9028",
   "outputs": [
    {
     "data": {
      "text/plain": [
       "                                              sender  \\\n",
       "0  Alexander Belopolsky <ynarxoxga.kwehevgyna@gma...   \n",
       "1              Brian Evans <uxjqjubd@scent-team.com>   \n",
       "2                         Joe Sloan <njk@tmsusa.com>   \n",
       "3                 Thomas Wouters <fgxflg@python.org>   \n",
       "4                  Kevin Cosgrove <mwrlcg@doink.com>   \n",
       "\n",
       "                                            receiver  \\\n",
       "0                              zvllln-eum@python.org   \n",
       "1                          rljdsng-xyqoh@postfix.org   \n",
       "2                              wkilxloc@opensuse.org   \n",
       "3                Guido van Rossum <hoauf@python.org>   \n",
       "4  Discussion list for EXMH users <ndqq-lmbvh@red...   \n",
       "\n",
       "                              date  \\\n",
       "0  Wed, 06 Aug 2008 12:32:11 +0000   \n",
       "1  Thu, 07 Aug 2008 21:27:26 -0500   \n",
       "2  Thu, 07 Aug 2008 00:46:09 -0800   \n",
       "3  Wed, 06 Aug 2008 02:03:00 -0700   \n",
       "4  Wed, 06 Aug 2008 08:04:12 -0700   \n",
       "\n",
       "                                             subject  \\\n",
       "0   Re: [Python-Dev] New/Old class exception pitfall   \n",
       "1                     Re: connection limit overrides   \n",
       "2               Re: [opensuse] Netflix Queue Manager   \n",
       "3  Re: [Python-3000] Using *a for packing in list...   \n",
       "4                 Re: replying to text/plain base64    \n",
       "\n",
       "                                                body  label urls  \\\n",
       "0  Oleg Broytmann  phd.pp.ru> writes:\\n\\n> \\n> On...      0    1   \n",
       "1  J.D. Bronson wrote:\\n> I am at a loss here. I ...      0    1   \n",
       "2  Rick Friedman wrote:\\n> Does anyone know of an...      0    0   \n",
       "3  On Sat, Mar 15, 2008 at 3:21 PM, Guido van Ros...      0    1   \n",
       "4  \\nOn 17 October 2007 at 1:43, eorcsj.ciiddwmoy...      0    1   \n",
       "\n",
       "                                       combined_text  \n",
       "0  From: Alexander Belopolsky <ynarxoxga.kwehevgy...  \n",
       "1  From: Brian Evans <uxjqjubd@scent-team.com>\\nT...  \n",
       "2  From: Joe Sloan <njk@tmsusa.com>\\nTo: wkilxloc...  \n",
       "3  From: Thomas Wouters <fgxflg@python.org>\\nTo: ...  \n",
       "4  From: Kevin Cosgrove <mwrlcg@doink.com>\\nTo: D...  "
      ],
      "text/html": [
       "<div>\n",
       "<style scoped>\n",
       "    .dataframe tbody tr th:only-of-type {\n",
       "        vertical-align: middle;\n",
       "    }\n",
       "\n",
       "    .dataframe tbody tr th {\n",
       "        vertical-align: top;\n",
       "    }\n",
       "\n",
       "    .dataframe thead th {\n",
       "        text-align: right;\n",
       "    }\n",
       "</style>\n",
       "<table border=\"1\" class=\"dataframe\">\n",
       "  <thead>\n",
       "    <tr style=\"text-align: right;\">\n",
       "      <th></th>\n",
       "      <th>sender</th>\n",
       "      <th>receiver</th>\n",
       "      <th>date</th>\n",
       "      <th>subject</th>\n",
       "      <th>body</th>\n",
       "      <th>label</th>\n",
       "      <th>urls</th>\n",
       "      <th>combined_text</th>\n",
       "    </tr>\n",
       "  </thead>\n",
       "  <tbody>\n",
       "    <tr>\n",
       "      <th>0</th>\n",
       "      <td>Alexander Belopolsky &lt;ynarxoxga.kwehevgyna@gma...</td>\n",
       "      <td>zvllln-eum@python.org</td>\n",
       "      <td>Wed, 06 Aug 2008 12:32:11 +0000</td>\n",
       "      <td>Re: [Python-Dev] New/Old class exception pitfall</td>\n",
       "      <td>Oleg Broytmann  phd.pp.ru&gt; writes:\\n\\n&gt; \\n&gt; On...</td>\n",
       "      <td>0</td>\n",
       "      <td>1</td>\n",
       "      <td>From: Alexander Belopolsky &lt;ynarxoxga.kwehevgy...</td>\n",
       "    </tr>\n",
       "    <tr>\n",
       "      <th>1</th>\n",
       "      <td>Brian Evans &lt;uxjqjubd@scent-team.com&gt;</td>\n",
       "      <td>rljdsng-xyqoh@postfix.org</td>\n",
       "      <td>Thu, 07 Aug 2008 21:27:26 -0500</td>\n",
       "      <td>Re: connection limit overrides</td>\n",
       "      <td>J.D. Bronson wrote:\\n&gt; I am at a loss here. I ...</td>\n",
       "      <td>0</td>\n",
       "      <td>1</td>\n",
       "      <td>From: Brian Evans &lt;uxjqjubd@scent-team.com&gt;\\nT...</td>\n",
       "    </tr>\n",
       "    <tr>\n",
       "      <th>2</th>\n",
       "      <td>Joe Sloan &lt;njk@tmsusa.com&gt;</td>\n",
       "      <td>wkilxloc@opensuse.org</td>\n",
       "      <td>Thu, 07 Aug 2008 00:46:09 -0800</td>\n",
       "      <td>Re: [opensuse] Netflix Queue Manager</td>\n",
       "      <td>Rick Friedman wrote:\\n&gt; Does anyone know of an...</td>\n",
       "      <td>0</td>\n",
       "      <td>0</td>\n",
       "      <td>From: Joe Sloan &lt;njk@tmsusa.com&gt;\\nTo: wkilxloc...</td>\n",
       "    </tr>\n",
       "    <tr>\n",
       "      <th>3</th>\n",
       "      <td>Thomas Wouters &lt;fgxflg@python.org&gt;</td>\n",
       "      <td>Guido van Rossum &lt;hoauf@python.org&gt;</td>\n",
       "      <td>Wed, 06 Aug 2008 02:03:00 -0700</td>\n",
       "      <td>Re: [Python-3000] Using *a for packing in list...</td>\n",
       "      <td>On Sat, Mar 15, 2008 at 3:21 PM, Guido van Ros...</td>\n",
       "      <td>0</td>\n",
       "      <td>1</td>\n",
       "      <td>From: Thomas Wouters &lt;fgxflg@python.org&gt;\\nTo: ...</td>\n",
       "    </tr>\n",
       "    <tr>\n",
       "      <th>4</th>\n",
       "      <td>Kevin Cosgrove &lt;mwrlcg@doink.com&gt;</td>\n",
       "      <td>Discussion list for EXMH users &lt;ndqq-lmbvh@red...</td>\n",
       "      <td>Wed, 06 Aug 2008 08:04:12 -0700</td>\n",
       "      <td>Re: replying to text/plain base64</td>\n",
       "      <td>\\nOn 17 October 2007 at 1:43, eorcsj.ciiddwmoy...</td>\n",
       "      <td>0</td>\n",
       "      <td>1</td>\n",
       "      <td>From: Kevin Cosgrove &lt;mwrlcg@doink.com&gt;\\nTo: D...</td>\n",
       "    </tr>\n",
       "  </tbody>\n",
       "</table>\n",
       "</div>"
      ]
     },
     "execution_count": 12,
     "metadata": {},
     "output_type": "execute_result"
    }
   ],
   "execution_count": 12
  },
  {
   "metadata": {
    "ExecuteTime": {
     "end_time": "2025-04-22T11:40:46.827987Z",
     "start_time": "2025-04-22T11:40:46.805271Z"
    }
   },
   "cell_type": "code",
   "source": [
    "documents_spam: list[Document] = create_documents_from_dataframe(processed_spam)\n",
    "documents_ham: list[Document] = create_documents_from_dataframe(processed_ham)"
   ],
   "id": "eaf74ac7de7f4e",
   "outputs": [
    {
     "name": "stderr",
     "output_type": "stream",
     "text": [
      "2025-04-22 14:40:46,809 - INFO - Creating LlamaIndex documents from DataFrame...\n",
      "2025-04-22 14:40:46,817 - INFO - Created 40 documents\n",
      "2025-04-22 14:40:46,818 - INFO - Creating LlamaIndex documents from DataFrame...\n",
      "2025-04-22 14:40:46,824 - INFO - Created 30 documents\n"
     ]
    }
   ],
   "execution_count": 13
  },
  {
   "metadata": {
    "ExecuteTime": {
     "end_time": "2025-04-22T11:41:04.475563Z",
     "start_time": "2025-04-22T11:41:04.056621Z"
    }
   },
   "cell_type": "code",
   "source": [
    "nodes_spam: list[TextNode] = chunk_documents(documents_spam)\n",
    "nodes_ham: list[TextNode] = chunk_documents(documents_ham)"
   ],
   "id": "56986a49b394cf6d",
   "outputs": [
    {
     "name": "stderr",
     "output_type": "stream",
     "text": [
      "2025-04-22 14:41:04,057 - INFO - Chunking documents with size=8192, overlap=20\n",
      "2025-04-22 14:41:04,415 - INFO - Created 40 nodes from 40 documents\n",
      "2025-04-22 14:41:04,418 - INFO - Chunking documents with size=8192, overlap=20\n",
      "2025-04-22 14:41:04,470 - INFO - Created 30 nodes from 30 documents\n"
     ]
    }
   ],
   "execution_count": 14
  },
  {
   "metadata": {
    "ExecuteTime": {
     "end_time": "2025-04-22T11:41:39.918681Z",
     "start_time": "2025-04-22T11:41:25.314238Z"
    }
   },
   "cell_type": "code",
   "source": [
    "embed_model: HuggingFaceEmbedding = HuggingFaceEmbedding(model_name=\"BAAI/bge-small-en-v1.5\")\n",
    "Settings.embed_model = embed_model\n",
    "\n",
    "index_spam: VectorStoreIndex= create_index_from_documents(nodes_spam)\n",
    "index_ham: VectorStoreIndex= create_index_from_documents(nodes_ham)"
   ],
   "id": "964cfacf16f66292",
   "outputs": [
    {
     "name": "stderr",
     "output_type": "stream",
     "text": [
      "2025-04-22 14:41:25,317 - INFO - Load pretrained SentenceTransformer: BAAI/bge-small-en-v1.5\n",
      "2025-04-22 14:41:27,620 - INFO - 2 prompts are loaded, with the keys: ['query', 'text']\n",
      "2025-04-22 14:41:27,625 - INFO - Creating vector index...\n"
     ]
    },
    {
     "data": {
      "text/plain": [
       "Batches:   0%|          | 0/1 [00:00<?, ?it/s]"
      ],
      "application/vnd.jupyter.widget-view+json": {
       "version_major": 2,
       "version_minor": 0,
       "model_id": "064a1c9d3267447785d5d15c5815f238"
      }
     },
     "metadata": {},
     "output_type": "display_data"
    },
    {
     "data": {
      "text/plain": [
       "Batches:   0%|          | 0/1 [00:00<?, ?it/s]"
      ],
      "application/vnd.jupyter.widget-view+json": {
       "version_major": 2,
       "version_minor": 0,
       "model_id": "d9b204833c9f4098b195e7630ed95b35"
      }
     },
     "metadata": {},
     "output_type": "display_data"
    },
    {
     "data": {
      "text/plain": [
       "Batches:   0%|          | 0/1 [00:00<?, ?it/s]"
      ],
      "application/vnd.jupyter.widget-view+json": {
       "version_major": 2,
       "version_minor": 0,
       "model_id": "b0560cca9eb148328b9f7b6294125712"
      }
     },
     "metadata": {},
     "output_type": "display_data"
    },
    {
     "data": {
      "text/plain": [
       "Batches:   0%|          | 0/1 [00:00<?, ?it/s]"
      ],
      "application/vnd.jupyter.widget-view+json": {
       "version_major": 2,
       "version_minor": 0,
       "model_id": "73efba0ca5104dbe8679af0f7575b57d"
      }
     },
     "metadata": {},
     "output_type": "display_data"
    },
    {
     "name": "stderr",
     "output_type": "stream",
     "text": [
      "2025-04-22 14:41:35,083 - INFO - Vector index created successfully\n",
      "2025-04-22 14:41:35,084 - INFO - Creating vector index...\n"
     ]
    },
    {
     "data": {
      "text/plain": [
       "Batches:   0%|          | 0/1 [00:00<?, ?it/s]"
      ],
      "application/vnd.jupyter.widget-view+json": {
       "version_major": 2,
       "version_minor": 0,
       "model_id": "6117ca5c97a54db9afdfc18d2e3b0e0c"
      }
     },
     "metadata": {},
     "output_type": "display_data"
    },
    {
     "data": {
      "text/plain": [
       "Batches:   0%|          | 0/1 [00:00<?, ?it/s]"
      ],
      "application/vnd.jupyter.widget-view+json": {
       "version_major": 2,
       "version_minor": 0,
       "model_id": "2176f62df4f94b6187e4227a5fb11e3c"
      }
     },
     "metadata": {},
     "output_type": "display_data"
    },
    {
     "data": {
      "text/plain": [
       "Batches:   0%|          | 0/1 [00:00<?, ?it/s]"
      ],
      "application/vnd.jupyter.widget-view+json": {
       "version_major": 2,
       "version_minor": 0,
       "model_id": "5f72ab0691d445a284b8fec21ea00e7e"
      }
     },
     "metadata": {},
     "output_type": "display_data"
    },
    {
     "name": "stderr",
     "output_type": "stream",
     "text": [
      "2025-04-22 14:41:39,916 - INFO - Vector index created successfully\n"
     ]
    }
   ],
   "execution_count": 15
  },
  {
   "metadata": {
    "ExecuteTime": {
     "end_time": "2025-04-22T11:42:17.500293Z",
     "start_time": "2025-04-22T11:42:17.334893Z"
    }
   },
   "cell_type": "code",
   "source": [
    "index_spam.storage_context.persist(persist_dir=\"../data/index_spam/\")\n",
    "index_ham.storage_context.persist(persist_dir=\"../data/index_ham/\")"
   ],
   "id": "e7a38de40b1b2ac5",
   "outputs": [],
   "execution_count": 17
  }
 ],
 "metadata": {
  "kernelspec": {
   "display_name": "Python 3",
   "language": "python",
   "name": "python3"
  },
  "language_info": {
   "codemirror_mode": {
    "name": "ipython",
    "version": 2
   },
   "file_extension": ".py",
   "mimetype": "text/x-python",
   "name": "python",
   "nbconvert_exporter": "python",
   "pygments_lexer": "ipython2",
   "version": "2.7.6"
  }
 },
 "nbformat": 4,
 "nbformat_minor": 5
}
