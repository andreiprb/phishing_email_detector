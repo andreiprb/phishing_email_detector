{
 "cells": [
  {
   "metadata": {
    "ExecuteTime": {
     "end_time": "2025-04-26T10:23:03.648706Z",
     "start_time": "2025-04-26T10:22:54.350642Z"
    }
   },
   "cell_type": "code",
   "source": [
    "import os\n",
    "import pandas as pd\n",
    "from pathlib import Path\n",
    "import logging\n",
    "\n",
    "logging.basicConfig(level=logging.INFO, format='%(asctime)s - %(levelname)s - %(message)s')\n",
    "logger = logging.getLogger(__name__)\n",
    "\n",
    "from llama_index.core import Document, Settings\n",
    "from llama_index.embeddings.huggingface import HuggingFaceEmbedding\n",
    "from llama_index.core import VectorStoreIndex\n",
    "from llama_index.core.schema import TextNode"
   ],
   "id": "155e0913c6d37638",
   "outputs": [],
   "execution_count": 1
  },
  {
   "metadata": {
    "ExecuteTime": {
     "end_time": "2025-04-26T10:23:05.858929Z",
     "start_time": "2025-04-26T10:23:05.848418Z"
    }
   },
   "cell_type": "code",
   "source": [
    "from rag_model.core.index import *\n",
    "import config"
   ],
   "id": "61c1e0521e1962bb",
   "outputs": [],
   "execution_count": 2
  },
  {
   "metadata": {
    "ExecuteTime": {
     "end_time": "2025-04-26T10:23:07.760809Z",
     "start_time": "2025-04-26T10:23:07.750403Z"
    }
   },
   "cell_type": "code",
   "source": [
    "datasets_dir: str = Path(\"../..\") / config.DATASETS_PATH\n",
    "\n",
    "assert os.path.exists(datasets_dir), \"Datasets directory not found\"\n",
    "\n",
    "dataset_paths: list[Path] = [Path(str(os.path.join(datasets_dir, f))) for f in os.listdir(datasets_dir)]\n",
    "\n",
    "dataset_paths"
   ],
   "id": "7f129d0abda55500",
   "outputs": [
    {
     "data": {
      "text/plain": [
       "[WindowsPath('../../data/datasets/CEAS_08.csv'),\n",
       " WindowsPath('../../data/datasets/Ling.csv'),\n",
       " WindowsPath('../../data/datasets/Nazario.csv'),\n",
       " WindowsPath('../../data/datasets/Nazario_5.csv'),\n",
       " WindowsPath('../../data/datasets/Nigerian_5.csv'),\n",
       " WindowsPath('../../data/datasets/Nigerian_Fraud.csv'),\n",
       " WindowsPath('../../data/datasets/SpamAssasin.csv'),\n",
       " WindowsPath('../../data/datasets/TREC_07.csv')]"
      ]
     },
     "execution_count": 3,
     "metadata": {},
     "output_type": "execute_result"
    }
   ],
   "execution_count": 3
  },
  {
   "metadata": {
    "ExecuteTime": {
     "end_time": "2025-04-26T10:23:14.643247Z",
     "start_time": "2025-04-26T10:23:10.626488Z"
    }
   },
   "cell_type": "code",
   "source": [
    "sample_size: int = 100\n",
    "samples: list[tuple[pd.DataFrame, pd.DataFrame]] = [load_sample(path, sample_size=sample_size) for path in dataset_paths]\n",
    "\n",
    "spam_dfs, ham_dfs = zip(*samples)\n",
    "spam_df: pd.DataFrame = pd.concat(spam_dfs, ignore_index=True)\n",
    "ham_df: pd.DataFrame = pd.concat(ham_dfs, ignore_index=True)\n",
    "\n",
    "processed_spam  = preprocess_email_data(spam_df)\n",
    "processed_ham  = preprocess_email_data(ham_df)"
   ],
   "id": "b02c72a5eb32f147",
   "outputs": [
    {
     "name": "stderr",
     "output_type": "stream",
     "text": [
      "2025-04-26 13:23:11,801 - INFO - Successfully loaded CSV with 39154 rows and 7 columns\n",
      "2025-04-26 13:23:12,070 - INFO - Successfully loaded CSV with 2859 rows and 3 columns\n",
      "2025-04-26 13:23:12,231 - INFO - Successfully loaded CSV with 1565 rows and 7 columns\n",
      "2025-04-26 13:23:12,396 - INFO - Successfully loaded CSV with 3065 rows and 7 columns\n",
      "2025-04-26 13:23:12,667 - INFO - Successfully loaded CSV with 6331 rows and 7 columns\n",
      "2025-04-26 13:23:12,822 - INFO - Successfully loaded CSV with 3332 rows and 7 columns\n",
      "2025-04-26 13:23:13,030 - INFO - Successfully loaded CSV with 5809 rows and 7 columns\n",
      "2025-04-26 13:23:14,556 - INFO - Successfully loaded CSV with 53757 rows and 7 columns\n",
      "2025-04-26 13:23:14,600 - INFO - Preprocessing email data...\n",
      "2025-04-26 13:23:14,621 - INFO - Preprocessing complete\n",
      "2025-04-26 13:23:14,622 - INFO - Preprocessing email data...\n",
      "2025-04-26 13:23:14,639 - INFO - Preprocessing complete\n"
     ]
    }
   ],
   "execution_count": 4
  },
  {
   "metadata": {
    "ExecuteTime": {
     "end_time": "2025-04-26T10:23:16.795179Z",
     "start_time": "2025-04-26T10:23:16.780141Z"
    }
   },
   "cell_type": "code",
   "source": "processed_spam.head()",
   "id": "a1a195a0f1828662",
   "outputs": [
    {
     "data": {
      "text/plain": [
       "                                              sender  \\\n",
       "0               Connie Kinney <Connie@hkusua.hku.hk>   \n",
       "1  Sylvester Malone <SalvatoreobsoleteMalone@hilt...   \n",
       "2                 Cyrus Haley <Cyrus@woodwardps.net>   \n",
       "3  Scottie Mercer <RandellcolloidalSykes@stuff4re...   \n",
       "4  CNN Alerts <martac-hcelbhco@networkingcolorado...   \n",
       "\n",
       "                           receiver                             date  \\\n",
       "0    user2.11@gvc.ceas-challenge.cc  Thu, 07 Aug 2008 00:58:38 -2200   \n",
       "1    user2.10@gvc.ceas-challenge.cc  Thu, 07 Aug 2008 13:33:22 +0500   \n",
       "2  user7-ext4@gvc.ceas-challenge.cc  Wed, 06 Aug 2008 02:27:13 +0200   \n",
       "3     user2.4@gvc.ceas-challenge.cc  Thu, 07 Aug 2008 08:01:17 -0300   \n",
       "4    catchall@gvc.ceas-challenge.cc  Fri, 08 Aug 2008 07:50:02 -0400   \n",
       "\n",
       "                                      subject  \\\n",
       "0                     More massive love luger   \n",
       "1        No Pumps! No Surgery! No Exercises!    \n",
       "2  What will lead to your super satisfaction?   \n",
       "3                 Christmas Replica Watches     \n",
       "4                 CNN Alerts: My Custom Alert   \n",
       "\n",
       "                                                body  label urls  \\\n",
       "0  The best way to please your lassie like a real...      1    1   \n",
       "1  \\nMany surveys have shown that ladies prefer t...      1    1   \n",
       "2  Taking this remedy for a few months will preve...      1    1   \n",
       "3  \\nWe offer a free gift box with every VIP watc...      1    1   \n",
       "4  \\n\\nCNN Alerts: My Custom Alert\\n\\n\\n\\n\\n\\n\\n ...      1    0   \n",
       "\n",
       "                                       combined_text  \n",
       "0  From: Connie Kinney <Connie@hkusua.hku.hk>\\nTo...  \n",
       "1  From: Sylvester Malone <SalvatoreobsoleteMalon...  \n",
       "2  From: Cyrus Haley <Cyrus@woodwardps.net>\\nTo: ...  \n",
       "3  From: Scottie Mercer <RandellcolloidalSykes@st...  \n",
       "4  From: CNN Alerts <martac-hcelbhco@networkingco...  "
      ],
      "text/html": [
       "<div>\n",
       "<style scoped>\n",
       "    .dataframe tbody tr th:only-of-type {\n",
       "        vertical-align: middle;\n",
       "    }\n",
       "\n",
       "    .dataframe tbody tr th {\n",
       "        vertical-align: top;\n",
       "    }\n",
       "\n",
       "    .dataframe thead th {\n",
       "        text-align: right;\n",
       "    }\n",
       "</style>\n",
       "<table border=\"1\" class=\"dataframe\">\n",
       "  <thead>\n",
       "    <tr style=\"text-align: right;\">\n",
       "      <th></th>\n",
       "      <th>sender</th>\n",
       "      <th>receiver</th>\n",
       "      <th>date</th>\n",
       "      <th>subject</th>\n",
       "      <th>body</th>\n",
       "      <th>label</th>\n",
       "      <th>urls</th>\n",
       "      <th>combined_text</th>\n",
       "    </tr>\n",
       "  </thead>\n",
       "  <tbody>\n",
       "    <tr>\n",
       "      <th>0</th>\n",
       "      <td>Connie Kinney &lt;Connie@hkusua.hku.hk&gt;</td>\n",
       "      <td>user2.11@gvc.ceas-challenge.cc</td>\n",
       "      <td>Thu, 07 Aug 2008 00:58:38 -2200</td>\n",
       "      <td>More massive love luger</td>\n",
       "      <td>The best way to please your lassie like a real...</td>\n",
       "      <td>1</td>\n",
       "      <td>1</td>\n",
       "      <td>From: Connie Kinney &lt;Connie@hkusua.hku.hk&gt;\\nTo...</td>\n",
       "    </tr>\n",
       "    <tr>\n",
       "      <th>1</th>\n",
       "      <td>Sylvester Malone &lt;SalvatoreobsoleteMalone@hilt...</td>\n",
       "      <td>user2.10@gvc.ceas-challenge.cc</td>\n",
       "      <td>Thu, 07 Aug 2008 13:33:22 +0500</td>\n",
       "      <td>No Pumps! No Surgery! No Exercises!</td>\n",
       "      <td>\\nMany surveys have shown that ladies prefer t...</td>\n",
       "      <td>1</td>\n",
       "      <td>1</td>\n",
       "      <td>From: Sylvester Malone &lt;SalvatoreobsoleteMalon...</td>\n",
       "    </tr>\n",
       "    <tr>\n",
       "      <th>2</th>\n",
       "      <td>Cyrus Haley &lt;Cyrus@woodwardps.net&gt;</td>\n",
       "      <td>user7-ext4@gvc.ceas-challenge.cc</td>\n",
       "      <td>Wed, 06 Aug 2008 02:27:13 +0200</td>\n",
       "      <td>What will lead to your super satisfaction?</td>\n",
       "      <td>Taking this remedy for a few months will preve...</td>\n",
       "      <td>1</td>\n",
       "      <td>1</td>\n",
       "      <td>From: Cyrus Haley &lt;Cyrus@woodwardps.net&gt;\\nTo: ...</td>\n",
       "    </tr>\n",
       "    <tr>\n",
       "      <th>3</th>\n",
       "      <td>Scottie Mercer &lt;RandellcolloidalSykes@stuff4re...</td>\n",
       "      <td>user2.4@gvc.ceas-challenge.cc</td>\n",
       "      <td>Thu, 07 Aug 2008 08:01:17 -0300</td>\n",
       "      <td>Christmas Replica Watches</td>\n",
       "      <td>\\nWe offer a free gift box with every VIP watc...</td>\n",
       "      <td>1</td>\n",
       "      <td>1</td>\n",
       "      <td>From: Scottie Mercer &lt;RandellcolloidalSykes@st...</td>\n",
       "    </tr>\n",
       "    <tr>\n",
       "      <th>4</th>\n",
       "      <td>CNN Alerts &lt;martac-hcelbhco@networkingcolorado...</td>\n",
       "      <td>catchall@gvc.ceas-challenge.cc</td>\n",
       "      <td>Fri, 08 Aug 2008 07:50:02 -0400</td>\n",
       "      <td>CNN Alerts: My Custom Alert</td>\n",
       "      <td>\\n\\nCNN Alerts: My Custom Alert\\n\\n\\n\\n\\n\\n\\n ...</td>\n",
       "      <td>1</td>\n",
       "      <td>0</td>\n",
       "      <td>From: CNN Alerts &lt;martac-hcelbhco@networkingco...</td>\n",
       "    </tr>\n",
       "  </tbody>\n",
       "</table>\n",
       "</div>"
      ]
     },
     "execution_count": 5,
     "metadata": {},
     "output_type": "execute_result"
    }
   ],
   "execution_count": 5
  },
  {
   "metadata": {
    "ExecuteTime": {
     "end_time": "2025-04-26T10:23:18.495132Z",
     "start_time": "2025-04-26T10:23:18.483253Z"
    }
   },
   "cell_type": "code",
   "source": "processed_ham.head()",
   "id": "51c35ac3bf774657",
   "outputs": [
    {
     "data": {
      "text/plain": [
       "                                  sender  \\\n",
       "0        dan_markx <hkh_wavda@yahoo.com>   \n",
       "1  Klaas-Jan Stol <parrotcode@gmail.com>   \n",
       "2       Jan Peters <cggc@jan-peters.net>   \n",
       "3         Rahul Garg <qldb3@ualberta.ca>   \n",
       "4      Neal Norwitz <vapkwvjq@gmail.com>   \n",
       "\n",
       "                                            receiver  \\\n",
       "0                 bxcbhgwfhe-gfonxob@yahoogroups.com   \n",
       "1          Jonathan Worthington <jonathan@jnthn.net>   \n",
       "2                                                      \n",
       "3  pxgdk-tmoguskofw@scipy.org, zvllln-eum@python.org   \n",
       "4                Lennart Regebro <hyiffbi@gmail.com>   \n",
       "\n",
       "                              date  \\\n",
       "0  Fri, 08 Aug 2008 06:41:04 +0000   \n",
       "1  Thu, 07 Aug 2008 09:57:49 +0100   \n",
       "2  Fri, 08 Aug 2008 06:18:56 +0200   \n",
       "3  Thu, 07 Aug 2008 03:26:01 -0600   \n",
       "4  Wed, 06 Aug 2008 19:03:02 -0700   \n",
       "\n",
       "                                             subject  \\\n",
       "0  [domainkeys-interop] Re: Dk php implementation...   \n",
       "1  Re: [perl #57636] [TODO][PDD19] Document the r...   \n",
       "2  [UAI] NIPS 2007 WORKSHOP: Robotics Challenges ...   \n",
       "3  [Python-Dev] New project : Spyke python-to-C c...   \n",
       "4    Re: [Python-3000] Python 3.0 Porting Strategies   \n",
       "\n",
       "                                                body  label urls  \\\n",
       "0  --- In bxcbhgwfhe-gfonxob@yahoogroups.com, \"Ja...      0    0   \n",
       "1  On Wed, Aug 6, 2008 at 8:30 PM, Jonathan Worth...      0    0   \n",
       "2                       *** Apologies for Multipl...      0    1   \n",
       "3  Note this message has been posted to numpy-dis...      0    1   \n",
       "4  On Thu, Mar 27, 2008 at 3:52 AM, Lennart Regeb...      0    1   \n",
       "\n",
       "                                       combined_text  \n",
       "0  From: dan_markx <hkh_wavda@yahoo.com>\\nTo: bxc...  \n",
       "1  From: Klaas-Jan Stol <parrotcode@gmail.com>\\nT...  \n",
       "2  From: Jan Peters <cggc@jan-peters.net>\\nTo: \\n...  \n",
       "3  From: Rahul Garg <qldb3@ualberta.ca>\\nTo: pxgd...  \n",
       "4  From: Neal Norwitz <vapkwvjq@gmail.com>\\nTo: L...  "
      ],
      "text/html": [
       "<div>\n",
       "<style scoped>\n",
       "    .dataframe tbody tr th:only-of-type {\n",
       "        vertical-align: middle;\n",
       "    }\n",
       "\n",
       "    .dataframe tbody tr th {\n",
       "        vertical-align: top;\n",
       "    }\n",
       "\n",
       "    .dataframe thead th {\n",
       "        text-align: right;\n",
       "    }\n",
       "</style>\n",
       "<table border=\"1\" class=\"dataframe\">\n",
       "  <thead>\n",
       "    <tr style=\"text-align: right;\">\n",
       "      <th></th>\n",
       "      <th>sender</th>\n",
       "      <th>receiver</th>\n",
       "      <th>date</th>\n",
       "      <th>subject</th>\n",
       "      <th>body</th>\n",
       "      <th>label</th>\n",
       "      <th>urls</th>\n",
       "      <th>combined_text</th>\n",
       "    </tr>\n",
       "  </thead>\n",
       "  <tbody>\n",
       "    <tr>\n",
       "      <th>0</th>\n",
       "      <td>dan_markx &lt;hkh_wavda@yahoo.com&gt;</td>\n",
       "      <td>bxcbhgwfhe-gfonxob@yahoogroups.com</td>\n",
       "      <td>Fri, 08 Aug 2008 06:41:04 +0000</td>\n",
       "      <td>[domainkeys-interop] Re: Dk php implementation...</td>\n",
       "      <td>--- In bxcbhgwfhe-gfonxob@yahoogroups.com, \"Ja...</td>\n",
       "      <td>0</td>\n",
       "      <td>0</td>\n",
       "      <td>From: dan_markx &lt;hkh_wavda@yahoo.com&gt;\\nTo: bxc...</td>\n",
       "    </tr>\n",
       "    <tr>\n",
       "      <th>1</th>\n",
       "      <td>Klaas-Jan Stol &lt;parrotcode@gmail.com&gt;</td>\n",
       "      <td>Jonathan Worthington &lt;jonathan@jnthn.net&gt;</td>\n",
       "      <td>Thu, 07 Aug 2008 09:57:49 +0100</td>\n",
       "      <td>Re: [perl #57636] [TODO][PDD19] Document the r...</td>\n",
       "      <td>On Wed, Aug 6, 2008 at 8:30 PM, Jonathan Worth...</td>\n",
       "      <td>0</td>\n",
       "      <td>0</td>\n",
       "      <td>From: Klaas-Jan Stol &lt;parrotcode@gmail.com&gt;\\nT...</td>\n",
       "    </tr>\n",
       "    <tr>\n",
       "      <th>2</th>\n",
       "      <td>Jan Peters &lt;cggc@jan-peters.net&gt;</td>\n",
       "      <td></td>\n",
       "      <td>Fri, 08 Aug 2008 06:18:56 +0200</td>\n",
       "      <td>[UAI] NIPS 2007 WORKSHOP: Robotics Challenges ...</td>\n",
       "      <td>*** Apologies for Multipl...</td>\n",
       "      <td>0</td>\n",
       "      <td>1</td>\n",
       "      <td>From: Jan Peters &lt;cggc@jan-peters.net&gt;\\nTo: \\n...</td>\n",
       "    </tr>\n",
       "    <tr>\n",
       "      <th>3</th>\n",
       "      <td>Rahul Garg &lt;qldb3@ualberta.ca&gt;</td>\n",
       "      <td>pxgdk-tmoguskofw@scipy.org, zvllln-eum@python.org</td>\n",
       "      <td>Thu, 07 Aug 2008 03:26:01 -0600</td>\n",
       "      <td>[Python-Dev] New project : Spyke python-to-C c...</td>\n",
       "      <td>Note this message has been posted to numpy-dis...</td>\n",
       "      <td>0</td>\n",
       "      <td>1</td>\n",
       "      <td>From: Rahul Garg &lt;qldb3@ualberta.ca&gt;\\nTo: pxgd...</td>\n",
       "    </tr>\n",
       "    <tr>\n",
       "      <th>4</th>\n",
       "      <td>Neal Norwitz &lt;vapkwvjq@gmail.com&gt;</td>\n",
       "      <td>Lennart Regebro &lt;hyiffbi@gmail.com&gt;</td>\n",
       "      <td>Wed, 06 Aug 2008 19:03:02 -0700</td>\n",
       "      <td>Re: [Python-3000] Python 3.0 Porting Strategies</td>\n",
       "      <td>On Thu, Mar 27, 2008 at 3:52 AM, Lennart Regeb...</td>\n",
       "      <td>0</td>\n",
       "      <td>1</td>\n",
       "      <td>From: Neal Norwitz &lt;vapkwvjq@gmail.com&gt;\\nTo: L...</td>\n",
       "    </tr>\n",
       "  </tbody>\n",
       "</table>\n",
       "</div>"
      ]
     },
     "execution_count": 6,
     "metadata": {},
     "output_type": "execute_result"
    }
   ],
   "execution_count": 6
  },
  {
   "metadata": {
    "ExecuteTime": {
     "end_time": "2025-04-26T10:25:19.064326Z",
     "start_time": "2025-04-26T10:25:18.894413Z"
    }
   },
   "cell_type": "code",
   "source": [
    "documents_spam: list[Document] = create_documents_from_dataframe(processed_spam)\n",
    "documents_ham: list[Document] = create_documents_from_dataframe(processed_ham)"
   ],
   "id": "a87efa92dbc377ef",
   "outputs": [
    {
     "name": "stderr",
     "output_type": "stream",
     "text": [
      "2025-04-26 13:25:18,896 - INFO - Creating LlamaIndex documents from DataFrame...\n",
      "2025-04-26 13:25:18,991 - INFO - Created 800 documents\n",
      "2025-04-26 13:25:18,991 - INFO - Creating LlamaIndex documents from DataFrame...\n",
      "2025-04-26 13:25:19,060 - INFO - Created 600 documents\n"
     ]
    }
   ],
   "execution_count": 7
  },
  {
   "metadata": {
    "ExecuteTime": {
     "end_time": "2025-04-26T10:25:23.462283Z",
     "start_time": "2025-04-26T10:25:20.725648Z"
    }
   },
   "cell_type": "code",
   "source": [
    "nodes_spam: list[TextNode] = chunk_documents(documents_spam)\n",
    "nodes_ham: list[TextNode] = chunk_documents(documents_ham)"
   ],
   "id": "e081d53e48e66787",
   "outputs": [
    {
     "name": "stderr",
     "output_type": "stream",
     "text": [
      "2025-04-26 13:25:20,727 - INFO - Chunking documents with size=8192, overlap=20\n",
      "2025-04-26 13:25:22,520 - INFO - Created 817 nodes from 800 documents\n",
      "2025-04-26 13:25:22,521 - INFO - Chunking documents with size=8192, overlap=20\n",
      "2025-04-26 13:25:23,459 - INFO - Created 611 nodes from 600 documents\n"
     ]
    }
   ],
   "execution_count": 8
  },
  {
   "metadata": {
    "ExecuteTime": {
     "end_time": "2025-04-26T10:26:06.743593Z",
     "start_time": "2025-04-26T10:25:28.606874Z"
    }
   },
   "cell_type": "code",
   "source": [
    "embed_model: HuggingFaceEmbedding = HuggingFaceEmbedding(model_name=\"BAAI/bge-small-en-v1.5\")\n",
    "Settings.embed_model = embed_model\n",
    "\n",
    "index_spam: VectorStoreIndex= create_index_from_documents(nodes_spam)\n",
    "index_ham: VectorStoreIndex= create_index_from_documents(nodes_ham)"
   ],
   "id": "867943f95e6d176a",
   "outputs": [
    {
     "name": "stderr",
     "output_type": "stream",
     "text": [
      "2025-04-26 13:25:28,609 - INFO - Load pretrained SentenceTransformer: BAAI/bge-small-en-v1.5\n",
      "2025-04-26 13:25:31,001 - INFO - 2 prompts are loaded, with the keys: ['query', 'text']\n",
      "2025-04-26 13:25:31,004 - INFO - Creating vector index...\n"
     ]
    },
    {
     "data": {
      "text/plain": [
       "Batches:   0%|          | 0/1 [00:00<?, ?it/s]"
      ],
      "application/vnd.jupyter.widget-view+json": {
       "version_major": 2,
       "version_minor": 0,
       "model_id": "80d796ef923544a99629af74c6a5563b"
      }
     },
     "metadata": {},
     "output_type": "display_data"
    },
    {
     "data": {
      "text/plain": [
       "Batches:   0%|          | 0/1 [00:00<?, ?it/s]"
      ],
      "application/vnd.jupyter.widget-view+json": {
       "version_major": 2,
       "version_minor": 0,
       "model_id": "3df0a5eed55c48d7a98d0cc2e42e1319"
      }
     },
     "metadata": {},
     "output_type": "display_data"
    },
    {
     "data": {
      "text/plain": [
       "Batches:   0%|          | 0/1 [00:00<?, ?it/s]"
      ],
      "application/vnd.jupyter.widget-view+json": {
       "version_major": 2,
       "version_minor": 0,
       "model_id": "578604156d1246248947b2b959b5c558"
      }
     },
     "metadata": {},
     "output_type": "display_data"
    },
    {
     "data": {
      "text/plain": [
       "Batches:   0%|          | 0/1 [00:00<?, ?it/s]"
      ],
      "application/vnd.jupyter.widget-view+json": {
       "version_major": 2,
       "version_minor": 0,
       "model_id": "5898a7c93bf7493a88c45636bbaf5e21"
      }
     },
     "metadata": {},
     "output_type": "display_data"
    },
    {
     "data": {
      "text/plain": [
       "Batches:   0%|          | 0/1 [00:00<?, ?it/s]"
      ],
      "application/vnd.jupyter.widget-view+json": {
       "version_major": 2,
       "version_minor": 0,
       "model_id": "bc0bbad20b4e45d9ba1c85011318f6a3"
      }
     },
     "metadata": {},
     "output_type": "display_data"
    },
    {
     "data": {
      "text/plain": [
       "Batches:   0%|          | 0/1 [00:00<?, ?it/s]"
      ],
      "application/vnd.jupyter.widget-view+json": {
       "version_major": 2,
       "version_minor": 0,
       "model_id": "5cf22fa750aa4ca4923e09dd8d096e81"
      }
     },
     "metadata": {},
     "output_type": "display_data"
    },
    {
     "data": {
      "text/plain": [
       "Batches:   0%|          | 0/1 [00:00<?, ?it/s]"
      ],
      "application/vnd.jupyter.widget-view+json": {
       "version_major": 2,
       "version_minor": 0,
       "model_id": "c09e91fb3d664338be580b54e0323dae"
      }
     },
     "metadata": {},
     "output_type": "display_data"
    },
    {
     "data": {
      "text/plain": [
       "Batches:   0%|          | 0/1 [00:00<?, ?it/s]"
      ],
      "application/vnd.jupyter.widget-view+json": {
       "version_major": 2,
       "version_minor": 0,
       "model_id": "1f681c520bbd41e5a26700afa11db9b4"
      }
     },
     "metadata": {},
     "output_type": "display_data"
    },
    {
     "data": {
      "text/plain": [
       "Batches:   0%|          | 0/1 [00:00<?, ?it/s]"
      ],
      "application/vnd.jupyter.widget-view+json": {
       "version_major": 2,
       "version_minor": 0,
       "model_id": "068c7a3c7ffe4b4e86a10c0219fadcc2"
      }
     },
     "metadata": {},
     "output_type": "display_data"
    },
    {
     "data": {
      "text/plain": [
       "Batches:   0%|          | 0/1 [00:00<?, ?it/s]"
      ],
      "application/vnd.jupyter.widget-view+json": {
       "version_major": 2,
       "version_minor": 0,
       "model_id": "a35df6da84244026a4eb3982f9a95cea"
      }
     },
     "metadata": {},
     "output_type": "display_data"
    },
    {
     "data": {
      "text/plain": [
       "Batches:   0%|          | 0/1 [00:00<?, ?it/s]"
      ],
      "application/vnd.jupyter.widget-view+json": {
       "version_major": 2,
       "version_minor": 0,
       "model_id": "5a99906f84a44b29bd335a5a4c85ad96"
      }
     },
     "metadata": {},
     "output_type": "display_data"
    },
    {
     "data": {
      "text/plain": [
       "Batches:   0%|          | 0/1 [00:00<?, ?it/s]"
      ],
      "application/vnd.jupyter.widget-view+json": {
       "version_major": 2,
       "version_minor": 0,
       "model_id": "0311f78ab34349a9b9999069a20255ad"
      }
     },
     "metadata": {},
     "output_type": "display_data"
    },
    {
     "data": {
      "text/plain": [
       "Batches:   0%|          | 0/1 [00:00<?, ?it/s]"
      ],
      "application/vnd.jupyter.widget-view+json": {
       "version_major": 2,
       "version_minor": 0,
       "model_id": "7619d15021044fb8bdda14cc4aae5a61"
      }
     },
     "metadata": {},
     "output_type": "display_data"
    },
    {
     "data": {
      "text/plain": [
       "Batches:   0%|          | 0/1 [00:00<?, ?it/s]"
      ],
      "application/vnd.jupyter.widget-view+json": {
       "version_major": 2,
       "version_minor": 0,
       "model_id": "05fc56f4041e47c583d934532df9b6ba"
      }
     },
     "metadata": {},
     "output_type": "display_data"
    },
    {
     "data": {
      "text/plain": [
       "Batches:   0%|          | 0/1 [00:00<?, ?it/s]"
      ],
      "application/vnd.jupyter.widget-view+json": {
       "version_major": 2,
       "version_minor": 0,
       "model_id": "521078fb177a4c559423fd4bb106a3cd"
      }
     },
     "metadata": {},
     "output_type": "display_data"
    },
    {
     "data": {
      "text/plain": [
       "Batches:   0%|          | 0/1 [00:00<?, ?it/s]"
      ],
      "application/vnd.jupyter.widget-view+json": {
       "version_major": 2,
       "version_minor": 0,
       "model_id": "c83dd72fd1744e05b1f92e4dd420ef53"
      }
     },
     "metadata": {},
     "output_type": "display_data"
    },
    {
     "data": {
      "text/plain": [
       "Batches:   0%|          | 0/1 [00:00<?, ?it/s]"
      ],
      "application/vnd.jupyter.widget-view+json": {
       "version_major": 2,
       "version_minor": 0,
       "model_id": "b741dddeb48f4f8b947db2ba87d0c886"
      }
     },
     "metadata": {},
     "output_type": "display_data"
    },
    {
     "data": {
      "text/plain": [
       "Batches:   0%|          | 0/1 [00:00<?, ?it/s]"
      ],
      "application/vnd.jupyter.widget-view+json": {
       "version_major": 2,
       "version_minor": 0,
       "model_id": "7c2e83bc2bfa40bca918bace7385c612"
      }
     },
     "metadata": {},
     "output_type": "display_data"
    },
    {
     "data": {
      "text/plain": [
       "Batches:   0%|          | 0/1 [00:00<?, ?it/s]"
      ],
      "application/vnd.jupyter.widget-view+json": {
       "version_major": 2,
       "version_minor": 0,
       "model_id": "4abd07bdb08547c0acdad620787f3282"
      }
     },
     "metadata": {},
     "output_type": "display_data"
    },
    {
     "data": {
      "text/plain": [
       "Batches:   0%|          | 0/1 [00:00<?, ?it/s]"
      ],
      "application/vnd.jupyter.widget-view+json": {
       "version_major": 2,
       "version_minor": 0,
       "model_id": "c82eb30018854f6da94c4d2693b68410"
      }
     },
     "metadata": {},
     "output_type": "display_data"
    },
    {
     "data": {
      "text/plain": [
       "Batches:   0%|          | 0/1 [00:00<?, ?it/s]"
      ],
      "application/vnd.jupyter.widget-view+json": {
       "version_major": 2,
       "version_minor": 0,
       "model_id": "8814149fbd954f9daac80782363e5299"
      }
     },
     "metadata": {},
     "output_type": "display_data"
    },
    {
     "ename": "KeyboardInterrupt",
     "evalue": "",
     "output_type": "error",
     "traceback": [
      "\u001B[1;31m---------------------------------------------------------------------------\u001B[0m",
      "\u001B[1;31mKeyboardInterrupt\u001B[0m                         Traceback (most recent call last)",
      "Cell \u001B[1;32mIn[9], line 4\u001B[0m\n\u001B[0;32m      1\u001B[0m embed_model: HuggingFaceEmbedding \u001B[38;5;241m=\u001B[39m HuggingFaceEmbedding(model_name\u001B[38;5;241m=\u001B[39m\u001B[38;5;124m\"\u001B[39m\u001B[38;5;124mBAAI/bge-small-en-v1.5\u001B[39m\u001B[38;5;124m\"\u001B[39m)\n\u001B[0;32m      2\u001B[0m Settings\u001B[38;5;241m.\u001B[39membed_model \u001B[38;5;241m=\u001B[39m embed_model\n\u001B[1;32m----> 4\u001B[0m index_spam: VectorStoreIndex\u001B[38;5;241m=\u001B[39m create_index_from_documents(nodes_spam)\n\u001B[0;32m      5\u001B[0m index_ham: VectorStoreIndex\u001B[38;5;241m=\u001B[39m create_index_from_documents(nodes_ham)\n",
      "File \u001B[1;32m~\\PycharmProjects\\phishing_email_detector_sandbox\\rag_model\\core\\index.py:169\u001B[0m, in \u001B[0;36mcreate_index_from_documents\u001B[1;34m(nodes)\u001B[0m\n\u001B[0;32m    158\u001B[0m \u001B[38;5;250m\u001B[39m\u001B[38;5;124;03m\"\"\"\u001B[39;00m\n\u001B[0;32m    159\u001B[0m \u001B[38;5;124;03mCreate a LlamaIndex VectorStoreIndex from documents\u001B[39;00m\n\u001B[0;32m    160\u001B[0m \n\u001B[1;32m   (...)\u001B[0m\n\u001B[0;32m    165\u001B[0m \u001B[38;5;124;03m    Initialized VectorStoreIndex\u001B[39;00m\n\u001B[0;32m    166\u001B[0m \u001B[38;5;124;03m\"\"\"\u001B[39;00m\n\u001B[0;32m    167\u001B[0m logger\u001B[38;5;241m.\u001B[39minfo(\u001B[38;5;124m\"\u001B[39m\u001B[38;5;124mCreating vector index...\u001B[39m\u001B[38;5;124m\"\u001B[39m)\n\u001B[1;32m--> 169\u001B[0m index: VectorStoreIndex \u001B[38;5;241m=\u001B[39m VectorStoreIndex(nodes)\n\u001B[0;32m    170\u001B[0m logger\u001B[38;5;241m.\u001B[39minfo(\u001B[38;5;124m\"\u001B[39m\u001B[38;5;124mVector index created successfully\u001B[39m\u001B[38;5;124m\"\u001B[39m)\n\u001B[0;32m    172\u001B[0m \u001B[38;5;28;01mreturn\u001B[39;00m index\n",
      "File \u001B[1;32m~\\miniconda3\\envs\\pishing_env\\Lib\\site-packages\\llama_index\\core\\indices\\vector_store\\base.py:76\u001B[0m, in \u001B[0;36mVectorStoreIndex.__init__\u001B[1;34m(self, nodes, use_async, store_nodes_override, embed_model, insert_batch_size, objects, index_struct, storage_context, callback_manager, transformations, show_progress, **kwargs)\u001B[0m\n\u001B[0;32m     69\u001B[0m \u001B[38;5;28mself\u001B[39m\u001B[38;5;241m.\u001B[39m_embed_model \u001B[38;5;241m=\u001B[39m (\n\u001B[0;32m     70\u001B[0m     resolve_embed_model(embed_model, callback_manager\u001B[38;5;241m=\u001B[39mcallback_manager)\n\u001B[0;32m     71\u001B[0m     \u001B[38;5;28;01mif\u001B[39;00m embed_model\n\u001B[0;32m     72\u001B[0m     \u001B[38;5;28;01melse\u001B[39;00m Settings\u001B[38;5;241m.\u001B[39membed_model\n\u001B[0;32m     73\u001B[0m )\n\u001B[0;32m     75\u001B[0m \u001B[38;5;28mself\u001B[39m\u001B[38;5;241m.\u001B[39m_insert_batch_size \u001B[38;5;241m=\u001B[39m insert_batch_size\n\u001B[1;32m---> 76\u001B[0m \u001B[38;5;28msuper\u001B[39m()\u001B[38;5;241m.\u001B[39m\u001B[38;5;21m__init__\u001B[39m(\n\u001B[0;32m     77\u001B[0m     nodes\u001B[38;5;241m=\u001B[39mnodes,\n\u001B[0;32m     78\u001B[0m     index_struct\u001B[38;5;241m=\u001B[39mindex_struct,\n\u001B[0;32m     79\u001B[0m     storage_context\u001B[38;5;241m=\u001B[39mstorage_context,\n\u001B[0;32m     80\u001B[0m     show_progress\u001B[38;5;241m=\u001B[39mshow_progress,\n\u001B[0;32m     81\u001B[0m     objects\u001B[38;5;241m=\u001B[39mobjects,\n\u001B[0;32m     82\u001B[0m     callback_manager\u001B[38;5;241m=\u001B[39mcallback_manager,\n\u001B[0;32m     83\u001B[0m     transformations\u001B[38;5;241m=\u001B[39mtransformations,\n\u001B[0;32m     84\u001B[0m     \u001B[38;5;241m*\u001B[39m\u001B[38;5;241m*\u001B[39mkwargs,\n\u001B[0;32m     85\u001B[0m )\n",
      "File \u001B[1;32m~\\miniconda3\\envs\\pishing_env\\Lib\\site-packages\\llama_index\\core\\indices\\base.py:77\u001B[0m, in \u001B[0;36mBaseIndex.__init__\u001B[1;34m(self, nodes, objects, index_struct, storage_context, callback_manager, transformations, show_progress, **kwargs)\u001B[0m\n\u001B[0;32m     75\u001B[0m \u001B[38;5;28;01mif\u001B[39;00m index_struct \u001B[38;5;129;01mis\u001B[39;00m \u001B[38;5;28;01mNone\u001B[39;00m:\n\u001B[0;32m     76\u001B[0m     nodes \u001B[38;5;241m=\u001B[39m nodes \u001B[38;5;129;01mor\u001B[39;00m []\n\u001B[1;32m---> 77\u001B[0m     index_struct \u001B[38;5;241m=\u001B[39m \u001B[38;5;28mself\u001B[39m\u001B[38;5;241m.\u001B[39mbuild_index_from_nodes(\n\u001B[0;32m     78\u001B[0m         nodes \u001B[38;5;241m+\u001B[39m objects,  \u001B[38;5;66;03m# type: ignore\u001B[39;00m\n\u001B[0;32m     79\u001B[0m         \u001B[38;5;241m*\u001B[39m\u001B[38;5;241m*\u001B[39mkwargs,  \u001B[38;5;66;03m# type: ignore\u001B[39;00m\n\u001B[0;32m     80\u001B[0m     )\n\u001B[0;32m     81\u001B[0m \u001B[38;5;28mself\u001B[39m\u001B[38;5;241m.\u001B[39m_index_struct \u001B[38;5;241m=\u001B[39m index_struct\n\u001B[0;32m     82\u001B[0m \u001B[38;5;28mself\u001B[39m\u001B[38;5;241m.\u001B[39m_storage_context\u001B[38;5;241m.\u001B[39mindex_store\u001B[38;5;241m.\u001B[39madd_index_struct(\u001B[38;5;28mself\u001B[39m\u001B[38;5;241m.\u001B[39m_index_struct)\n",
      "File \u001B[1;32m~\\miniconda3\\envs\\pishing_env\\Lib\\site-packages\\llama_index\\core\\indices\\vector_store\\base.py:310\u001B[0m, in \u001B[0;36mVectorStoreIndex.build_index_from_nodes\u001B[1;34m(self, nodes, **insert_kwargs)\u001B[0m\n\u001B[0;32m    307\u001B[0m \u001B[38;5;28;01mif\u001B[39;00m \u001B[38;5;28mlen\u001B[39m(content_nodes) \u001B[38;5;241m!=\u001B[39m \u001B[38;5;28mlen\u001B[39m(nodes):\n\u001B[0;32m    308\u001B[0m     \u001B[38;5;28mprint\u001B[39m(\u001B[38;5;124m\"\u001B[39m\u001B[38;5;124mSome nodes are missing content, skipping them...\u001B[39m\u001B[38;5;124m\"\u001B[39m)\n\u001B[1;32m--> 310\u001B[0m \u001B[38;5;28;01mreturn\u001B[39;00m \u001B[38;5;28mself\u001B[39m\u001B[38;5;241m.\u001B[39m_build_index_from_nodes(content_nodes, \u001B[38;5;241m*\u001B[39m\u001B[38;5;241m*\u001B[39minsert_kwargs)\n",
      "File \u001B[1;32m~\\miniconda3\\envs\\pishing_env\\Lib\\site-packages\\llama_index\\core\\indices\\vector_store\\base.py:279\u001B[0m, in \u001B[0;36mVectorStoreIndex._build_index_from_nodes\u001B[1;34m(self, nodes, **insert_kwargs)\u001B[0m\n\u001B[0;32m    277\u001B[0m     run_async_tasks(tasks)\n\u001B[0;32m    278\u001B[0m \u001B[38;5;28;01melse\u001B[39;00m:\n\u001B[1;32m--> 279\u001B[0m     \u001B[38;5;28mself\u001B[39m\u001B[38;5;241m.\u001B[39m_add_nodes_to_index(\n\u001B[0;32m    280\u001B[0m         index_struct,\n\u001B[0;32m    281\u001B[0m         nodes,\n\u001B[0;32m    282\u001B[0m         show_progress\u001B[38;5;241m=\u001B[39m\u001B[38;5;28mself\u001B[39m\u001B[38;5;241m.\u001B[39m_show_progress,\n\u001B[0;32m    283\u001B[0m         \u001B[38;5;241m*\u001B[39m\u001B[38;5;241m*\u001B[39minsert_kwargs,\n\u001B[0;32m    284\u001B[0m     )\n\u001B[0;32m    285\u001B[0m \u001B[38;5;28;01mreturn\u001B[39;00m index_struct\n",
      "File \u001B[1;32m~\\miniconda3\\envs\\pishing_env\\Lib\\site-packages\\llama_index\\core\\indices\\vector_store\\base.py:232\u001B[0m, in \u001B[0;36mVectorStoreIndex._add_nodes_to_index\u001B[1;34m(self, index_struct, nodes, show_progress, **insert_kwargs)\u001B[0m\n\u001B[0;32m    229\u001B[0m     \u001B[38;5;28;01mreturn\u001B[39;00m\n\u001B[0;32m    231\u001B[0m \u001B[38;5;28;01mfor\u001B[39;00m nodes_batch \u001B[38;5;129;01min\u001B[39;00m iter_batch(nodes, \u001B[38;5;28mself\u001B[39m\u001B[38;5;241m.\u001B[39m_insert_batch_size):\n\u001B[1;32m--> 232\u001B[0m     nodes_batch \u001B[38;5;241m=\u001B[39m \u001B[38;5;28mself\u001B[39m\u001B[38;5;241m.\u001B[39m_get_node_with_embedding(nodes_batch, show_progress)\n\u001B[0;32m    233\u001B[0m     new_ids \u001B[38;5;241m=\u001B[39m \u001B[38;5;28mself\u001B[39m\u001B[38;5;241m.\u001B[39m_vector_store\u001B[38;5;241m.\u001B[39madd(nodes_batch, \u001B[38;5;241m*\u001B[39m\u001B[38;5;241m*\u001B[39minsert_kwargs)\n\u001B[0;32m    235\u001B[0m     \u001B[38;5;28;01mif\u001B[39;00m \u001B[38;5;129;01mnot\u001B[39;00m \u001B[38;5;28mself\u001B[39m\u001B[38;5;241m.\u001B[39m_vector_store\u001B[38;5;241m.\u001B[39mstores_text \u001B[38;5;129;01mor\u001B[39;00m \u001B[38;5;28mself\u001B[39m\u001B[38;5;241m.\u001B[39m_store_nodes_override:\n\u001B[0;32m    236\u001B[0m         \u001B[38;5;66;03m# NOTE: if the vector store doesn't store text,\u001B[39;00m\n\u001B[0;32m    237\u001B[0m         \u001B[38;5;66;03m# we need to add the nodes to the index struct and document store\u001B[39;00m\n",
      "File \u001B[1;32m~\\miniconda3\\envs\\pishing_env\\Lib\\site-packages\\llama_index\\core\\indices\\vector_store\\base.py:139\u001B[0m, in \u001B[0;36mVectorStoreIndex._get_node_with_embedding\u001B[1;34m(self, nodes, show_progress)\u001B[0m\n\u001B[0;32m    127\u001B[0m \u001B[38;5;28;01mdef\u001B[39;00m \u001B[38;5;21m_get_node_with_embedding\u001B[39m(\n\u001B[0;32m    128\u001B[0m     \u001B[38;5;28mself\u001B[39m,\n\u001B[0;32m    129\u001B[0m     nodes: Sequence[BaseNode],\n\u001B[0;32m    130\u001B[0m     show_progress: \u001B[38;5;28mbool\u001B[39m \u001B[38;5;241m=\u001B[39m \u001B[38;5;28;01mFalse\u001B[39;00m,\n\u001B[0;32m    131\u001B[0m ) \u001B[38;5;241m-\u001B[39m\u001B[38;5;241m>\u001B[39m List[BaseNode]:\n\u001B[0;32m    132\u001B[0m \u001B[38;5;250m    \u001B[39m\u001B[38;5;124;03m\"\"\"\u001B[39;00m\n\u001B[0;32m    133\u001B[0m \u001B[38;5;124;03m    Get tuples of id, node, and embedding.\u001B[39;00m\n\u001B[0;32m    134\u001B[0m \n\u001B[1;32m   (...)\u001B[0m\n\u001B[0;32m    137\u001B[0m \n\u001B[0;32m    138\u001B[0m \u001B[38;5;124;03m    \"\"\"\u001B[39;00m\n\u001B[1;32m--> 139\u001B[0m     id_to_embed_map \u001B[38;5;241m=\u001B[39m embed_nodes(\n\u001B[0;32m    140\u001B[0m         nodes, \u001B[38;5;28mself\u001B[39m\u001B[38;5;241m.\u001B[39m_embed_model, show_progress\u001B[38;5;241m=\u001B[39mshow_progress\n\u001B[0;32m    141\u001B[0m     )\n\u001B[0;32m    143\u001B[0m     results \u001B[38;5;241m=\u001B[39m []\n\u001B[0;32m    144\u001B[0m     \u001B[38;5;28;01mfor\u001B[39;00m node \u001B[38;5;129;01min\u001B[39;00m nodes:\n",
      "File \u001B[1;32m~\\miniconda3\\envs\\pishing_env\\Lib\\site-packages\\llama_index\\core\\indices\\utils.py:160\u001B[0m, in \u001B[0;36membed_nodes\u001B[1;34m(nodes, embed_model, show_progress)\u001B[0m\n\u001B[0;32m    157\u001B[0m     \u001B[38;5;28;01melse\u001B[39;00m:\n\u001B[0;32m    158\u001B[0m         id_to_embed_map[node\u001B[38;5;241m.\u001B[39mnode_id] \u001B[38;5;241m=\u001B[39m node\u001B[38;5;241m.\u001B[39membedding\n\u001B[1;32m--> 160\u001B[0m new_embeddings \u001B[38;5;241m=\u001B[39m embed_model\u001B[38;5;241m.\u001B[39mget_text_embedding_batch(\n\u001B[0;32m    161\u001B[0m     texts_to_embed, show_progress\u001B[38;5;241m=\u001B[39mshow_progress\n\u001B[0;32m    162\u001B[0m )\n\u001B[0;32m    164\u001B[0m \u001B[38;5;28;01mfor\u001B[39;00m new_id, text_embedding \u001B[38;5;129;01min\u001B[39;00m \u001B[38;5;28mzip\u001B[39m(ids_to_embed, new_embeddings):\n\u001B[0;32m    165\u001B[0m     id_to_embed_map[new_id] \u001B[38;5;241m=\u001B[39m text_embedding\n",
      "File \u001B[1;32m~\\miniconda3\\envs\\pishing_env\\Lib\\site-packages\\llama_index\\core\\instrumentation\\dispatcher.py:322\u001B[0m, in \u001B[0;36mDispatcher.span.<locals>.wrapper\u001B[1;34m(func, instance, args, kwargs)\u001B[0m\n\u001B[0;32m    319\u001B[0m             _logger\u001B[38;5;241m.\u001B[39mdebug(\u001B[38;5;124mf\u001B[39m\u001B[38;5;124m\"\u001B[39m\u001B[38;5;124mFailed to reset active_span_id: \u001B[39m\u001B[38;5;132;01m{\u001B[39;00me\u001B[38;5;132;01m}\u001B[39;00m\u001B[38;5;124m\"\u001B[39m)\n\u001B[0;32m    321\u001B[0m \u001B[38;5;28;01mtry\u001B[39;00m:\n\u001B[1;32m--> 322\u001B[0m     result \u001B[38;5;241m=\u001B[39m func(\u001B[38;5;241m*\u001B[39margs, \u001B[38;5;241m*\u001B[39m\u001B[38;5;241m*\u001B[39mkwargs)\n\u001B[0;32m    323\u001B[0m     \u001B[38;5;28;01mif\u001B[39;00m \u001B[38;5;28misinstance\u001B[39m(result, asyncio\u001B[38;5;241m.\u001B[39mFuture):\n\u001B[0;32m    324\u001B[0m         \u001B[38;5;66;03m# If the result is a Future, wrap it\u001B[39;00m\n\u001B[0;32m    325\u001B[0m         new_future \u001B[38;5;241m=\u001B[39m asyncio\u001B[38;5;241m.\u001B[39mensure_future(result)\n",
      "File \u001B[1;32m~\\miniconda3\\envs\\pishing_env\\Lib\\site-packages\\llama_index\\core\\base\\embeddings\\base.py:335\u001B[0m, in \u001B[0;36mBaseEmbedding.get_text_embedding_batch\u001B[1;34m(self, texts, show_progress, **kwargs)\u001B[0m\n\u001B[0;32m    326\u001B[0m dispatcher\u001B[38;5;241m.\u001B[39mevent(\n\u001B[0;32m    327\u001B[0m     EmbeddingStartEvent(\n\u001B[0;32m    328\u001B[0m         model_dict\u001B[38;5;241m=\u001B[39mmodel_dict,\n\u001B[0;32m    329\u001B[0m     )\n\u001B[0;32m    330\u001B[0m )\n\u001B[0;32m    331\u001B[0m \u001B[38;5;28;01mwith\u001B[39;00m \u001B[38;5;28mself\u001B[39m\u001B[38;5;241m.\u001B[39mcallback_manager\u001B[38;5;241m.\u001B[39mevent(\n\u001B[0;32m    332\u001B[0m     CBEventType\u001B[38;5;241m.\u001B[39mEMBEDDING,\n\u001B[0;32m    333\u001B[0m     payload\u001B[38;5;241m=\u001B[39m{EventPayload\u001B[38;5;241m.\u001B[39mSERIALIZED: \u001B[38;5;28mself\u001B[39m\u001B[38;5;241m.\u001B[39mto_dict()},\n\u001B[0;32m    334\u001B[0m ) \u001B[38;5;28;01mas\u001B[39;00m event:\n\u001B[1;32m--> 335\u001B[0m     embeddings \u001B[38;5;241m=\u001B[39m \u001B[38;5;28mself\u001B[39m\u001B[38;5;241m.\u001B[39m_get_text_embeddings(cur_batch)\n\u001B[0;32m    336\u001B[0m     result_embeddings\u001B[38;5;241m.\u001B[39mextend(embeddings)\n\u001B[0;32m    337\u001B[0m     event\u001B[38;5;241m.\u001B[39mon_end(\n\u001B[0;32m    338\u001B[0m         payload\u001B[38;5;241m=\u001B[39m{\n\u001B[0;32m    339\u001B[0m             EventPayload\u001B[38;5;241m.\u001B[39mCHUNKS: cur_batch,\n\u001B[0;32m    340\u001B[0m             EventPayload\u001B[38;5;241m.\u001B[39mEMBEDDINGS: embeddings,\n\u001B[0;32m    341\u001B[0m         },\n\u001B[0;32m    342\u001B[0m     )\n",
      "File \u001B[1;32m~\\miniconda3\\envs\\pishing_env\\Lib\\site-packages\\llama_index\\embeddings\\huggingface\\base.py:318\u001B[0m, in \u001B[0;36mHuggingFaceEmbedding._get_text_embeddings\u001B[1;34m(self, texts)\u001B[0m\n\u001B[0;32m    308\u001B[0m \u001B[38;5;28;01mdef\u001B[39;00m \u001B[38;5;21m_get_text_embeddings\u001B[39m(\u001B[38;5;28mself\u001B[39m, texts: List[\u001B[38;5;28mstr\u001B[39m]) \u001B[38;5;241m-\u001B[39m\u001B[38;5;241m>\u001B[39m List[List[\u001B[38;5;28mfloat\u001B[39m]]:\n\u001B[0;32m    309\u001B[0m \u001B[38;5;250m    \u001B[39m\u001B[38;5;124;03m\"\"\"\u001B[39;00m\n\u001B[0;32m    310\u001B[0m \u001B[38;5;124;03m    Generates Embeddings for text.\u001B[39;00m\n\u001B[0;32m    311\u001B[0m \n\u001B[1;32m   (...)\u001B[0m\n\u001B[0;32m    316\u001B[0m \u001B[38;5;124;03m        List[List[float]]: numpy array of embeddings\u001B[39;00m\n\u001B[0;32m    317\u001B[0m \u001B[38;5;124;03m    \"\"\"\u001B[39;00m\n\u001B[1;32m--> 318\u001B[0m     \u001B[38;5;28;01mreturn\u001B[39;00m \u001B[38;5;28mself\u001B[39m\u001B[38;5;241m.\u001B[39m_embed(texts, prompt_name\u001B[38;5;241m=\u001B[39m\u001B[38;5;124m\"\u001B[39m\u001B[38;5;124mtext\u001B[39m\u001B[38;5;124m\"\u001B[39m)\n",
      "File \u001B[1;32m~\\miniconda3\\envs\\pishing_env\\Lib\\site-packages\\llama_index\\embeddings\\huggingface\\base.py:258\u001B[0m, in \u001B[0;36mHuggingFaceEmbedding._embed\u001B[1;34m(self, inputs, prompt_name)\u001B[0m\n\u001B[0;32m    239\u001B[0m \u001B[38;5;28;01mdef\u001B[39;00m \u001B[38;5;21m_embed\u001B[39m(\n\u001B[0;32m    240\u001B[0m     \u001B[38;5;28mself\u001B[39m,\n\u001B[0;32m    241\u001B[0m     inputs: List[Union[\u001B[38;5;28mstr\u001B[39m, BytesIO]],\n\u001B[0;32m    242\u001B[0m     prompt_name: Optional[\u001B[38;5;28mstr\u001B[39m] \u001B[38;5;241m=\u001B[39m \u001B[38;5;28;01mNone\u001B[39;00m,\n\u001B[0;32m    243\u001B[0m ) \u001B[38;5;241m-\u001B[39m\u001B[38;5;241m>\u001B[39m List[List[\u001B[38;5;28mfloat\u001B[39m]]:\n\u001B[0;32m    244\u001B[0m \u001B[38;5;250m    \u001B[39m\u001B[38;5;124;03m\"\"\"\u001B[39;00m\n\u001B[0;32m    245\u001B[0m \u001B[38;5;124;03m    Generates Embeddings with input validation and retry mechanism.\u001B[39;00m\n\u001B[0;32m    246\u001B[0m \n\u001B[1;32m   (...)\u001B[0m\n\u001B[0;32m    256\u001B[0m \u001B[38;5;124;03m        Exception: If embedding fails after retries\u001B[39;00m\n\u001B[0;32m    257\u001B[0m \u001B[38;5;124;03m    \"\"\"\u001B[39;00m\n\u001B[1;32m--> 258\u001B[0m     \u001B[38;5;28;01mreturn\u001B[39;00m \u001B[38;5;28mself\u001B[39m\u001B[38;5;241m.\u001B[39m_embed_with_retry(inputs, prompt_name)\n",
      "File \u001B[1;32m~\\miniconda3\\envs\\pishing_env\\Lib\\site-packages\\tenacity\\__init__.py:336\u001B[0m, in \u001B[0;36mBaseRetrying.wraps.<locals>.wrapped_f\u001B[1;34m(*args, **kw)\u001B[0m\n\u001B[0;32m    334\u001B[0m copy \u001B[38;5;241m=\u001B[39m \u001B[38;5;28mself\u001B[39m\u001B[38;5;241m.\u001B[39mcopy()\n\u001B[0;32m    335\u001B[0m wrapped_f\u001B[38;5;241m.\u001B[39mstatistics \u001B[38;5;241m=\u001B[39m copy\u001B[38;5;241m.\u001B[39mstatistics  \u001B[38;5;66;03m# type: ignore[attr-defined]\u001B[39;00m\n\u001B[1;32m--> 336\u001B[0m \u001B[38;5;28;01mreturn\u001B[39;00m copy(f, \u001B[38;5;241m*\u001B[39margs, \u001B[38;5;241m*\u001B[39m\u001B[38;5;241m*\u001B[39mkw)\n",
      "File \u001B[1;32m~\\miniconda3\\envs\\pishing_env\\Lib\\site-packages\\tenacity\\__init__.py:475\u001B[0m, in \u001B[0;36mRetrying.__call__\u001B[1;34m(self, fn, *args, **kwargs)\u001B[0m\n\u001B[0;32m    473\u001B[0m retry_state \u001B[38;5;241m=\u001B[39m RetryCallState(retry_object\u001B[38;5;241m=\u001B[39m\u001B[38;5;28mself\u001B[39m, fn\u001B[38;5;241m=\u001B[39mfn, args\u001B[38;5;241m=\u001B[39margs, kwargs\u001B[38;5;241m=\u001B[39mkwargs)\n\u001B[0;32m    474\u001B[0m \u001B[38;5;28;01mwhile\u001B[39;00m \u001B[38;5;28;01mTrue\u001B[39;00m:\n\u001B[1;32m--> 475\u001B[0m     do \u001B[38;5;241m=\u001B[39m \u001B[38;5;28mself\u001B[39m\u001B[38;5;241m.\u001B[39miter(retry_state\u001B[38;5;241m=\u001B[39mretry_state)\n\u001B[0;32m    476\u001B[0m     \u001B[38;5;28;01mif\u001B[39;00m \u001B[38;5;28misinstance\u001B[39m(do, DoAttempt):\n\u001B[0;32m    477\u001B[0m         \u001B[38;5;28;01mtry\u001B[39;00m:\n",
      "File \u001B[1;32m~\\miniconda3\\envs\\pishing_env\\Lib\\site-packages\\tenacity\\__init__.py:376\u001B[0m, in \u001B[0;36mBaseRetrying.iter\u001B[1;34m(self, retry_state)\u001B[0m\n\u001B[0;32m    374\u001B[0m result \u001B[38;5;241m=\u001B[39m \u001B[38;5;28;01mNone\u001B[39;00m\n\u001B[0;32m    375\u001B[0m \u001B[38;5;28;01mfor\u001B[39;00m action \u001B[38;5;129;01min\u001B[39;00m \u001B[38;5;28mself\u001B[39m\u001B[38;5;241m.\u001B[39miter_state\u001B[38;5;241m.\u001B[39mactions:\n\u001B[1;32m--> 376\u001B[0m     result \u001B[38;5;241m=\u001B[39m action(retry_state)\n\u001B[0;32m    377\u001B[0m \u001B[38;5;28;01mreturn\u001B[39;00m result\n",
      "File \u001B[1;32m~\\miniconda3\\envs\\pishing_env\\Lib\\site-packages\\tenacity\\__init__.py:398\u001B[0m, in \u001B[0;36mBaseRetrying._post_retry_check_actions.<locals>.<lambda>\u001B[1;34m(rs)\u001B[0m\n\u001B[0;32m    396\u001B[0m \u001B[38;5;28;01mdef\u001B[39;00m \u001B[38;5;21m_post_retry_check_actions\u001B[39m(\u001B[38;5;28mself\u001B[39m, retry_state: \u001B[38;5;124m\"\u001B[39m\u001B[38;5;124mRetryCallState\u001B[39m\u001B[38;5;124m\"\u001B[39m) \u001B[38;5;241m-\u001B[39m\u001B[38;5;241m>\u001B[39m \u001B[38;5;28;01mNone\u001B[39;00m:\n\u001B[0;32m    397\u001B[0m     \u001B[38;5;28;01mif\u001B[39;00m \u001B[38;5;129;01mnot\u001B[39;00m (\u001B[38;5;28mself\u001B[39m\u001B[38;5;241m.\u001B[39miter_state\u001B[38;5;241m.\u001B[39mis_explicit_retry \u001B[38;5;129;01mor\u001B[39;00m \u001B[38;5;28mself\u001B[39m\u001B[38;5;241m.\u001B[39miter_state\u001B[38;5;241m.\u001B[39mretry_run_result):\n\u001B[1;32m--> 398\u001B[0m         \u001B[38;5;28mself\u001B[39m\u001B[38;5;241m.\u001B[39m_add_action_func(\u001B[38;5;28;01mlambda\u001B[39;00m rs: rs\u001B[38;5;241m.\u001B[39moutcome\u001B[38;5;241m.\u001B[39mresult())\n\u001B[0;32m    399\u001B[0m         \u001B[38;5;28;01mreturn\u001B[39;00m\n\u001B[0;32m    401\u001B[0m     \u001B[38;5;28;01mif\u001B[39;00m \u001B[38;5;28mself\u001B[39m\u001B[38;5;241m.\u001B[39mafter \u001B[38;5;129;01mis\u001B[39;00m \u001B[38;5;129;01mnot\u001B[39;00m \u001B[38;5;28;01mNone\u001B[39;00m:\n",
      "File \u001B[1;32m~\\miniconda3\\envs\\pishing_env\\Lib\\concurrent\\futures\\_base.py:449\u001B[0m, in \u001B[0;36mFuture.result\u001B[1;34m(self, timeout)\u001B[0m\n\u001B[0;32m    447\u001B[0m     \u001B[38;5;28;01mraise\u001B[39;00m CancelledError()\n\u001B[0;32m    448\u001B[0m \u001B[38;5;28;01melif\u001B[39;00m \u001B[38;5;28mself\u001B[39m\u001B[38;5;241m.\u001B[39m_state \u001B[38;5;241m==\u001B[39m FINISHED:\n\u001B[1;32m--> 449\u001B[0m     \u001B[38;5;28;01mreturn\u001B[39;00m \u001B[38;5;28mself\u001B[39m\u001B[38;5;241m.\u001B[39m__get_result()\n\u001B[0;32m    451\u001B[0m \u001B[38;5;28mself\u001B[39m\u001B[38;5;241m.\u001B[39m_condition\u001B[38;5;241m.\u001B[39mwait(timeout)\n\u001B[0;32m    453\u001B[0m \u001B[38;5;28;01mif\u001B[39;00m \u001B[38;5;28mself\u001B[39m\u001B[38;5;241m.\u001B[39m_state \u001B[38;5;129;01min\u001B[39;00m [CANCELLED, CANCELLED_AND_NOTIFIED]:\n",
      "File \u001B[1;32m~\\miniconda3\\envs\\pishing_env\\Lib\\concurrent\\futures\\_base.py:401\u001B[0m, in \u001B[0;36mFuture.__get_result\u001B[1;34m(self)\u001B[0m\n\u001B[0;32m    399\u001B[0m \u001B[38;5;28;01mif\u001B[39;00m \u001B[38;5;28mself\u001B[39m\u001B[38;5;241m.\u001B[39m_exception:\n\u001B[0;32m    400\u001B[0m     \u001B[38;5;28;01mtry\u001B[39;00m:\n\u001B[1;32m--> 401\u001B[0m         \u001B[38;5;28;01mraise\u001B[39;00m \u001B[38;5;28mself\u001B[39m\u001B[38;5;241m.\u001B[39m_exception\n\u001B[0;32m    402\u001B[0m     \u001B[38;5;28;01mfinally\u001B[39;00m:\n\u001B[0;32m    403\u001B[0m         \u001B[38;5;66;03m# Break a reference cycle with the exception in self._exception\u001B[39;00m\n\u001B[0;32m    404\u001B[0m         \u001B[38;5;28mself\u001B[39m \u001B[38;5;241m=\u001B[39m \u001B[38;5;28;01mNone\u001B[39;00m\n",
      "File \u001B[1;32m~\\miniconda3\\envs\\pishing_env\\Lib\\site-packages\\tenacity\\__init__.py:478\u001B[0m, in \u001B[0;36mRetrying.__call__\u001B[1;34m(self, fn, *args, **kwargs)\u001B[0m\n\u001B[0;32m    476\u001B[0m \u001B[38;5;28;01mif\u001B[39;00m \u001B[38;5;28misinstance\u001B[39m(do, DoAttempt):\n\u001B[0;32m    477\u001B[0m     \u001B[38;5;28;01mtry\u001B[39;00m:\n\u001B[1;32m--> 478\u001B[0m         result \u001B[38;5;241m=\u001B[39m fn(\u001B[38;5;241m*\u001B[39margs, \u001B[38;5;241m*\u001B[39m\u001B[38;5;241m*\u001B[39mkwargs)\n\u001B[0;32m    479\u001B[0m     \u001B[38;5;28;01mexcept\u001B[39;00m \u001B[38;5;167;01mBaseException\u001B[39;00m:  \u001B[38;5;66;03m# noqa: B902\u001B[39;00m\n\u001B[0;32m    480\u001B[0m         retry_state\u001B[38;5;241m.\u001B[39mset_exception(sys\u001B[38;5;241m.\u001B[39mexc_info())  \u001B[38;5;66;03m# type: ignore[arg-type]\u001B[39;00m\n",
      "File \u001B[1;32m~\\miniconda3\\envs\\pishing_env\\Lib\\site-packages\\llama_index\\embeddings\\huggingface\\base.py:228\u001B[0m, in \u001B[0;36mHuggingFaceEmbedding._embed_with_retry\u001B[1;34m(self, inputs, prompt_name)\u001B[0m\n\u001B[0;32m    226\u001B[0m         \u001B[38;5;28mself\u001B[39m\u001B[38;5;241m.\u001B[39m_model\u001B[38;5;241m.\u001B[39mstop_multi_process_pool(pool\u001B[38;5;241m=\u001B[39mpool)\n\u001B[0;32m    227\u001B[0m     \u001B[38;5;28;01melse\u001B[39;00m:\n\u001B[1;32m--> 228\u001B[0m         emb \u001B[38;5;241m=\u001B[39m \u001B[38;5;28mself\u001B[39m\u001B[38;5;241m.\u001B[39m_model\u001B[38;5;241m.\u001B[39mencode(\n\u001B[0;32m    229\u001B[0m             inputs,\n\u001B[0;32m    230\u001B[0m             batch_size\u001B[38;5;241m=\u001B[39m\u001B[38;5;28mself\u001B[39m\u001B[38;5;241m.\u001B[39membed_batch_size,\n\u001B[0;32m    231\u001B[0m             prompt_name\u001B[38;5;241m=\u001B[39mprompt_name,\n\u001B[0;32m    232\u001B[0m             normalize_embeddings\u001B[38;5;241m=\u001B[39m\u001B[38;5;28mself\u001B[39m\u001B[38;5;241m.\u001B[39mnormalize,\n\u001B[0;32m    233\u001B[0m         )\n\u001B[0;32m    234\u001B[0m     \u001B[38;5;28;01mreturn\u001B[39;00m emb\u001B[38;5;241m.\u001B[39mtolist()\n\u001B[0;32m    235\u001B[0m \u001B[38;5;28;01mexcept\u001B[39;00m \u001B[38;5;167;01mException\u001B[39;00m \u001B[38;5;28;01mas\u001B[39;00m e:\n",
      "File \u001B[1;32m~\\miniconda3\\envs\\pishing_env\\Lib\\site-packages\\sentence_transformers\\SentenceTransformer.py:371\u001B[0m, in \u001B[0;36mSentenceTransformer.encode\u001B[1;34m(self, sentences, prompt_name, prompt, batch_size, show_progress_bar, output_value, precision, convert_to_numpy, convert_to_tensor, device, normalize_embeddings)\u001B[0m\n\u001B[0;32m    368\u001B[0m features\u001B[38;5;241m.\u001B[39mupdate(extra_features)\n\u001B[0;32m    370\u001B[0m \u001B[38;5;28;01mwith\u001B[39;00m torch\u001B[38;5;241m.\u001B[39mno_grad():\n\u001B[1;32m--> 371\u001B[0m     out_features \u001B[38;5;241m=\u001B[39m \u001B[38;5;28mself\u001B[39m\u001B[38;5;241m.\u001B[39mforward(features)\n\u001B[0;32m    372\u001B[0m     out_features[\u001B[38;5;124m\"\u001B[39m\u001B[38;5;124msentence_embedding\u001B[39m\u001B[38;5;124m\"\u001B[39m] \u001B[38;5;241m=\u001B[39m truncate_embeddings(\n\u001B[0;32m    373\u001B[0m         out_features[\u001B[38;5;124m\"\u001B[39m\u001B[38;5;124msentence_embedding\u001B[39m\u001B[38;5;124m\"\u001B[39m], \u001B[38;5;28mself\u001B[39m\u001B[38;5;241m.\u001B[39mtruncate_dim\n\u001B[0;32m    374\u001B[0m     )\n\u001B[0;32m    376\u001B[0m     \u001B[38;5;28;01mif\u001B[39;00m output_value \u001B[38;5;241m==\u001B[39m \u001B[38;5;124m\"\u001B[39m\u001B[38;5;124mtoken_embeddings\u001B[39m\u001B[38;5;124m\"\u001B[39m:\n",
      "File \u001B[1;32m~\\miniconda3\\envs\\pishing_env\\Lib\\site-packages\\torch\\nn\\modules\\container.py:250\u001B[0m, in \u001B[0;36mSequential.forward\u001B[1;34m(self, input)\u001B[0m\n\u001B[0;32m    248\u001B[0m \u001B[38;5;28;01mdef\u001B[39;00m \u001B[38;5;21mforward\u001B[39m(\u001B[38;5;28mself\u001B[39m, \u001B[38;5;28minput\u001B[39m):\n\u001B[0;32m    249\u001B[0m     \u001B[38;5;28;01mfor\u001B[39;00m module \u001B[38;5;129;01min\u001B[39;00m \u001B[38;5;28mself\u001B[39m:\n\u001B[1;32m--> 250\u001B[0m         \u001B[38;5;28minput\u001B[39m \u001B[38;5;241m=\u001B[39m module(\u001B[38;5;28minput\u001B[39m)\n\u001B[0;32m    251\u001B[0m     \u001B[38;5;28;01mreturn\u001B[39;00m \u001B[38;5;28minput\u001B[39m\n",
      "File \u001B[1;32m~\\miniconda3\\envs\\pishing_env\\Lib\\site-packages\\torch\\nn\\modules\\module.py:1739\u001B[0m, in \u001B[0;36mModule._wrapped_call_impl\u001B[1;34m(self, *args, **kwargs)\u001B[0m\n\u001B[0;32m   1737\u001B[0m     \u001B[38;5;28;01mreturn\u001B[39;00m \u001B[38;5;28mself\u001B[39m\u001B[38;5;241m.\u001B[39m_compiled_call_impl(\u001B[38;5;241m*\u001B[39margs, \u001B[38;5;241m*\u001B[39m\u001B[38;5;241m*\u001B[39mkwargs)  \u001B[38;5;66;03m# type: ignore[misc]\u001B[39;00m\n\u001B[0;32m   1738\u001B[0m \u001B[38;5;28;01melse\u001B[39;00m:\n\u001B[1;32m-> 1739\u001B[0m     \u001B[38;5;28;01mreturn\u001B[39;00m \u001B[38;5;28mself\u001B[39m\u001B[38;5;241m.\u001B[39m_call_impl(\u001B[38;5;241m*\u001B[39margs, \u001B[38;5;241m*\u001B[39m\u001B[38;5;241m*\u001B[39mkwargs)\n",
      "File \u001B[1;32m~\\miniconda3\\envs\\pishing_env\\Lib\\site-packages\\torch\\nn\\modules\\module.py:1750\u001B[0m, in \u001B[0;36mModule._call_impl\u001B[1;34m(self, *args, **kwargs)\u001B[0m\n\u001B[0;32m   1745\u001B[0m \u001B[38;5;66;03m# If we don't have any hooks, we want to skip the rest of the logic in\u001B[39;00m\n\u001B[0;32m   1746\u001B[0m \u001B[38;5;66;03m# this function, and just call forward.\u001B[39;00m\n\u001B[0;32m   1747\u001B[0m \u001B[38;5;28;01mif\u001B[39;00m \u001B[38;5;129;01mnot\u001B[39;00m (\u001B[38;5;28mself\u001B[39m\u001B[38;5;241m.\u001B[39m_backward_hooks \u001B[38;5;129;01mor\u001B[39;00m \u001B[38;5;28mself\u001B[39m\u001B[38;5;241m.\u001B[39m_backward_pre_hooks \u001B[38;5;129;01mor\u001B[39;00m \u001B[38;5;28mself\u001B[39m\u001B[38;5;241m.\u001B[39m_forward_hooks \u001B[38;5;129;01mor\u001B[39;00m \u001B[38;5;28mself\u001B[39m\u001B[38;5;241m.\u001B[39m_forward_pre_hooks\n\u001B[0;32m   1748\u001B[0m         \u001B[38;5;129;01mor\u001B[39;00m _global_backward_pre_hooks \u001B[38;5;129;01mor\u001B[39;00m _global_backward_hooks\n\u001B[0;32m   1749\u001B[0m         \u001B[38;5;129;01mor\u001B[39;00m _global_forward_hooks \u001B[38;5;129;01mor\u001B[39;00m _global_forward_pre_hooks):\n\u001B[1;32m-> 1750\u001B[0m     \u001B[38;5;28;01mreturn\u001B[39;00m forward_call(\u001B[38;5;241m*\u001B[39margs, \u001B[38;5;241m*\u001B[39m\u001B[38;5;241m*\u001B[39mkwargs)\n\u001B[0;32m   1752\u001B[0m result \u001B[38;5;241m=\u001B[39m \u001B[38;5;28;01mNone\u001B[39;00m\n\u001B[0;32m   1753\u001B[0m called_always_called_hooks \u001B[38;5;241m=\u001B[39m \u001B[38;5;28mset\u001B[39m()\n",
      "File \u001B[1;32m~\\miniconda3\\envs\\pishing_env\\Lib\\site-packages\\sentence_transformers\\models\\Transformer.py:98\u001B[0m, in \u001B[0;36mTransformer.forward\u001B[1;34m(self, features)\u001B[0m\n\u001B[0;32m     95\u001B[0m \u001B[38;5;28;01mif\u001B[39;00m \u001B[38;5;124m\"\u001B[39m\u001B[38;5;124mtoken_type_ids\u001B[39m\u001B[38;5;124m\"\u001B[39m \u001B[38;5;129;01min\u001B[39;00m features:\n\u001B[0;32m     96\u001B[0m     trans_features[\u001B[38;5;124m\"\u001B[39m\u001B[38;5;124mtoken_type_ids\u001B[39m\u001B[38;5;124m\"\u001B[39m] \u001B[38;5;241m=\u001B[39m features[\u001B[38;5;124m\"\u001B[39m\u001B[38;5;124mtoken_type_ids\u001B[39m\u001B[38;5;124m\"\u001B[39m]\n\u001B[1;32m---> 98\u001B[0m output_states \u001B[38;5;241m=\u001B[39m \u001B[38;5;28mself\u001B[39m\u001B[38;5;241m.\u001B[39mauto_model(\u001B[38;5;241m*\u001B[39m\u001B[38;5;241m*\u001B[39mtrans_features, return_dict\u001B[38;5;241m=\u001B[39m\u001B[38;5;28;01mFalse\u001B[39;00m)\n\u001B[0;32m     99\u001B[0m output_tokens \u001B[38;5;241m=\u001B[39m output_states[\u001B[38;5;241m0\u001B[39m]\n\u001B[0;32m    101\u001B[0m features\u001B[38;5;241m.\u001B[39mupdate({\u001B[38;5;124m\"\u001B[39m\u001B[38;5;124mtoken_embeddings\u001B[39m\u001B[38;5;124m\"\u001B[39m: output_tokens, \u001B[38;5;124m\"\u001B[39m\u001B[38;5;124mattention_mask\u001B[39m\u001B[38;5;124m\"\u001B[39m: features[\u001B[38;5;124m\"\u001B[39m\u001B[38;5;124mattention_mask\u001B[39m\u001B[38;5;124m\"\u001B[39m]})\n",
      "File \u001B[1;32m~\\miniconda3\\envs\\pishing_env\\Lib\\site-packages\\torch\\nn\\modules\\module.py:1739\u001B[0m, in \u001B[0;36mModule._wrapped_call_impl\u001B[1;34m(self, *args, **kwargs)\u001B[0m\n\u001B[0;32m   1737\u001B[0m     \u001B[38;5;28;01mreturn\u001B[39;00m \u001B[38;5;28mself\u001B[39m\u001B[38;5;241m.\u001B[39m_compiled_call_impl(\u001B[38;5;241m*\u001B[39margs, \u001B[38;5;241m*\u001B[39m\u001B[38;5;241m*\u001B[39mkwargs)  \u001B[38;5;66;03m# type: ignore[misc]\u001B[39;00m\n\u001B[0;32m   1738\u001B[0m \u001B[38;5;28;01melse\u001B[39;00m:\n\u001B[1;32m-> 1739\u001B[0m     \u001B[38;5;28;01mreturn\u001B[39;00m \u001B[38;5;28mself\u001B[39m\u001B[38;5;241m.\u001B[39m_call_impl(\u001B[38;5;241m*\u001B[39margs, \u001B[38;5;241m*\u001B[39m\u001B[38;5;241m*\u001B[39mkwargs)\n",
      "File \u001B[1;32m~\\miniconda3\\envs\\pishing_env\\Lib\\site-packages\\torch\\nn\\modules\\module.py:1750\u001B[0m, in \u001B[0;36mModule._call_impl\u001B[1;34m(self, *args, **kwargs)\u001B[0m\n\u001B[0;32m   1745\u001B[0m \u001B[38;5;66;03m# If we don't have any hooks, we want to skip the rest of the logic in\u001B[39;00m\n\u001B[0;32m   1746\u001B[0m \u001B[38;5;66;03m# this function, and just call forward.\u001B[39;00m\n\u001B[0;32m   1747\u001B[0m \u001B[38;5;28;01mif\u001B[39;00m \u001B[38;5;129;01mnot\u001B[39;00m (\u001B[38;5;28mself\u001B[39m\u001B[38;5;241m.\u001B[39m_backward_hooks \u001B[38;5;129;01mor\u001B[39;00m \u001B[38;5;28mself\u001B[39m\u001B[38;5;241m.\u001B[39m_backward_pre_hooks \u001B[38;5;129;01mor\u001B[39;00m \u001B[38;5;28mself\u001B[39m\u001B[38;5;241m.\u001B[39m_forward_hooks \u001B[38;5;129;01mor\u001B[39;00m \u001B[38;5;28mself\u001B[39m\u001B[38;5;241m.\u001B[39m_forward_pre_hooks\n\u001B[0;32m   1748\u001B[0m         \u001B[38;5;129;01mor\u001B[39;00m _global_backward_pre_hooks \u001B[38;5;129;01mor\u001B[39;00m _global_backward_hooks\n\u001B[0;32m   1749\u001B[0m         \u001B[38;5;129;01mor\u001B[39;00m _global_forward_hooks \u001B[38;5;129;01mor\u001B[39;00m _global_forward_pre_hooks):\n\u001B[1;32m-> 1750\u001B[0m     \u001B[38;5;28;01mreturn\u001B[39;00m forward_call(\u001B[38;5;241m*\u001B[39margs, \u001B[38;5;241m*\u001B[39m\u001B[38;5;241m*\u001B[39mkwargs)\n\u001B[0;32m   1752\u001B[0m result \u001B[38;5;241m=\u001B[39m \u001B[38;5;28;01mNone\u001B[39;00m\n\u001B[0;32m   1753\u001B[0m called_always_called_hooks \u001B[38;5;241m=\u001B[39m \u001B[38;5;28mset\u001B[39m()\n",
      "File \u001B[1;32m~\\miniconda3\\envs\\pishing_env\\Lib\\site-packages\\transformers\\models\\bert\\modeling_bert.py:1142\u001B[0m, in \u001B[0;36mBertModel.forward\u001B[1;34m(self, input_ids, attention_mask, token_type_ids, position_ids, head_mask, inputs_embeds, encoder_hidden_states, encoder_attention_mask, past_key_values, use_cache, output_attentions, output_hidden_states, return_dict)\u001B[0m\n\u001B[0;32m   1135\u001B[0m \u001B[38;5;66;03m# Prepare head mask if needed\u001B[39;00m\n\u001B[0;32m   1136\u001B[0m \u001B[38;5;66;03m# 1.0 in head_mask indicate we keep the head\u001B[39;00m\n\u001B[0;32m   1137\u001B[0m \u001B[38;5;66;03m# attention_probs has shape bsz x n_heads x N x N\u001B[39;00m\n\u001B[0;32m   1138\u001B[0m \u001B[38;5;66;03m# input head_mask has shape [num_heads] or [num_hidden_layers x num_heads]\u001B[39;00m\n\u001B[0;32m   1139\u001B[0m \u001B[38;5;66;03m# and head_mask is converted to shape [num_hidden_layers x batch x num_heads x seq_length x seq_length]\u001B[39;00m\n\u001B[0;32m   1140\u001B[0m head_mask \u001B[38;5;241m=\u001B[39m \u001B[38;5;28mself\u001B[39m\u001B[38;5;241m.\u001B[39mget_head_mask(head_mask, \u001B[38;5;28mself\u001B[39m\u001B[38;5;241m.\u001B[39mconfig\u001B[38;5;241m.\u001B[39mnum_hidden_layers)\n\u001B[1;32m-> 1142\u001B[0m encoder_outputs \u001B[38;5;241m=\u001B[39m \u001B[38;5;28mself\u001B[39m\u001B[38;5;241m.\u001B[39mencoder(\n\u001B[0;32m   1143\u001B[0m     embedding_output,\n\u001B[0;32m   1144\u001B[0m     attention_mask\u001B[38;5;241m=\u001B[39mextended_attention_mask,\n\u001B[0;32m   1145\u001B[0m     head_mask\u001B[38;5;241m=\u001B[39mhead_mask,\n\u001B[0;32m   1146\u001B[0m     encoder_hidden_states\u001B[38;5;241m=\u001B[39mencoder_hidden_states,\n\u001B[0;32m   1147\u001B[0m     encoder_attention_mask\u001B[38;5;241m=\u001B[39mencoder_extended_attention_mask,\n\u001B[0;32m   1148\u001B[0m     past_key_values\u001B[38;5;241m=\u001B[39mpast_key_values,\n\u001B[0;32m   1149\u001B[0m     use_cache\u001B[38;5;241m=\u001B[39muse_cache,\n\u001B[0;32m   1150\u001B[0m     output_attentions\u001B[38;5;241m=\u001B[39moutput_attentions,\n\u001B[0;32m   1151\u001B[0m     output_hidden_states\u001B[38;5;241m=\u001B[39moutput_hidden_states,\n\u001B[0;32m   1152\u001B[0m     return_dict\u001B[38;5;241m=\u001B[39mreturn_dict,\n\u001B[0;32m   1153\u001B[0m )\n\u001B[0;32m   1154\u001B[0m sequence_output \u001B[38;5;241m=\u001B[39m encoder_outputs[\u001B[38;5;241m0\u001B[39m]\n\u001B[0;32m   1155\u001B[0m pooled_output \u001B[38;5;241m=\u001B[39m \u001B[38;5;28mself\u001B[39m\u001B[38;5;241m.\u001B[39mpooler(sequence_output) \u001B[38;5;28;01mif\u001B[39;00m \u001B[38;5;28mself\u001B[39m\u001B[38;5;241m.\u001B[39mpooler \u001B[38;5;129;01mis\u001B[39;00m \u001B[38;5;129;01mnot\u001B[39;00m \u001B[38;5;28;01mNone\u001B[39;00m \u001B[38;5;28;01melse\u001B[39;00m \u001B[38;5;28;01mNone\u001B[39;00m\n",
      "File \u001B[1;32m~\\miniconda3\\envs\\pishing_env\\Lib\\site-packages\\torch\\nn\\modules\\module.py:1739\u001B[0m, in \u001B[0;36mModule._wrapped_call_impl\u001B[1;34m(self, *args, **kwargs)\u001B[0m\n\u001B[0;32m   1737\u001B[0m     \u001B[38;5;28;01mreturn\u001B[39;00m \u001B[38;5;28mself\u001B[39m\u001B[38;5;241m.\u001B[39m_compiled_call_impl(\u001B[38;5;241m*\u001B[39margs, \u001B[38;5;241m*\u001B[39m\u001B[38;5;241m*\u001B[39mkwargs)  \u001B[38;5;66;03m# type: ignore[misc]\u001B[39;00m\n\u001B[0;32m   1738\u001B[0m \u001B[38;5;28;01melse\u001B[39;00m:\n\u001B[1;32m-> 1739\u001B[0m     \u001B[38;5;28;01mreturn\u001B[39;00m \u001B[38;5;28mself\u001B[39m\u001B[38;5;241m.\u001B[39m_call_impl(\u001B[38;5;241m*\u001B[39margs, \u001B[38;5;241m*\u001B[39m\u001B[38;5;241m*\u001B[39mkwargs)\n",
      "File \u001B[1;32m~\\miniconda3\\envs\\pishing_env\\Lib\\site-packages\\torch\\nn\\modules\\module.py:1750\u001B[0m, in \u001B[0;36mModule._call_impl\u001B[1;34m(self, *args, **kwargs)\u001B[0m\n\u001B[0;32m   1745\u001B[0m \u001B[38;5;66;03m# If we don't have any hooks, we want to skip the rest of the logic in\u001B[39;00m\n\u001B[0;32m   1746\u001B[0m \u001B[38;5;66;03m# this function, and just call forward.\u001B[39;00m\n\u001B[0;32m   1747\u001B[0m \u001B[38;5;28;01mif\u001B[39;00m \u001B[38;5;129;01mnot\u001B[39;00m (\u001B[38;5;28mself\u001B[39m\u001B[38;5;241m.\u001B[39m_backward_hooks \u001B[38;5;129;01mor\u001B[39;00m \u001B[38;5;28mself\u001B[39m\u001B[38;5;241m.\u001B[39m_backward_pre_hooks \u001B[38;5;129;01mor\u001B[39;00m \u001B[38;5;28mself\u001B[39m\u001B[38;5;241m.\u001B[39m_forward_hooks \u001B[38;5;129;01mor\u001B[39;00m \u001B[38;5;28mself\u001B[39m\u001B[38;5;241m.\u001B[39m_forward_pre_hooks\n\u001B[0;32m   1748\u001B[0m         \u001B[38;5;129;01mor\u001B[39;00m _global_backward_pre_hooks \u001B[38;5;129;01mor\u001B[39;00m _global_backward_hooks\n\u001B[0;32m   1749\u001B[0m         \u001B[38;5;129;01mor\u001B[39;00m _global_forward_hooks \u001B[38;5;129;01mor\u001B[39;00m _global_forward_pre_hooks):\n\u001B[1;32m-> 1750\u001B[0m     \u001B[38;5;28;01mreturn\u001B[39;00m forward_call(\u001B[38;5;241m*\u001B[39margs, \u001B[38;5;241m*\u001B[39m\u001B[38;5;241m*\u001B[39mkwargs)\n\u001B[0;32m   1752\u001B[0m result \u001B[38;5;241m=\u001B[39m \u001B[38;5;28;01mNone\u001B[39;00m\n\u001B[0;32m   1753\u001B[0m called_always_called_hooks \u001B[38;5;241m=\u001B[39m \u001B[38;5;28mset\u001B[39m()\n",
      "File \u001B[1;32m~\\miniconda3\\envs\\pishing_env\\Lib\\site-packages\\transformers\\models\\bert\\modeling_bert.py:695\u001B[0m, in \u001B[0;36mBertEncoder.forward\u001B[1;34m(self, hidden_states, attention_mask, head_mask, encoder_hidden_states, encoder_attention_mask, past_key_values, use_cache, output_attentions, output_hidden_states, return_dict)\u001B[0m\n\u001B[0;32m    684\u001B[0m     layer_outputs \u001B[38;5;241m=\u001B[39m \u001B[38;5;28mself\u001B[39m\u001B[38;5;241m.\u001B[39m_gradient_checkpointing_func(\n\u001B[0;32m    685\u001B[0m         layer_module\u001B[38;5;241m.\u001B[39m\u001B[38;5;21m__call__\u001B[39m,\n\u001B[0;32m    686\u001B[0m         hidden_states,\n\u001B[1;32m   (...)\u001B[0m\n\u001B[0;32m    692\u001B[0m         output_attentions,\n\u001B[0;32m    693\u001B[0m     )\n\u001B[0;32m    694\u001B[0m \u001B[38;5;28;01melse\u001B[39;00m:\n\u001B[1;32m--> 695\u001B[0m     layer_outputs \u001B[38;5;241m=\u001B[39m layer_module(\n\u001B[0;32m    696\u001B[0m         hidden_states,\n\u001B[0;32m    697\u001B[0m         attention_mask,\n\u001B[0;32m    698\u001B[0m         layer_head_mask,\n\u001B[0;32m    699\u001B[0m         encoder_hidden_states,\n\u001B[0;32m    700\u001B[0m         encoder_attention_mask,\n\u001B[0;32m    701\u001B[0m         past_key_value,\n\u001B[0;32m    702\u001B[0m         output_attentions,\n\u001B[0;32m    703\u001B[0m     )\n\u001B[0;32m    705\u001B[0m hidden_states \u001B[38;5;241m=\u001B[39m layer_outputs[\u001B[38;5;241m0\u001B[39m]\n\u001B[0;32m    706\u001B[0m \u001B[38;5;28;01mif\u001B[39;00m use_cache:\n",
      "File \u001B[1;32m~\\miniconda3\\envs\\pishing_env\\Lib\\site-packages\\torch\\nn\\modules\\module.py:1739\u001B[0m, in \u001B[0;36mModule._wrapped_call_impl\u001B[1;34m(self, *args, **kwargs)\u001B[0m\n\u001B[0;32m   1737\u001B[0m     \u001B[38;5;28;01mreturn\u001B[39;00m \u001B[38;5;28mself\u001B[39m\u001B[38;5;241m.\u001B[39m_compiled_call_impl(\u001B[38;5;241m*\u001B[39margs, \u001B[38;5;241m*\u001B[39m\u001B[38;5;241m*\u001B[39mkwargs)  \u001B[38;5;66;03m# type: ignore[misc]\u001B[39;00m\n\u001B[0;32m   1738\u001B[0m \u001B[38;5;28;01melse\u001B[39;00m:\n\u001B[1;32m-> 1739\u001B[0m     \u001B[38;5;28;01mreturn\u001B[39;00m \u001B[38;5;28mself\u001B[39m\u001B[38;5;241m.\u001B[39m_call_impl(\u001B[38;5;241m*\u001B[39margs, \u001B[38;5;241m*\u001B[39m\u001B[38;5;241m*\u001B[39mkwargs)\n",
      "File \u001B[1;32m~\\miniconda3\\envs\\pishing_env\\Lib\\site-packages\\torch\\nn\\modules\\module.py:1750\u001B[0m, in \u001B[0;36mModule._call_impl\u001B[1;34m(self, *args, **kwargs)\u001B[0m\n\u001B[0;32m   1745\u001B[0m \u001B[38;5;66;03m# If we don't have any hooks, we want to skip the rest of the logic in\u001B[39;00m\n\u001B[0;32m   1746\u001B[0m \u001B[38;5;66;03m# this function, and just call forward.\u001B[39;00m\n\u001B[0;32m   1747\u001B[0m \u001B[38;5;28;01mif\u001B[39;00m \u001B[38;5;129;01mnot\u001B[39;00m (\u001B[38;5;28mself\u001B[39m\u001B[38;5;241m.\u001B[39m_backward_hooks \u001B[38;5;129;01mor\u001B[39;00m \u001B[38;5;28mself\u001B[39m\u001B[38;5;241m.\u001B[39m_backward_pre_hooks \u001B[38;5;129;01mor\u001B[39;00m \u001B[38;5;28mself\u001B[39m\u001B[38;5;241m.\u001B[39m_forward_hooks \u001B[38;5;129;01mor\u001B[39;00m \u001B[38;5;28mself\u001B[39m\u001B[38;5;241m.\u001B[39m_forward_pre_hooks\n\u001B[0;32m   1748\u001B[0m         \u001B[38;5;129;01mor\u001B[39;00m _global_backward_pre_hooks \u001B[38;5;129;01mor\u001B[39;00m _global_backward_hooks\n\u001B[0;32m   1749\u001B[0m         \u001B[38;5;129;01mor\u001B[39;00m _global_forward_hooks \u001B[38;5;129;01mor\u001B[39;00m _global_forward_pre_hooks):\n\u001B[1;32m-> 1750\u001B[0m     \u001B[38;5;28;01mreturn\u001B[39;00m forward_call(\u001B[38;5;241m*\u001B[39margs, \u001B[38;5;241m*\u001B[39m\u001B[38;5;241m*\u001B[39mkwargs)\n\u001B[0;32m   1752\u001B[0m result \u001B[38;5;241m=\u001B[39m \u001B[38;5;28;01mNone\u001B[39;00m\n\u001B[0;32m   1753\u001B[0m called_always_called_hooks \u001B[38;5;241m=\u001B[39m \u001B[38;5;28mset\u001B[39m()\n",
      "File \u001B[1;32m~\\miniconda3\\envs\\pishing_env\\Lib\\site-packages\\transformers\\models\\bert\\modeling_bert.py:585\u001B[0m, in \u001B[0;36mBertLayer.forward\u001B[1;34m(self, hidden_states, attention_mask, head_mask, encoder_hidden_states, encoder_attention_mask, past_key_value, output_attentions)\u001B[0m\n\u001B[0;32m    573\u001B[0m \u001B[38;5;28;01mdef\u001B[39;00m \u001B[38;5;21mforward\u001B[39m(\n\u001B[0;32m    574\u001B[0m     \u001B[38;5;28mself\u001B[39m,\n\u001B[0;32m    575\u001B[0m     hidden_states: torch\u001B[38;5;241m.\u001B[39mTensor,\n\u001B[1;32m   (...)\u001B[0m\n\u001B[0;32m    582\u001B[0m ) \u001B[38;5;241m-\u001B[39m\u001B[38;5;241m>\u001B[39m Tuple[torch\u001B[38;5;241m.\u001B[39mTensor]:\n\u001B[0;32m    583\u001B[0m     \u001B[38;5;66;03m# decoder uni-directional self-attention cached key/values tuple is at positions 1,2\u001B[39;00m\n\u001B[0;32m    584\u001B[0m     self_attn_past_key_value \u001B[38;5;241m=\u001B[39m past_key_value[:\u001B[38;5;241m2\u001B[39m] \u001B[38;5;28;01mif\u001B[39;00m past_key_value \u001B[38;5;129;01mis\u001B[39;00m \u001B[38;5;129;01mnot\u001B[39;00m \u001B[38;5;28;01mNone\u001B[39;00m \u001B[38;5;28;01melse\u001B[39;00m \u001B[38;5;28;01mNone\u001B[39;00m\n\u001B[1;32m--> 585\u001B[0m     self_attention_outputs \u001B[38;5;241m=\u001B[39m \u001B[38;5;28mself\u001B[39m\u001B[38;5;241m.\u001B[39mattention(\n\u001B[0;32m    586\u001B[0m         hidden_states,\n\u001B[0;32m    587\u001B[0m         attention_mask,\n\u001B[0;32m    588\u001B[0m         head_mask,\n\u001B[0;32m    589\u001B[0m         output_attentions\u001B[38;5;241m=\u001B[39moutput_attentions,\n\u001B[0;32m    590\u001B[0m         past_key_value\u001B[38;5;241m=\u001B[39mself_attn_past_key_value,\n\u001B[0;32m    591\u001B[0m     )\n\u001B[0;32m    592\u001B[0m     attention_output \u001B[38;5;241m=\u001B[39m self_attention_outputs[\u001B[38;5;241m0\u001B[39m]\n\u001B[0;32m    594\u001B[0m     \u001B[38;5;66;03m# if decoder, the last output is tuple of self-attn cache\u001B[39;00m\n",
      "File \u001B[1;32m~\\miniconda3\\envs\\pishing_env\\Lib\\site-packages\\torch\\nn\\modules\\module.py:1739\u001B[0m, in \u001B[0;36mModule._wrapped_call_impl\u001B[1;34m(self, *args, **kwargs)\u001B[0m\n\u001B[0;32m   1737\u001B[0m     \u001B[38;5;28;01mreturn\u001B[39;00m \u001B[38;5;28mself\u001B[39m\u001B[38;5;241m.\u001B[39m_compiled_call_impl(\u001B[38;5;241m*\u001B[39margs, \u001B[38;5;241m*\u001B[39m\u001B[38;5;241m*\u001B[39mkwargs)  \u001B[38;5;66;03m# type: ignore[misc]\u001B[39;00m\n\u001B[0;32m   1738\u001B[0m \u001B[38;5;28;01melse\u001B[39;00m:\n\u001B[1;32m-> 1739\u001B[0m     \u001B[38;5;28;01mreturn\u001B[39;00m \u001B[38;5;28mself\u001B[39m\u001B[38;5;241m.\u001B[39m_call_impl(\u001B[38;5;241m*\u001B[39margs, \u001B[38;5;241m*\u001B[39m\u001B[38;5;241m*\u001B[39mkwargs)\n",
      "File \u001B[1;32m~\\miniconda3\\envs\\pishing_env\\Lib\\site-packages\\torch\\nn\\modules\\module.py:1750\u001B[0m, in \u001B[0;36mModule._call_impl\u001B[1;34m(self, *args, **kwargs)\u001B[0m\n\u001B[0;32m   1745\u001B[0m \u001B[38;5;66;03m# If we don't have any hooks, we want to skip the rest of the logic in\u001B[39;00m\n\u001B[0;32m   1746\u001B[0m \u001B[38;5;66;03m# this function, and just call forward.\u001B[39;00m\n\u001B[0;32m   1747\u001B[0m \u001B[38;5;28;01mif\u001B[39;00m \u001B[38;5;129;01mnot\u001B[39;00m (\u001B[38;5;28mself\u001B[39m\u001B[38;5;241m.\u001B[39m_backward_hooks \u001B[38;5;129;01mor\u001B[39;00m \u001B[38;5;28mself\u001B[39m\u001B[38;5;241m.\u001B[39m_backward_pre_hooks \u001B[38;5;129;01mor\u001B[39;00m \u001B[38;5;28mself\u001B[39m\u001B[38;5;241m.\u001B[39m_forward_hooks \u001B[38;5;129;01mor\u001B[39;00m \u001B[38;5;28mself\u001B[39m\u001B[38;5;241m.\u001B[39m_forward_pre_hooks\n\u001B[0;32m   1748\u001B[0m         \u001B[38;5;129;01mor\u001B[39;00m _global_backward_pre_hooks \u001B[38;5;129;01mor\u001B[39;00m _global_backward_hooks\n\u001B[0;32m   1749\u001B[0m         \u001B[38;5;129;01mor\u001B[39;00m _global_forward_hooks \u001B[38;5;129;01mor\u001B[39;00m _global_forward_pre_hooks):\n\u001B[1;32m-> 1750\u001B[0m     \u001B[38;5;28;01mreturn\u001B[39;00m forward_call(\u001B[38;5;241m*\u001B[39margs, \u001B[38;5;241m*\u001B[39m\u001B[38;5;241m*\u001B[39mkwargs)\n\u001B[0;32m   1752\u001B[0m result \u001B[38;5;241m=\u001B[39m \u001B[38;5;28;01mNone\u001B[39;00m\n\u001B[0;32m   1753\u001B[0m called_always_called_hooks \u001B[38;5;241m=\u001B[39m \u001B[38;5;28mset\u001B[39m()\n",
      "File \u001B[1;32m~\\miniconda3\\envs\\pishing_env\\Lib\\site-packages\\transformers\\models\\bert\\modeling_bert.py:515\u001B[0m, in \u001B[0;36mBertAttention.forward\u001B[1;34m(self, hidden_states, attention_mask, head_mask, encoder_hidden_states, encoder_attention_mask, past_key_value, output_attentions)\u001B[0m\n\u001B[0;32m    505\u001B[0m \u001B[38;5;28;01mdef\u001B[39;00m \u001B[38;5;21mforward\u001B[39m(\n\u001B[0;32m    506\u001B[0m     \u001B[38;5;28mself\u001B[39m,\n\u001B[0;32m    507\u001B[0m     hidden_states: torch\u001B[38;5;241m.\u001B[39mTensor,\n\u001B[1;32m   (...)\u001B[0m\n\u001B[0;32m    513\u001B[0m     output_attentions: Optional[\u001B[38;5;28mbool\u001B[39m] \u001B[38;5;241m=\u001B[39m \u001B[38;5;28;01mFalse\u001B[39;00m,\n\u001B[0;32m    514\u001B[0m ) \u001B[38;5;241m-\u001B[39m\u001B[38;5;241m>\u001B[39m Tuple[torch\u001B[38;5;241m.\u001B[39mTensor]:\n\u001B[1;32m--> 515\u001B[0m     self_outputs \u001B[38;5;241m=\u001B[39m \u001B[38;5;28mself\u001B[39m\u001B[38;5;241m.\u001B[39mself(\n\u001B[0;32m    516\u001B[0m         hidden_states,\n\u001B[0;32m    517\u001B[0m         attention_mask,\n\u001B[0;32m    518\u001B[0m         head_mask,\n\u001B[0;32m    519\u001B[0m         encoder_hidden_states,\n\u001B[0;32m    520\u001B[0m         encoder_attention_mask,\n\u001B[0;32m    521\u001B[0m         past_key_value,\n\u001B[0;32m    522\u001B[0m         output_attentions,\n\u001B[0;32m    523\u001B[0m     )\n\u001B[0;32m    524\u001B[0m     attention_output \u001B[38;5;241m=\u001B[39m \u001B[38;5;28mself\u001B[39m\u001B[38;5;241m.\u001B[39moutput(self_outputs[\u001B[38;5;241m0\u001B[39m], hidden_states)\n\u001B[0;32m    525\u001B[0m     outputs \u001B[38;5;241m=\u001B[39m (attention_output,) \u001B[38;5;241m+\u001B[39m self_outputs[\u001B[38;5;241m1\u001B[39m:]  \u001B[38;5;66;03m# add attentions if we output them\u001B[39;00m\n",
      "File \u001B[1;32m~\\miniconda3\\envs\\pishing_env\\Lib\\site-packages\\torch\\nn\\modules\\module.py:1739\u001B[0m, in \u001B[0;36mModule._wrapped_call_impl\u001B[1;34m(self, *args, **kwargs)\u001B[0m\n\u001B[0;32m   1737\u001B[0m     \u001B[38;5;28;01mreturn\u001B[39;00m \u001B[38;5;28mself\u001B[39m\u001B[38;5;241m.\u001B[39m_compiled_call_impl(\u001B[38;5;241m*\u001B[39margs, \u001B[38;5;241m*\u001B[39m\u001B[38;5;241m*\u001B[39mkwargs)  \u001B[38;5;66;03m# type: ignore[misc]\u001B[39;00m\n\u001B[0;32m   1738\u001B[0m \u001B[38;5;28;01melse\u001B[39;00m:\n\u001B[1;32m-> 1739\u001B[0m     \u001B[38;5;28;01mreturn\u001B[39;00m \u001B[38;5;28mself\u001B[39m\u001B[38;5;241m.\u001B[39m_call_impl(\u001B[38;5;241m*\u001B[39margs, \u001B[38;5;241m*\u001B[39m\u001B[38;5;241m*\u001B[39mkwargs)\n",
      "File \u001B[1;32m~\\miniconda3\\envs\\pishing_env\\Lib\\site-packages\\torch\\nn\\modules\\module.py:1750\u001B[0m, in \u001B[0;36mModule._call_impl\u001B[1;34m(self, *args, **kwargs)\u001B[0m\n\u001B[0;32m   1745\u001B[0m \u001B[38;5;66;03m# If we don't have any hooks, we want to skip the rest of the logic in\u001B[39;00m\n\u001B[0;32m   1746\u001B[0m \u001B[38;5;66;03m# this function, and just call forward.\u001B[39;00m\n\u001B[0;32m   1747\u001B[0m \u001B[38;5;28;01mif\u001B[39;00m \u001B[38;5;129;01mnot\u001B[39;00m (\u001B[38;5;28mself\u001B[39m\u001B[38;5;241m.\u001B[39m_backward_hooks \u001B[38;5;129;01mor\u001B[39;00m \u001B[38;5;28mself\u001B[39m\u001B[38;5;241m.\u001B[39m_backward_pre_hooks \u001B[38;5;129;01mor\u001B[39;00m \u001B[38;5;28mself\u001B[39m\u001B[38;5;241m.\u001B[39m_forward_hooks \u001B[38;5;129;01mor\u001B[39;00m \u001B[38;5;28mself\u001B[39m\u001B[38;5;241m.\u001B[39m_forward_pre_hooks\n\u001B[0;32m   1748\u001B[0m         \u001B[38;5;129;01mor\u001B[39;00m _global_backward_pre_hooks \u001B[38;5;129;01mor\u001B[39;00m _global_backward_hooks\n\u001B[0;32m   1749\u001B[0m         \u001B[38;5;129;01mor\u001B[39;00m _global_forward_hooks \u001B[38;5;129;01mor\u001B[39;00m _global_forward_pre_hooks):\n\u001B[1;32m-> 1750\u001B[0m     \u001B[38;5;28;01mreturn\u001B[39;00m forward_call(\u001B[38;5;241m*\u001B[39margs, \u001B[38;5;241m*\u001B[39m\u001B[38;5;241m*\u001B[39mkwargs)\n\u001B[0;32m   1752\u001B[0m result \u001B[38;5;241m=\u001B[39m \u001B[38;5;28;01mNone\u001B[39;00m\n\u001B[0;32m   1753\u001B[0m called_always_called_hooks \u001B[38;5;241m=\u001B[39m \u001B[38;5;28mset\u001B[39m()\n",
      "File \u001B[1;32m~\\miniconda3\\envs\\pishing_env\\Lib\\site-packages\\transformers\\models\\bert\\modeling_bert.py:440\u001B[0m, in \u001B[0;36mBertSdpaSelfAttention.forward\u001B[1;34m(self, hidden_states, attention_mask, head_mask, encoder_hidden_states, encoder_attention_mask, past_key_value, output_attentions)\u001B[0m\n\u001B[0;32m    432\u001B[0m \u001B[38;5;66;03m# We dispatch to SDPA's Flash Attention or Efficient kernels via this `is_causal` if statement instead of an inline conditional assignment\u001B[39;00m\n\u001B[0;32m    433\u001B[0m \u001B[38;5;66;03m# in SDPA to support both torch.compile's dynamic shapes and full graph options. An inline conditional prevents dynamic shapes from compiling.\u001B[39;00m\n\u001B[0;32m    434\u001B[0m \u001B[38;5;66;03m# The tgt_len > 1 is necessary to match with AttentionMaskConverter.to_causal_4d that does not create\u001B[39;00m\n\u001B[0;32m    435\u001B[0m \u001B[38;5;66;03m# a causal mask in case tgt_len == 1.\u001B[39;00m\n\u001B[0;32m    436\u001B[0m is_causal \u001B[38;5;241m=\u001B[39m (\n\u001B[0;32m    437\u001B[0m     \u001B[38;5;28;01mTrue\u001B[39;00m \u001B[38;5;28;01mif\u001B[39;00m \u001B[38;5;28mself\u001B[39m\u001B[38;5;241m.\u001B[39mis_decoder \u001B[38;5;129;01mand\u001B[39;00m \u001B[38;5;129;01mnot\u001B[39;00m is_cross_attention \u001B[38;5;129;01mand\u001B[39;00m attention_mask \u001B[38;5;129;01mis\u001B[39;00m \u001B[38;5;28;01mNone\u001B[39;00m \u001B[38;5;129;01mand\u001B[39;00m tgt_len \u001B[38;5;241m>\u001B[39m \u001B[38;5;241m1\u001B[39m \u001B[38;5;28;01melse\u001B[39;00m \u001B[38;5;28;01mFalse\u001B[39;00m\n\u001B[0;32m    438\u001B[0m )\n\u001B[1;32m--> 440\u001B[0m attn_output \u001B[38;5;241m=\u001B[39m torch\u001B[38;5;241m.\u001B[39mnn\u001B[38;5;241m.\u001B[39mfunctional\u001B[38;5;241m.\u001B[39mscaled_dot_product_attention(\n\u001B[0;32m    441\u001B[0m     query_layer,\n\u001B[0;32m    442\u001B[0m     key_layer,\n\u001B[0;32m    443\u001B[0m     value_layer,\n\u001B[0;32m    444\u001B[0m     attn_mask\u001B[38;5;241m=\u001B[39mattention_mask,\n\u001B[0;32m    445\u001B[0m     dropout_p\u001B[38;5;241m=\u001B[39m\u001B[38;5;28mself\u001B[39m\u001B[38;5;241m.\u001B[39mdropout_prob \u001B[38;5;28;01mif\u001B[39;00m \u001B[38;5;28mself\u001B[39m\u001B[38;5;241m.\u001B[39mtraining \u001B[38;5;28;01melse\u001B[39;00m \u001B[38;5;241m0.0\u001B[39m,\n\u001B[0;32m    446\u001B[0m     is_causal\u001B[38;5;241m=\u001B[39mis_causal,\n\u001B[0;32m    447\u001B[0m )\n\u001B[0;32m    449\u001B[0m attn_output \u001B[38;5;241m=\u001B[39m attn_output\u001B[38;5;241m.\u001B[39mtranspose(\u001B[38;5;241m1\u001B[39m, \u001B[38;5;241m2\u001B[39m)\n\u001B[0;32m    450\u001B[0m attn_output \u001B[38;5;241m=\u001B[39m attn_output\u001B[38;5;241m.\u001B[39mreshape(bsz, tgt_len, \u001B[38;5;28mself\u001B[39m\u001B[38;5;241m.\u001B[39mall_head_size)\n",
      "\u001B[1;31mKeyboardInterrupt\u001B[0m: "
     ]
    }
   ],
   "execution_count": 9
  },
  {
   "metadata": {
    "ExecuteTime": {
     "end_time": "2025-04-26T10:01:39.796544Z",
     "start_time": "2025-04-26T10:01:35.951249Z"
    }
   },
   "cell_type": "code",
   "source": [
    "index_spam.storage_context.persist(persist_dir=Path(\"../..\") / config.INDEX_SPAM_PATH)\n",
    "index_ham.storage_context.persist(persist_dir=Path(\"../..\") / config.INDEX_HAM_PATH)"
   ],
   "id": "e78280bfb00a6f71",
   "outputs": [],
   "execution_count": 13
  }
 ],
 "metadata": {
  "kernelspec": {
   "display_name": "Python 3",
   "language": "python",
   "name": "python3"
  },
  "language_info": {
   "codemirror_mode": {
    "name": "ipython",
    "version": 2
   },
   "file_extension": ".py",
   "mimetype": "text/x-python",
   "name": "python",
   "nbconvert_exporter": "python",
   "pygments_lexer": "ipython2",
   "version": "2.7.6"
  }
 },
 "nbformat": 4,
 "nbformat_minor": 5
}
