{
 "cells": [
  {
   "cell_type": "code",
   "id": "initial_id",
   "metadata": {
    "collapsed": true,
    "ExecuteTime": {
     "end_time": "2025-04-26T07:59:21.274060Z",
     "start_time": "2025-04-26T07:59:06.400847Z"
    }
   },
   "source": [
    "import os\n",
    "\n",
    "from llama_index.llms.groq import Groq\n",
    "from dotenv import load_dotenv\n",
    "\n",
    "load_dotenv()\n",
    "\n",
    "llm = Groq(model=\"gemma2-9b-it\", api_key=os.getenv(\"GROQ_API_KEY\"), temperature=0)\n",
    "response = llm.complete(\"when second world war ended\")\n",
    "\n",
    "print(response)\n"
   ],
   "outputs": [
    {
     "name": "stdout",
     "output_type": "stream",
     "text": [
      "World War II officially ended on **September 2, 1945**, when Japan signed the instrument of surrender aboard the USS Missouri in Tokyo Bay. \n",
      "\n"
     ]
    }
   ],
   "execution_count": 2
  },
  {
   "metadata": {
    "ExecuteTime": {
     "end_time": "2025-04-26T08:38:58.448893Z",
     "start_time": "2025-04-26T08:38:58.221137Z"
    }
   },
   "cell_type": "code",
   "source": [
    "import pandas as pd\n",
    "\n",
    "df = pd.read_csv(\"../../data/datasets/Nazario.csv\")\n",
    "\n",
    "df.head()"
   ],
   "id": "15a1d0501584721c",
   "outputs": [
    {
     "data": {
      "text/plain": [
       "                                              sender  \\\n",
       "0  Mail System Internal Data <MAILER-DAEMON@monke...   \n",
       "1                        cPanel <service@cpanel.com>   \n",
       "2    Microsoft Outlook <recepcao@unimedceara.com.br>   \n",
       "3                     Ann Garcia <AnGarcia@mcoe.org>   \n",
       "4                 \"USAA\" <usaaacctupdate@sccu4u.com>   \n",
       "\n",
       "                                 receiver  \\\n",
       "0                                     NaN   \n",
       "1                         jose@monkey.org   \n",
       "2                                     NaN   \n",
       "3     \"info@maaaaa.org\" <info@maaaaa.org>   \n",
       "4  Recipients <usaaacctupdate@sccu4u.com>   \n",
       "\n",
       "                                    date  \\\n",
       "0             28 Sep 2017 09:57:25 -0400   \n",
       "1        Fri, 30 Oct 2015 00:00:48 -0500   \n",
       "2  Fri, 30 Oct 2015 06:21:59 -0300 (BRT)   \n",
       "3        Fri, 30 Oct 2015 14:54:33 +0000   \n",
       "4        Fri, 30 Oct 2015 14:02:33 -0500   \n",
       "\n",
       "                                             subject  \\\n",
       "0  DON'T DELETE THIS MESSAGE -- FOLDER INTERNAL DATA   \n",
       "1                                Verify Your Account   \n",
       "2                          Helpdesk Mailbox Alert!!!   \n",
       "3                               IT-Service Help Desk   \n",
       "4      Final USAA Reminder - Update Your Account Now   \n",
       "\n",
       "                                                body  urls  label  \n",
       "0  This text is part of the internal format of yo...     1      1  \n",
       "1  Business with  \\t\\t\\t\\t\\t\\t\\t\\tcPanel & WHM \\t...     1      1  \n",
       "2  Your two incoming mails were placed on pending...     1      1  \n",
       "3  Password will expire in 3 days. Click Here To ...     0      1  \n",
       "4  To ensure delivery to your inbox, please add U...     1      1  "
      ],
      "text/html": [
       "<div>\n",
       "<style scoped>\n",
       "    .dataframe tbody tr th:only-of-type {\n",
       "        vertical-align: middle;\n",
       "    }\n",
       "\n",
       "    .dataframe tbody tr th {\n",
       "        vertical-align: top;\n",
       "    }\n",
       "\n",
       "    .dataframe thead th {\n",
       "        text-align: right;\n",
       "    }\n",
       "</style>\n",
       "<table border=\"1\" class=\"dataframe\">\n",
       "  <thead>\n",
       "    <tr style=\"text-align: right;\">\n",
       "      <th></th>\n",
       "      <th>sender</th>\n",
       "      <th>receiver</th>\n",
       "      <th>date</th>\n",
       "      <th>subject</th>\n",
       "      <th>body</th>\n",
       "      <th>urls</th>\n",
       "      <th>label</th>\n",
       "    </tr>\n",
       "  </thead>\n",
       "  <tbody>\n",
       "    <tr>\n",
       "      <th>0</th>\n",
       "      <td>Mail System Internal Data &lt;MAILER-DAEMON@monke...</td>\n",
       "      <td>NaN</td>\n",
       "      <td>28 Sep 2017 09:57:25 -0400</td>\n",
       "      <td>DON'T DELETE THIS MESSAGE -- FOLDER INTERNAL DATA</td>\n",
       "      <td>This text is part of the internal format of yo...</td>\n",
       "      <td>1</td>\n",
       "      <td>1</td>\n",
       "    </tr>\n",
       "    <tr>\n",
       "      <th>1</th>\n",
       "      <td>cPanel &lt;service@cpanel.com&gt;</td>\n",
       "      <td>jose@monkey.org</td>\n",
       "      <td>Fri, 30 Oct 2015 00:00:48 -0500</td>\n",
       "      <td>Verify Your Account</td>\n",
       "      <td>Business with  \\t\\t\\t\\t\\t\\t\\t\\tcPanel &amp; WHM \\t...</td>\n",
       "      <td>1</td>\n",
       "      <td>1</td>\n",
       "    </tr>\n",
       "    <tr>\n",
       "      <th>2</th>\n",
       "      <td>Microsoft Outlook &lt;recepcao@unimedceara.com.br&gt;</td>\n",
       "      <td>NaN</td>\n",
       "      <td>Fri, 30 Oct 2015 06:21:59 -0300 (BRT)</td>\n",
       "      <td>Helpdesk Mailbox Alert!!!</td>\n",
       "      <td>Your two incoming mails were placed on pending...</td>\n",
       "      <td>1</td>\n",
       "      <td>1</td>\n",
       "    </tr>\n",
       "    <tr>\n",
       "      <th>3</th>\n",
       "      <td>Ann Garcia &lt;AnGarcia@mcoe.org&gt;</td>\n",
       "      <td>\"info@maaaaa.org\" &lt;info@maaaaa.org&gt;</td>\n",
       "      <td>Fri, 30 Oct 2015 14:54:33 +0000</td>\n",
       "      <td>IT-Service Help Desk</td>\n",
       "      <td>Password will expire in 3 days. Click Here To ...</td>\n",
       "      <td>0</td>\n",
       "      <td>1</td>\n",
       "    </tr>\n",
       "    <tr>\n",
       "      <th>4</th>\n",
       "      <td>\"USAA\" &lt;usaaacctupdate@sccu4u.com&gt;</td>\n",
       "      <td>Recipients &lt;usaaacctupdate@sccu4u.com&gt;</td>\n",
       "      <td>Fri, 30 Oct 2015 14:02:33 -0500</td>\n",
       "      <td>Final USAA Reminder - Update Your Account Now</td>\n",
       "      <td>To ensure delivery to your inbox, please add U...</td>\n",
       "      <td>1</td>\n",
       "      <td>1</td>\n",
       "    </tr>\n",
       "  </tbody>\n",
       "</table>\n",
       "</div>"
      ]
     },
     "execution_count": 3,
     "metadata": {},
     "output_type": "execute_result"
    }
   ],
   "execution_count": 3
  }
 ],
 "metadata": {
  "kernelspec": {
   "display_name": "Python 3",
   "language": "python",
   "name": "python3"
  },
  "language_info": {
   "codemirror_mode": {
    "name": "ipython",
    "version": 2
   },
   "file_extension": ".py",
   "mimetype": "text/x-python",
   "name": "python",
   "nbconvert_exporter": "python",
   "pygments_lexer": "ipython2",
   "version": "2.7.6"
  }
 },
 "nbformat": 4,
 "nbformat_minor": 5
}
